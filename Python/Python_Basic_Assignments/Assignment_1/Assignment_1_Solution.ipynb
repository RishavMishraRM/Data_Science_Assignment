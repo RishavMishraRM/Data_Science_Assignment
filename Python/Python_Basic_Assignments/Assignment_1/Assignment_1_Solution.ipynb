{
 "cells": [
  {
   "cell_type": "markdown",
   "id": "22d8f9cc",
   "metadata": {},
   "source": [
    "#### Question 1. In the below elements which of them are values or an expression? **eg:-** values can be integer or string and expressions will be mathematical operators.\n",
    "    `*`\n",
    "    `'hello'`\n",
    "    `-87.8`\n",
    "    `-`\n",
    "    `/`\n",
    "    `+`\n",
    "    `6`"
   ]
  },
  {
   "cell_type": "markdown",
   "id": "171160ff",
   "metadata": {},
   "source": [
    "#### Answer 1\n",
    "\n",
    "    `*`- Operator\n",
    "    `'hello'` - Value (String)\n",
    "    `-87.8` - Value (Float)\n",
    "    `-` - Operator\n",
    "    `/` - Operator\n",
    "    `+` - Operator\n",
    "    `6` - Value (Integer)"
   ]
  },
  {
   "cell_type": "markdown",
   "id": "ca06f610",
   "metadata": {},
   "source": [
    "#### Question 2. What is the difference between string and variable ?"
   ]
  },
  {
   "cell_type": "markdown",
   "id": "f9b8fca4",
   "metadata": {},
   "source": [
    "#### Answer 2 \n",
    "\n",
    "String :- String is one of the datatype which is collection of group of characters or single character which are inclosed in single quotes `''` or in double quotes `\"\"`. For example :- `new_str = 'Hello'` here in the example `Hello` is a string.\n",
    "<br><br>\n",
    "Variable :- Variable is a container which is used to store information, value or data as  int, float, str data-type. For example :- `new_val = \"new_str\"`, Here `new_val` is variable which is created here to hold a value `new_str` whose data type is string."
   ]
  },
  {
   "cell_type": "code",
   "execution_count": 1,
   "id": "f6ebbe4c",
   "metadata": {
    "ExecuteTime": {
     "end_time": "2023-05-21T19:49:29.920634Z",
     "start_time": "2023-05-21T19:49:29.874636Z"
    }
   },
   "outputs": [
    {
     "name": "stdout",
     "output_type": "stream",
     "text": [
      "<class 'str'>\n"
     ]
    }
   ],
   "source": [
    "new_str = 'Hello' # new_str here is variable and Hello is a string.\n",
    "print(type(new_str))"
   ]
  },
  {
   "cell_type": "markdown",
   "id": "a9cc5f78",
   "metadata": {},
   "source": [
    "#### Question 3. Describe three different data types."
   ]
  },
  {
   "cell_type": "markdown",
   "id": "c727c7f0",
   "metadata": {},
   "source": [
    "#### Answer 3\n",
    "1. Int : Int datatype is used to repersent the integer values. For example :-  x = 20, y = -30 <br><br>\n",
    "2. float : Float datatype is used to repersent the real numbers(decimal point) For example :-  a = 365.38, b = -22.99 <br><br>\n",
    "3. string: String is used to repersent the sequence of characters. Also the characters can be numbers, special character, and alphabates.  For example :- p = \"Hello World!\", q = \"$1%2&3!4@5\""
   ]
  },
  {
   "cell_type": "code",
   "execution_count": 2,
   "id": "548b5fe8",
   "metadata": {
    "ExecuteTime": {
     "end_time": "2023-05-21T19:49:32.735200Z",
     "start_time": "2023-05-21T19:49:32.712194Z"
    }
   },
   "outputs": [
    {
     "name": "stdout",
     "output_type": "stream",
     "text": [
      "20 <class 'int'> ,  -30 <class 'int'>\n",
      "\n",
      "365.38 <class 'float'> ,  -22.99 <class 'float'>\n",
      "\n",
      "Hello World! <class 'str'> ,  $1%2&3!4@5 <class 'str'>\n",
      "\n"
     ]
    }
   ],
   "source": [
    "x, y = 20, -30\n",
    "print(x, type(x), \", \", y, type(y))\n",
    "print()\n",
    "a, b = 365.38, -22.99\n",
    "print(a, type(a), \", \", b, type(b))\n",
    "print()\n",
    "p, q = \"Hello World!\", \"$1%2&3!4@5\"\n",
    "print(p, type(p), \", \", q, type(q))\n",
    "print()"
   ]
  },
  {
   "cell_type": "markdown",
   "id": "7d71f1a5",
   "metadata": {},
   "source": [
    "#### Question 4. What is an expression made up of? What do all expressions do?"
   ]
  },
  {
   "cell_type": "markdown",
   "id": "5532f79b",
   "metadata": {
    "ExecuteTime": {
     "end_time": "2023-05-21T18:41:24.565482Z",
     "start_time": "2023-05-21T18:41:24.545484Z"
    }
   },
   "source": [
    "#### Answer 4\n",
    "An expression is a combination of values, variables, operators, and calls to functions. Expressions need to be evaluated. If we ask Python to print an expression, the interpreter evaluates the expression and displays the result."
   ]
  },
  {
   "cell_type": "code",
   "execution_count": 3,
   "id": "569c2676",
   "metadata": {
    "ExecuteTime": {
     "end_time": "2023-05-21T19:49:36.681762Z",
     "start_time": "2023-05-21T19:49:36.644771Z"
    }
   },
   "outputs": [
    {
     "data": {
      "text/plain": [
       "800"
      ]
     },
     "execution_count": 3,
     "metadata": {},
     "output_type": "execute_result"
    }
   ],
   "source": [
    "10*89+10-100 #This equation writen here is a expression"
   ]
  },
  {
   "cell_type": "markdown",
   "id": "c3bc08ec",
   "metadata": {},
   "source": [
    "#### Question 5. This assignment statements, like spam = 10. What is the difference between an expression and a statement?"
   ]
  },
  {
   "cell_type": "markdown",
   "id": "44069269",
   "metadata": {},
   "source": [
    "#### Answer 5\n",
    "\n",
    "An expression is a combination of values, variables, and operators. When we write an expression, the interpreter evaluates it, and finds the value of the expression. An expression is evaluated as per the precedence of its operators. So that if there is more than one operator in an expression, their precedence decides which operation will be performed first.<br><br>\n",
    "\n",
    "For example :- Expression - 9*3+1000-531\n",
    "<br><br>\n",
    "A statement is a unit of code that create a variable or display a value. When we write a statement, the interpreter does whatever the statement says. In general, statements don’t have values. A statement is an instruction that a Python interpreter can execute. There are four types of statements in Python: print statements, assignment statements, conditional statements and looping statements.\n",
    "<br><br>\n",
    "For example :- spam = 10 "
   ]
  },
  {
   "cell_type": "markdown",
   "id": "e43ca770",
   "metadata": {},
   "source": [
    "#### Question 6. After running the following code, what does the variable bacon contain?"
   ]
  },
  {
   "cell_type": "code",
   "execution_count": 4,
   "id": "7ef304e4",
   "metadata": {
    "ExecuteTime": {
     "end_time": "2023-05-21T19:49:39.714617Z",
     "start_time": "2023-05-21T19:49:39.704600Z"
    }
   },
   "outputs": [
    {
     "name": "stdout",
     "output_type": "stream",
     "text": [
      "22\n"
     ]
    }
   ],
   "source": [
    "bacon = 22\n",
    "bacon + 1\n",
    "print(bacon)"
   ]
  },
  {
   "cell_type": "markdown",
   "id": "48afa57d",
   "metadata": {},
   "source": [
    "#### Answer 6\n",
    "After running the following code also the variable bacon will contain 22 only. The reason behind this is at first we have assigned the value 22 to bacon but the next time when we are adding one(1) to bacon we are not assigning it to bacon or any new variable. So, the value of value of bacon will be 22 only."
   ]
  },
  {
   "cell_type": "markdown",
   "id": "1a97095a",
   "metadata": {},
   "source": [
    "#### Question 7. What should the values of the following two terms be?\n",
    "`'spam' + 'spamspam'` <br>\n",
    "`'spam' * 3`"
   ]
  },
  {
   "cell_type": "markdown",
   "id": "2b0fb2cd",
   "metadata": {},
   "source": [
    "#### Answer 7\n",
    "\n",
    "In the first equation `'spam' + 'spamspam'` the  value of the equation will be `'spamspamspam'` because this use case is called string concatenation where we add two string with addition `+` sign.\n",
    "\n",
    "In the first equation `'spam' + 'spamspam'` the  value of the equation will be `'spamspamspam'` because this use case is called string multiplication where we multiply string with multiply `*` sign."
   ]
  },
  {
   "cell_type": "code",
   "execution_count": 5,
   "id": "608c3e08",
   "metadata": {
    "ExecuteTime": {
     "end_time": "2023-05-21T19:49:43.757921Z",
     "start_time": "2023-05-21T19:49:43.744908Z"
    }
   },
   "outputs": [
    {
     "name": "stdout",
     "output_type": "stream",
     "text": [
      "spamspamspam\n",
      "spamspamspam\n"
     ]
    }
   ],
   "source": [
    "print('spam'+'spamspam') # string concatenation\n",
    "print('spam'*3) # string multiplication"
   ]
  },
  {
   "cell_type": "markdown",
   "id": "11490c23",
   "metadata": {},
   "source": [
    "#### Question 8. Why is eggs a valid variable name while 100 is invalid?"
   ]
  },
  {
   "cell_type": "markdown",
   "id": "b5e446c2",
   "metadata": {},
   "source": [
    "#### Answer 8\n",
    "\n",
    "In Python, we have several rules for naming a varible in which one of the reason is variable name can't be started with a number. Some other python naming rules for a variable are as follows:- <br><br><br>\n",
    "\n",
    "1. Variable name cannot start with a number.<br><br>\n",
    "2. Variable name must start with a letter or the underscore character.(New, _new)<br><br>\n",
    "3. Variable name can only contain alpha-numeric characters and underscores (A-z, 0-9, & _ ).<br><br>\n",
    "4. Variable names are case-sensitive (Variable, variable and VARIABLE are three different variables).<br><br>\n",
    "5. The reserved keywords can't be used for naming the variables.<br><br>"
   ]
  },
  {
   "cell_type": "code",
   "execution_count": 6,
   "id": "8543f8ef",
   "metadata": {
    "ExecuteTime": {
     "end_time": "2023-05-21T19:49:47.270401Z",
     "start_time": "2023-05-21T19:49:47.256392Z"
    }
   },
   "outputs": [
    {
     "name": "stdout",
     "output_type": "stream",
     "text": [
      "Name\n"
     ]
    }
   ],
   "source": [
    "eggs ='Name' # Valid variable Initilization\n",
    "print(eggs) #prints the value of eggs"
   ]
  },
  {
   "cell_type": "code",
   "execution_count": 7,
   "id": "a0c04194",
   "metadata": {
    "ExecuteTime": {
     "end_time": "2023-05-21T19:49:47.837789Z",
     "start_time": "2023-05-21T19:49:47.816768Z"
    }
   },
   "outputs": [
    {
     "ename": "SyntaxError",
     "evalue": "cannot assign to literal (2426793385.py, line 1)",
     "output_type": "error",
     "traceback": [
      "\u001b[1;36m  Input \u001b[1;32mIn [7]\u001b[1;36m\u001b[0m\n\u001b[1;33m    100 = 'hello' # Invalid Variable Initilization\u001b[0m\n\u001b[1;37m    ^\u001b[0m\n\u001b[1;31mSyntaxError\u001b[0m\u001b[1;31m:\u001b[0m cannot assign to literal\n"
     ]
    }
   ],
   "source": [
    "100 = 'hello' # Invalid Variable Initilization\n",
    "print(100) # Raises a Syntax Error as 100 is not a valid variable name"
   ]
  },
  {
   "cell_type": "markdown",
   "id": "ca45495b",
   "metadata": {},
   "source": [
    "#### Question 9. What three functions can be used to get the integer, floating-point number, or string version of a value?"
   ]
  },
  {
   "cell_type": "markdown",
   "id": "eb2a2e03",
   "metadata": {},
   "source": [
    "#### Answer 9 \n",
    "\n",
    "In Python, we will be using keywords like <br><br>\n",
    "int( ) : convert to integer<br>\n",
    "float( ) : convert to floating-point number<br>\n",
    "string( ) : convert to string<br><br>\n",
    "We call these methods as typecasting in python.<br>"
   ]
  },
  {
   "cell_type": "code",
   "execution_count": 8,
   "id": "d0063e58",
   "metadata": {
    "ExecuteTime": {
     "end_time": "2023-05-21T19:49:51.159391Z",
     "start_time": "2023-05-21T19:49:51.138388Z"
    }
   },
   "outputs": [
    {
     "name": "stdout",
     "output_type": "stream",
     "text": [
      "int(10.0) -  10 <class 'int'>\n",
      "float(10.0) -  10.0 <class 'float'>\n",
      "str(10.0) -  10 <class 'float'>\n"
     ]
    }
   ],
   "source": [
    "a = int(10.00)\n",
    "print('int(10.0) - ',a, type(a)) # converts given input to int\n",
    "b = float(10.00)\n",
    "print('float(10.0) - ', b, type(b)) # converts given input to float\n",
    "c = str(10)\n",
    "print('str(10.0) - ', c, type(b)) # converts given input to string"
   ]
  },
  {
   "cell_type": "markdown",
   "id": "3542019c",
   "metadata": {},
   "source": [
    "#### Question 10. Why does this expression cause an error? How can you fix it?"
   ]
  },
  {
   "cell_type": "code",
   "execution_count": 9,
   "id": "d7c9ed74",
   "metadata": {
    "ExecuteTime": {
     "end_time": "2023-05-21T19:49:54.100465Z",
     "start_time": "2023-05-21T19:49:54.064469Z"
    }
   },
   "outputs": [
    {
     "ename": "TypeError",
     "evalue": "can only concatenate str (not \"int\") to str",
     "output_type": "error",
     "traceback": [
      "\u001b[1;31m---------------------------------------------------------------------------\u001b[0m",
      "\u001b[1;31mTypeError\u001b[0m                                 Traceback (most recent call last)",
      "Input \u001b[1;32mIn [9]\u001b[0m, in \u001b[0;36m<cell line: 1>\u001b[1;34m()\u001b[0m\n\u001b[1;32m----> 1\u001b[0m \u001b[38;5;124;43m'\u001b[39;49m\u001b[38;5;124;43mI have eaten \u001b[39;49m\u001b[38;5;124;43m'\u001b[39;49m\u001b[43m \u001b[49m\u001b[38;5;241;43m+\u001b[39;49m\u001b[43m \u001b[49m\u001b[38;5;241;43m99\u001b[39;49m \u001b[38;5;241m+\u001b[39m \u001b[38;5;124m'\u001b[39m\u001b[38;5;124m burritos.\u001b[39m\u001b[38;5;124m'\u001b[39m\n",
      "\u001b[1;31mTypeError\u001b[0m: can only concatenate str (not \"int\") to str"
     ]
    }
   ],
   "source": [
    "'I have eaten ' + 99 + ' burritos.'"
   ]
  },
  {
   "cell_type": "markdown",
   "id": "3d336b8c",
   "metadata": {},
   "source": [
    "#### Answer 10 \n",
    "\n",
    "In the given expression, concatination of a string and an integer is not possible. They both should be in same data type then only we can use add `+` sign to concatenate two expressions. <br><br>\n",
    "\n",
    "So, here we will be typecasting \"99\" into string to make the expression work.<br>"
   ]
  },
  {
   "cell_type": "code",
   "execution_count": 10,
   "id": "e0ebce92",
   "metadata": {
    "ExecuteTime": {
     "end_time": "2023-05-21T19:49:56.941796Z",
     "start_time": "2023-05-21T19:49:56.919776Z"
    }
   },
   "outputs": [
    {
     "data": {
      "text/plain": [
       "'I have eaten 99 burritos.'"
      ]
     },
     "execution_count": 10,
     "metadata": {},
     "output_type": "execute_result"
    }
   ],
   "source": [
    "'I have eaten ' + str(99) + ' burritos.'"
   ]
  }
 ],
 "metadata": {
  "kernelspec": {
   "display_name": "Python 3 (ipykernel)",
   "language": "python",
   "name": "python3"
  },
  "language_info": {
   "codemirror_mode": {
    "name": "ipython",
    "version": 3
   },
   "file_extension": ".py",
   "mimetype": "text/x-python",
   "name": "python",
   "nbconvert_exporter": "python",
   "pygments_lexer": "ipython3",
   "version": "3.9.12"
  },
  "varInspector": {
   "cols": {
    "lenName": 16,
    "lenType": 16,
    "lenVar": 40
   },
   "kernels_config": {
    "python": {
     "delete_cmd_postfix": "",
     "delete_cmd_prefix": "del ",
     "library": "var_list.py",
     "varRefreshCmd": "print(var_dic_list())"
    },
    "r": {
     "delete_cmd_postfix": ") ",
     "delete_cmd_prefix": "rm(",
     "library": "var_list.r",
     "varRefreshCmd": "cat(var_dic_list()) "
    }
   },
   "types_to_exclude": [
    "module",
    "function",
    "builtin_function_or_method",
    "instance",
    "_Feature"
   ],
   "window_display": false
  }
 },
 "nbformat": 4,
 "nbformat_minor": 5
}
