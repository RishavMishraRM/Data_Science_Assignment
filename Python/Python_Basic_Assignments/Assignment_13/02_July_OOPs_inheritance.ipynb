{
 "cells": [
  {
   "cell_type": "markdown",
   "id": "43922b00",
   "metadata": {},
   "source": [
    "#### Question 1. Explain what inheritance is in object-oriented programming and why it is used."
   ]
  },
  {
   "cell_type": "markdown",
   "id": "a050fb17",
   "metadata": {},
   "source": [
    "#### Answer 1\n",
    "<br>\n",
    "Inheritance in oops program allows us to define a class(Child Class) that inherits all the methods and properties from another class(Parent Class).\n",
    "<br>\n",
    "\n",
    "`Parent class` - It is the class being inherited from or whose methods and properties has been taken, also called base class.\n",
    "<br>\n",
    "\n",
    "`Child class` - It is the class that inherits from another class or which takes methods and properties from other class, also called derived class.\n",
    "<br>\n",
    "1. The use of Inheritance:- <br>\n",
    "2. It provides the reusability of a code. <br>\n",
    "3. It allows us to add more features to a class without modifying it.<br>\n",
    "4. Less development and maintenance expenses result from an inheritance. <br>\n",
    "5. It is used to show relationships.<br>"
   ]
  },
  {
   "cell_type": "code",
   "execution_count": 8,
   "id": "1348d927",
   "metadata": {
    "ExecuteTime": {
     "end_time": "2023-07-05T20:13:57.717745Z",
     "start_time": "2023-07-05T20:13:57.692744Z"
    }
   },
   "outputs": [
    {
     "name": "stdout",
     "output_type": "stream",
     "text": [
      "Rahul 23\n",
      "Mayank 23\n"
     ]
    }
   ],
   "source": [
    "# parent class\n",
    "class Friend():\n",
    "    def __init__(self, name, age):\n",
    "        self.name = name\n",
    "        self.age = age\n",
    "    def display(self):\n",
    "        print(self.name, self.age)\n",
    "# child class\n",
    "class Son(Friend):\n",
    "    def __init__(self, name, age):\n",
    "        self.Name = name\n",
    "        self.Age = age\n",
    "        # inheriting the properties of parent class\n",
    "        super().__init__(\"Rahul\", age)\n",
    "    def displayInfo(self):\n",
    "        print(self.Name, self.Age)\n",
    "obj = Son(\"Mayank\", 23)\n",
    "obj.display()\n",
    "obj.displayInfo()"
   ]
  },
  {
   "cell_type": "markdown",
   "id": "ce2608d7",
   "metadata": {},
   "source": [
    "#### Question 2. Discuss the concept of single inheritance and multiple inheritance, highlighting their differences and advantages."
   ]
  },
  {
   "cell_type": "markdown",
   "id": "0aa10c7a",
   "metadata": {},
   "source": [
    "#### Answer 2\n",
    "<br>\n",
    "In inheritance, the existing class is called the parent class, superclass or the base class. The new class called the child class, subclass or derived class. Using inheritance, the subclass can use the properties and methods of the superclass.\n",
    "<br>\n",
    "\n",
    "`Single Inheritance` - A and B are two classes. Class B inherits class A. Therefore, Class B is the subclass and class A is the superclass. Thus, class B can use the properties and methods of class A. Thus, this kind of inheritance is called single inheritance. As there is only one level, it is also called single level inheritance.\n",
    "<br> \n",
    "\n",
    "`A --> B`\n",
    "<br>\n",
    "\n",
    "`Multiple Inheritance` - A, B and C are three classes. Class C inherits from both A and B classes. Therefore, class C can inherit properties and methods of both class A and B. Thus, this kind of inheritance is called multiple inheritance. As there are two levels for C, it is also called multiple level inheritance.\n",
    "<br>\n",
    "\n",
    "`A --> C <-- B`\n",
    "<br>\n",
    "\n",
    "| Single Inheritance | Multiple Inheritance |\n",
    "| -- | -- |\n",
    "| A type of inheritance that enables a derived class to inherit attributes and methods from a single parent class | A type of inheritance that enables a derived class to inherit attributes and methods from more than one parent class |\n",
    "| A subclass inherits from a single super class | A subclass inherits from a multiple super class |\n",
    "| Programmer can implement single inheritance using any programming lan that support oops | Python supports multiple inheritance while C#, Java and other not. |\n",
    "| Simpler than multiple inheritance | Complex than single and multiple inheritance |"
   ]
  },
  {
   "cell_type": "code",
   "execution_count": 9,
   "id": "737678e8",
   "metadata": {
    "ExecuteTime": {
     "end_time": "2023-07-08T16:14:08.312213Z",
     "start_time": "2023-07-08T16:14:08.265210Z"
    }
   },
   "outputs": [
    {
     "name": "stdout",
     "output_type": "stream",
     "text": [
      "This function is in parent class.\n",
      "This function is in child class.\n"
     ]
    }
   ],
   "source": [
    "# single inheritance\n",
    "# Parent class\n",
    "class Parent:\n",
    "    def func1(self):\n",
    "        print(\"This function is in parent class.\")\n",
    "# Child class\n",
    "class Child(Parent):\n",
    "    def func2(self):\n",
    "        print(\"This function is in child class.\")\n",
    "        \n",
    "object = Child()\n",
    "object.func1()\n",
    "object.func2()"
   ]
  },
  {
   "cell_type": "code",
   "execution_count": 10,
   "id": "d0f9e476",
   "metadata": {
    "ExecuteTime": {
     "end_time": "2023-07-08T16:15:28.484207Z",
     "start_time": "2023-07-08T16:15:28.460208Z"
    }
   },
   "outputs": [
    {
     "name": "stdout",
     "output_type": "stream",
     "text": [
      "Father : RAM\n",
      "Mother : SITA\n"
     ]
    }
   ],
   "source": [
    "# multiple inheritance\n",
    "# Parent class 1\n",
    "class Mother:\n",
    "    mothername = \"\"\n",
    "    def mother(self):\n",
    "        print(self.mothername)\n",
    "# Parent class 2\n",
    "class Father:\n",
    "    fathername = \"\"\n",
    "    def father(self):\n",
    "        print(self.fathername)\n",
    "# Child class\n",
    "class Son(Mother, Father):\n",
    "    def parents(self):\n",
    "        print(\"Father :\", self.fathername)\n",
    "        print(\"Mother :\", self.mothername)\n",
    "\n",
    "s1 = Son()\n",
    "s1.fathername = \"RAM\"\n",
    "s1.mothername = \"SITA\"\n",
    "s1.parents()"
   ]
  },
  {
   "cell_type": "markdown",
   "id": "81e6e8ee",
   "metadata": {},
   "source": [
    "#### Question 3. Explain the terms \"base class\" and \"derived class\" in the context of inheritance."
   ]
  },
  {
   "cell_type": "markdown",
   "id": "0524aba5",
   "metadata": {},
   "source": [
    "#### Answer 3\n",
    "<br>\n",
    "\n",
    "Base Class : <br>\n",
    "A class from which properties are inherited. It is also known as parent class or superclass. It cannot inherit properties and methods of Derived Class.\n",
    "<br><br>\n",
    "Derived Class : <br>\n",
    "A class from which is inherited from the base class. It is also known as child class subclass. It can inherit properties and methods of Base Class."
   ]
  },
  {
   "cell_type": "code",
   "execution_count": 12,
   "id": "f477b3fe",
   "metadata": {
    "ExecuteTime": {
     "end_time": "2023-07-08T18:06:52.200012Z",
     "start_time": "2023-07-08T18:06:52.178015Z"
    }
   },
   "outputs": [
    {
     "name": "stdout",
     "output_type": "stream",
     "text": [
      "This function is in base class.\n",
      "This function is in derived class.\n"
     ]
    }
   ],
   "source": [
    "# Base class\n",
    "class Base:\n",
    "    def func1(self):\n",
    "        print(\"This function is in base class.\")\n",
    "# Derived class\n",
    "class Derived(Base):\n",
    "    def func2(self):\n",
    "        print(\"This function is in derived class.\")\n",
    "        \n",
    "object = Derived()\n",
    "object.func1()\n",
    "object.func2()"
   ]
  },
  {
   "cell_type": "markdown",
   "id": "8a823cab",
   "metadata": {},
   "source": [
    "#### Question 4. What is the significance of the \"protected\" access modifier in inheritance? How does it differ from \"private\" and \"public\" modifiers?"
   ]
  },
  {
   "cell_type": "markdown",
   "id": "0fc762f0",
   "metadata": {},
   "source": [
    "#### Answer 4\n",
    "<br>\n",
    "The protected members are inherited by the child classes and can access them as its own members. But we can’t access these members using the reference of the parent class. We can access protected members only by using child class reference. \n",
    "\n",
    "It is very different from private and public class as public modifiers can be called by anyone and private is only called inside the class but protected is called in child or derived class. "
   ]
  },
  {
   "cell_type": "code",
   "execution_count": 17,
   "id": "ac15a9fb",
   "metadata": {
    "ExecuteTime": {
     "end_time": "2023-07-08T19:59:34.576873Z",
     "start_time": "2023-07-08T19:59:34.480872Z"
    }
   },
   "outputs": [
    {
     "name": "stdout",
     "output_type": "stream",
     "text": [
      "Name:  Rishav\n",
      "Roll:  177\n",
      "Branch:  Computer Science\n"
     ]
    }
   ],
   "source": [
    "# super class\n",
    "class Student:\n",
    "    # protected data members\n",
    "    _name = None\n",
    "    _roll = None\n",
    "    _branch = None\n",
    "    def __init__(self, name, roll, branch):\n",
    "        self._name = name\n",
    "        self._roll = roll\n",
    "        self._branch = branch\n",
    "# protected member function\n",
    "    def _displayRollAndBranch(self):\n",
    "        # accessing protected data members\n",
    "        print(\"Roll: \", self._roll)\n",
    "        print(\"Branch: \", self._branch)\n",
    "# derived class\n",
    "class Geek(Student):\n",
    "    # constructor\n",
    "    def __init__(self, name, roll, branch):\n",
    "        Student.__init__(self, name, roll, branch)\n",
    "# public member function\n",
    "    def displayDetails(self):\n",
    "        print(\"Name: \", self._name)\n",
    "        self._displayRollAndBranch()\n",
    "# creating objects of the derived class\t\n",
    "obj = Geek(\"Rishav\", 177, \"Computer Science\")\n",
    "obj.displayDetails()"
   ]
  },
  {
   "cell_type": "markdown",
   "id": "d3ec11b9",
   "metadata": {},
   "source": [
    "#### Question 5. What is the purpose of the \"super\" keyword in inheritance? Provide an example."
   ]
  },
  {
   "cell_type": "markdown",
   "id": "e65f8a86",
   "metadata": {},
   "source": [
    "#### Answer 5\n",
    "<br>\n",
    "The super() function in inheritance is used to give access to methods and properties of a parent or sibling class. This function returns an object that represents the parent class.  It allows us to call methods defined in the superclass from the subclass, enabling us to extend and customize the functionality inherited from the parent class."
   ]
  },
  {
   "cell_type": "code",
   "execution_count": 1,
   "id": "63d06ba2",
   "metadata": {
    "ExecuteTime": {
     "end_time": "2023-07-09T15:05:43.258017Z",
     "start_time": "2023-07-09T15:05:43.211034Z"
    }
   },
   "outputs": [
    {
     "name": "stdout",
     "output_type": "stream",
     "text": [
      "The ID is: 103\n",
      "The Name is: Rishav\n",
      "The Address is: Noida\n",
      "The Emails is: mail@outlook\n"
     ]
    }
   ],
   "source": [
    "class Employee():\n",
    "    def __init__(self, id, name, Add):\n",
    "        self.id = id\n",
    "        self.name = name\n",
    "        self.Add = Add\n",
    "\n",
    "# Class freelancer inherits Employee\n",
    "class Freelance(Employee):\n",
    "    def __init__(self, id, name, Add, Emails):\n",
    "        super().__init__(id, name, Add)\n",
    "        self.Emails = Emails\n",
    "\n",
    "Emp_1 = Freelance(103, \"Rishav\", \"Noida\" , \"mail@outlook\")\n",
    "print('The ID is:', Emp_1.id)\n",
    "print('The Name is:', Emp_1.name)\n",
    "print('The Address is:', Emp_1.Add)\n",
    "print('The Emails is:', Emp_1.Emails)"
   ]
  },
  {
   "cell_type": "markdown",
   "id": "aeffce0a",
   "metadata": {},
   "source": [
    "#### Question 6. Create a base class called \"Vehicle\" with attributes like \"make\", \"model\", and \"year\". Then, create a derived class called \"Car\" that inherits from \"Vehicle\" and adds an attribute called \"fuel_type\". Implement appropriate methods in both classes."
   ]
  },
  {
   "cell_type": "markdown",
   "id": "378ff948",
   "metadata": {},
   "source": [
    "#### Answer 6\n",
    "<br>\n",
    "Vehicle"
   ]
  },
  {
   "cell_type": "code",
   "execution_count": 4,
   "id": "fc339b18",
   "metadata": {
    "ExecuteTime": {
     "end_time": "2023-07-11T19:57:17.079054Z",
     "start_time": "2023-07-11T19:57:17.065058Z"
    }
   },
   "outputs": [
    {
     "name": "stdout",
     "output_type": "stream",
     "text": [
      "Car made by  TATA\n",
      "Car's model is   XS-01\n",
      "Car's launching year is   2023\n",
      "Car's varient is   Disel\n"
     ]
    }
   ],
   "source": [
    "class Vehicle:\n",
    "    def __init__(self, make, model, year):\n",
    "        self.make = make\n",
    "        self.model = model\n",
    "        self.year = year\n",
    "    \n",
    "class Car(Vehicle):\n",
    "    def __init__(self, make, model, year, fuel_type):\n",
    "        super().__init__(make, model, year)\n",
    "        self.fuel_type = fuel_type\n",
    "        \n",
    "RangeRover = Car(\"TATA\", \"XS-01\", 2023, \"Disel\")\n",
    "\n",
    "print(\"Car made by \", RangeRover.make)\n",
    "print(\"Car's model is  \", RangeRover.model)\n",
    "print(\"Car's launching year is  \", RangeRover.year)\n",
    "print(\"Car's varient is  \", RangeRover.fuel_type)"
   ]
  },
  {
   "cell_type": "markdown",
   "id": "f4f1030e",
   "metadata": {},
   "source": [
    "#### Question 7. Create a base class called \"Employee\" with attributes like \"name\" and \"salary.\" Derive two classes, \"Manager\" and \"Developer,\" from \"Employee.\" Add an additional attribute called \"department\" for the \"Manager\" class and \"programming_language\" for the \"Developer\" class."
   ]
  },
  {
   "cell_type": "markdown",
   "id": "9ab3758c",
   "metadata": {},
   "source": [
    "#### Answer 7\n",
    "<br>\n",
    "Employee"
   ]
  },
  {
   "cell_type": "code",
   "execution_count": 8,
   "id": "f09812ac",
   "metadata": {
    "ExecuteTime": {
     "end_time": "2023-07-11T20:18:16.263748Z",
     "start_time": "2023-07-11T20:18:16.248750Z"
    }
   },
   "outputs": [
    {
     "name": "stdout",
     "output_type": "stream",
     "text": [
      "Rahul is Manager in HR department with salary of 250000 per month\n",
      "Ritesh is Developer in Python programming language with salary of 130000 per month\n"
     ]
    }
   ],
   "source": [
    "class Employee:\n",
    "    def __init__(self, name, salary):\n",
    "        self.name = name\n",
    "        self.salary = salary\n",
    "        \n",
    "class Manager(Employee):\n",
    "      def __init__(self, name, salary, department):\n",
    "            super().__init__(name, salary)\n",
    "            self.department = department\n",
    "            \n",
    "class Developer(Employee):\n",
    "    def __init__(self, name, salary, programming_language):\n",
    "            super().__init__(name, salary)\n",
    "            self.programming_language = programming_language\n",
    "            \n",
    "\n",
    "Rahul = Manager(\"Rahul\", 250000, \"HR\")\n",
    "Ritesh = Developer(\"Ritesh\", 130000, \"Python\")\n",
    "\n",
    "print(f\"{Rahul.name} is Manager in {Rahul.department} department with salary of {Rahul.salary} per month\")\n",
    "\n",
    "print(f\"{Ritesh.name} is Developer in {Ritesh.programming_language} programming language with salary of {Ritesh.salary} per month\")"
   ]
  },
  {
   "cell_type": "markdown",
   "id": "b519f362",
   "metadata": {},
   "source": [
    "#### Question 8. Design a base class called \"Shape\" with attributes like \"colour\" and \"border_width.\" Create derived classes, \"Rectangle\" and \"Circle,\" that inherit from \"Shape\" and add specific attributes like \"length\" and \"width\" for the \"Rectangle\" class and \"radius\" for the \"Circle\" class."
   ]
  },
  {
   "cell_type": "markdown",
   "id": "6b1f7f3a",
   "metadata": {},
   "source": [
    "#### Answer 8\n",
    "<br>\n",
    "Shape"
   ]
  },
  {
   "cell_type": "code",
   "execution_count": 12,
   "id": "2593cbaa",
   "metadata": {
    "ExecuteTime": {
     "end_time": "2023-07-11T20:32:11.171078Z",
     "start_time": "2023-07-11T20:32:11.154072Z"
    }
   },
   "outputs": [
    {
     "name": "stdout",
     "output_type": "stream",
     "text": [
      "My lunchbox is in Blue colour with border width of 1cm, its length is 15cm and width of 5cm\n",
      "Bangle is in cricle shape with Red color, border width of 3cm and radius of 2.6cm\n"
     ]
    }
   ],
   "source": [
    "class Shape:\n",
    "    def __init__(self, colour, border_width):\n",
    "        self.colour = colour\n",
    "        self.border_width = border_width\n",
    "        \n",
    "class Rectangle(Shape):\n",
    "    def __init__(self, colour, border_width, length, width):\n",
    "            super().__init__(colour, border_width)\n",
    "            self.length = length\n",
    "            self.width = width\n",
    "    \n",
    "class Circle(Shape):\n",
    "    def __init__(self, colour, border_width, radius):\n",
    "            super().__init__(colour, border_width)\n",
    "            self.radius = radius\n",
    "            \n",
    "            \n",
    "LunchBox = Rectangle(\"Blue\", 1, 15, 5)\n",
    "Bangles = Circle(\"Red\", 3, 2.6)\n",
    "\n",
    "print(f\"My lunchbox is in {LunchBox.colour} colour with border width of {LunchBox.border_width}cm, its length is {LunchBox.length}cm and width of {LunchBox.width}cm\")\n",
    "print(f\"Bangle is in cricle shape with {Bangles.colour} color, border width of {Bangles.border_width}cm and radius of {Bangles.radius}cm\")"
   ]
  },
  {
   "cell_type": "markdown",
   "id": "6fd09bca",
   "metadata": {},
   "source": [
    "#### Question 9. Create a base class called \"Device\" with attributes like \"brand\" and \"model.\" Derive two classes, \"Phone\" and \"Tablet,\" from \"Device.\" Add specific attributes like \"screen_size\" for the \"Phone\" class and \"battery_capacity\" for the \"Tablet\" class."
   ]
  },
  {
   "cell_type": "markdown",
   "id": "bee083af",
   "metadata": {},
   "source": [
    "#### Answer 9\n",
    "<br>\n",
    "Device"
   ]
  },
  {
   "cell_type": "code",
   "execution_count": 15,
   "id": "b8d1631c",
   "metadata": {
    "ExecuteTime": {
     "end_time": "2023-07-11T20:44:03.467350Z",
     "start_time": "2023-07-11T20:44:03.450356Z"
    }
   },
   "outputs": [
    {
     "name": "stdout",
     "output_type": "stream",
     "text": [
      "I got Samsung A80 phone with screen size of 6.9 inch\n",
      "I got Samsung Tab_A tablet with battery capacity of 3800 inch\n"
     ]
    }
   ],
   "source": [
    "class Device:\n",
    "    def __init__(self, brand, model):\n",
    "        self.brand = brand\n",
    "        self.model = model\n",
    "        \n",
    "class Phone(Device):\n",
    "    def __init__(self, brand, model, screen_size):\n",
    "            super().__init__(brand, model)\n",
    "            self.screen_size = screen_size\n",
    "    \n",
    "class Tablet(Device):\n",
    "    def __init__(self, brand, model, battery_capacity):\n",
    "            super().__init__(brand, model)\n",
    "            self.battery_capacity = battery_capacity\n",
    "            \n",
    "Galaxy_A80= Phone(\"Samsung\", \"A80\", 6.9)\n",
    "Galaxy_A = Tablet(\"Samsung\", \"Tab_A\", 3800)\n",
    "\n",
    "print(f'I got {Galaxy_A80.brand} {Galaxy_A80.model} phone with screen size of {Galaxy_A80.screen_size} inch')\n",
    "print(f'I got {Galaxy_A.brand} {Galaxy_A.model} tablet with battery capacity of {Galaxy_A.battery_capacity} inch')"
   ]
  },
  {
   "cell_type": "markdown",
   "id": "f201c9f6",
   "metadata": {},
   "source": [
    "#### Question 10. Create a base class called \"BankAccount\" with attributes like \"account_number\" and \"balance.\" Derive two classes, \"SavingsAccount\" and \"CheckingAccount,\" from \"BankAccount.\" Add specific methods like \"calculate_interest\" for the \"SavingsAccount\" class and \"deduct_fees\" for the \"CheckingAccount\" class."
   ]
  },
  {
   "cell_type": "markdown",
   "id": "8e08aeb1",
   "metadata": {},
   "source": [
    "#### Answer 10\n",
    "<br>\n",
    "BankAccount"
   ]
  },
  {
   "cell_type": "code",
   "execution_count": 26,
   "id": "c9f9a50c",
   "metadata": {
    "ExecuteTime": {
     "end_time": "2023-07-11T21:04:34.263517Z",
     "start_time": "2023-07-11T21:04:34.243528Z"
    }
   },
   "outputs": [],
   "source": [
    "class BankAccount:\n",
    "    def __init__(self, account_number, balance):\n",
    "        self.account_number = account_number\n",
    "        self.balance = balance\n",
    "\n",
    "\n",
    "class SavingsAccount(BankAccount):\n",
    "    def __init__(self, account_number, balance):\n",
    "        super().__init__(account_number, balance)\n",
    "\n",
    "    def calculate_interest(self, rate):\n",
    "        interest = self.balance * rate\n",
    "        self.balance += interest\n",
    "\n",
    "\n",
    "class CheckingAccount(BankAccount):\n",
    "    def __init__(self, account_number, balance):\n",
    "        super().__init__(account_number, balance)\n",
    "\n",
    "    def deduct_fees(self, fee):\n",
    "        self.balance -= fee\n",
    "\n"
   ]
  },
  {
   "cell_type": "code",
   "execution_count": 27,
   "id": "0105bf22",
   "metadata": {
    "ExecuteTime": {
     "end_time": "2023-07-11T21:04:34.676524Z",
     "start_time": "2023-07-11T21:04:34.667521Z"
    }
   },
   "outputs": [
    {
     "name": "stdout",
     "output_type": "stream",
     "text": [
      "Account number 0123456789 is having balance of 10500.0\n"
     ]
    }
   ],
   "source": [
    "savings = SavingsAccount(\"0123456789\", 10000)\n",
    "savings.calculate_interest(0.05)\n",
    "print(f'Account number {savings.account_number} is having balance of {savings.balance}')  "
   ]
  },
  {
   "cell_type": "code",
   "execution_count": 28,
   "id": "bba6842e",
   "metadata": {
    "ExecuteTime": {
     "end_time": "2023-07-11T21:04:35.848517Z",
     "start_time": "2023-07-11T21:04:35.827519Z"
    }
   },
   "outputs": [
    {
     "name": "stdout",
     "output_type": "stream",
     "text": [
      "Account number 0123456789 is having balance of 9990\n"
     ]
    }
   ],
   "source": [
    "checking = CheckingAccount(\"0123456789\", 10000)\n",
    "checking.deduct_fees(10)\n",
    "print(f'Account number {checking.account_number} is having balance of {checking.balance}')"
   ]
  },
  {
   "cell_type": "code",
   "execution_count": null,
   "id": "ec06b689",
   "metadata": {},
   "outputs": [],
   "source": []
  }
 ],
 "metadata": {
  "kernelspec": {
   "display_name": "Python 3 (ipykernel)",
   "language": "python",
   "name": "python3"
  },
  "language_info": {
   "codemirror_mode": {
    "name": "ipython",
    "version": 3
   },
   "file_extension": ".py",
   "mimetype": "text/x-python",
   "name": "python",
   "nbconvert_exporter": "python",
   "pygments_lexer": "ipython3",
   "version": "3.9.12"
  },
  "varInspector": {
   "cols": {
    "lenName": 16,
    "lenType": 16,
    "lenVar": 40
   },
   "kernels_config": {
    "python": {
     "delete_cmd_postfix": "",
     "delete_cmd_prefix": "del ",
     "library": "var_list.py",
     "varRefreshCmd": "print(var_dic_list())"
    },
    "r": {
     "delete_cmd_postfix": ") ",
     "delete_cmd_prefix": "rm(",
     "library": "var_list.r",
     "varRefreshCmd": "cat(var_dic_list()) "
    }
   },
   "types_to_exclude": [
    "module",
    "function",
    "builtin_function_or_method",
    "instance",
    "_Feature"
   ],
   "window_display": false
  }
 },
 "nbformat": 4,
 "nbformat_minor": 5
}
