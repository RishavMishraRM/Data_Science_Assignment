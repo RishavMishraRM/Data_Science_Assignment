{
 "cells": [
  {
   "cell_type": "markdown",
   "id": "1e006471",
   "metadata": {},
   "source": [
    "#### Question 1. What are the two values of the Boolean data type? How do you write them?"
   ]
  },
  {
   "cell_type": "markdown",
   "id": "74993cef",
   "metadata": {},
   "source": [
    "#### Answer 1\n",
    "The 2 values of Boolean Data Types are as follows :-\n",
    "1. True\n",
    "2. False<br>\n",
    "\n",
    "Syntax: True, False"
   ]
  },
  {
   "cell_type": "code",
   "execution_count": 1,
   "id": "99345e07",
   "metadata": {
    "ExecuteTime": {
     "end_time": "2023-05-22T19:41:01.610133Z",
     "start_time": "2023-05-22T19:41:01.573130Z"
    }
   },
   "outputs": [
    {
     "name": "stdout",
     "output_type": "stream",
     "text": [
      "a:  True <class 'bool'>\n",
      "b:  False <class 'bool'>\n"
     ]
    }
   ],
   "source": [
    "a = True\n",
    "b = False\n",
    "print('a: ', a, type(a)) # True\n",
    "print('b: ', b, type(b)) # False"
   ]
  },
  {
   "cell_type": "markdown",
   "id": "abc61f14",
   "metadata": {},
   "source": [
    "#### Question 2. What are the three different types of Boolean operators?"
   ]
  },
  {
   "cell_type": "markdown",
   "id": "5ae69937",
   "metadata": {},
   "source": [
    "#### Answer 2\n",
    "\n",
    "The three different types of Boolean operators are :- \n",
    "\n",
    "1. AND\n",
    "2. OR\n",
    "3. NOT<br>\n",
    "\n",
    "Syntax:  AND, OR, NOT"
   ]
  },
  {
   "cell_type": "code",
   "execution_count": 2,
   "id": "8e836cb2",
   "metadata": {
    "ExecuteTime": {
     "end_time": "2023-05-22T19:48:04.009790Z",
     "start_time": "2023-05-22T19:48:03.961762Z"
    }
   },
   "outputs": [
    {
     "name": "stdout",
     "output_type": "stream",
     "text": [
      "False\n",
      "False\n",
      "True\n"
     ]
    }
   ],
   "source": [
    "x = 10\n",
    "y = 20\n",
    "print(a>5 and b>10) # and operator\n",
    "print(a>20 or b>10) # or operator\n",
    "print(not(a>1)) # not operator"
   ]
  },
  {
   "cell_type": "markdown",
   "id": "fb4c943b",
   "metadata": {},
   "source": [
    "#### Question 3. Make a list of each Boolean operator&#39;s truth tables (i.e. every possible combination of Boolean values for the operator and what it evaluate )."
   ]
  },
  {
   "cell_type": "markdown",
   "id": "4a5668ec",
   "metadata": {},
   "source": [
    "#### Answer 3 \n",
    "\n",
    "The Truth tables for the boolean operators are as follows:<br>\n",
    "<br><br><br>\n",
    "** Truth Table for AND Operator ** <br><br>\n",
    "True(1) and True(1) --> True(1)<br>\n",
    "True(1) and False(0) --> False(0)<br>\n",
    "False(0) and True(1) --> False(0)<br>\n",
    "False(0) and False(0) --> False(0)<br>\n",
    "<br><br><br>\n",
    "** Truth Table for OR Operator ** <br><br>\n",
    "True(1) or True(1) --> True(1)<br>\n",
    "True(1) or False(0) --> True(1)<br>\n",
    "False(0) or True(1) --> True(1)<br>\n",
    "False(0) or False(0) --> False(0)<br>\n",
    "<br><br><br>\n",
    "** Truth Table for NOT Operator ** <br><br>\n",
    "True(1) not --> False(0)<br>\n",
    "False(0) not --> True(1)<br>"
   ]
  },
  {
   "cell_type": "code",
   "execution_count": 5,
   "id": "7fd21d30",
   "metadata": {
    "ExecuteTime": {
     "end_time": "2023-05-22T19:57:57.372286Z",
     "start_time": "2023-05-22T19:57:57.353311Z"
    }
   },
   "outputs": [
    {
     "name": "stdout",
     "output_type": "stream",
     "text": [
      "AND Operator :  [1, 0, 0, 0]\n",
      "\n",
      "OR Operator :  [1, 1, 1, 0]\n",
      "\n",
      "NOT Operator :  [False, True]\n"
     ]
    }
   ],
   "source": [
    "AND_Operator = [1 and 1, 1 and 0, 0 and 1, 0 and 0]\n",
    "print(\"AND Operator : \", AND_Operator)\n",
    "print()\n",
    "OR_Operator = [1 or 1, 1 or 0, 0 or 1, 0 or 0]\n",
    "print(\"OR Operator : \", OR_Operator)\n",
    "print()\n",
    "NOT_Operator = [not 1, not 0]\n",
    "print(\"NOT Operator : \", NOT_Operator)"
   ]
  },
  {
   "cell_type": "markdown",
   "id": "451f93a1",
   "metadata": {},
   "source": [
    "#### Question 4. What are the values of the following expressions?\n",
    "<br><br>\n",
    "`(5 > 4) and (3 == 5)`<br>\n",
    "`not (5 > 4)`<br>\n",
    "`(5 > 4) or (3 == 5)`<br>\n",
    "`not ((5 > 4) or (3 == 5))`<br>\n",
    "`(True and True) and (True == False)`<br>\n",
    "`(not False) or (not True)`<br>"
   ]
  },
  {
   "cell_type": "markdown",
   "id": "853f4b08",
   "metadata": {},
   "source": [
    "#### Answer 4\n",
    "<br><br>\n",
    "1. `(5 > 4) and (3 == 5)` -> `False`\n",
    "2. `not (5 > 4)` -> `False`\n",
    "3. `(5 > 4) or (3 == 5)` -> `True`\n",
    "4. `not ((5 > 4) or (3 == 5))` -> `False`\n",
    "5. `(True and True) and (True == False)` -> `False`\n",
    "6. `(not False) or (not True)` -> `True`"
   ]
  },
  {
   "cell_type": "code",
   "execution_count": 6,
   "id": "142d5a55",
   "metadata": {
    "ExecuteTime": {
     "end_time": "2023-05-22T20:10:29.895938Z",
     "start_time": "2023-05-22T20:10:29.881939Z"
    }
   },
   "outputs": [
    {
     "name": "stdout",
     "output_type": "stream",
     "text": [
      "False\n",
      "False\n",
      "True\n",
      "False\n",
      "False\n",
      "True\n"
     ]
    }
   ],
   "source": [
    "print((5>4) and (3==5))\n",
    "print(not(5>4))\n",
    "print((5>4) or (3==5))\n",
    "print(not(5>4) or (3==5))\n",
    "print((True and True) and (True==False))\n",
    "print((not(False))or(not(True)))"
   ]
  },
  {
   "cell_type": "markdown",
   "id": "88629a04",
   "metadata": {},
   "source": [
    "#### Question 5. What are the six comparison operators?"
   ]
  },
  {
   "cell_type": "markdown",
   "id": "e151810a",
   "metadata": {},
   "source": [
    "#### Answer 5 \n",
    "<br><br>\n",
    "* Less than ( < )\n",
    "* Less than or equal to (<=)\n",
    "* Greater than (>)\n",
    "* Greater than or equal to (>=)\n",
    "* Equal to ( == )\n",
    "* Not equal to ( != )"
   ]
  },
  {
   "cell_type": "markdown",
   "id": "a485129d",
   "metadata": {},
   "source": [
    "#### Question 6. How do you tell the difference between the equal to and assignment operators?Describe a condition and when you would use one."
   ]
  },
  {
   "cell_type": "markdown",
   "id": "09fdf01b",
   "metadata": {},
   "source": [
    "#### Answer 6\n",
    "<br>\n",
    "\n",
    "| Equal to | Assingment Operator | \n",
    "|----------|---------------------|\n",
    "| ***==***  |         ***=***     | \n",
    "| It is a relational or comparison operator. |It is an assignment operator.|\n",
    "| **we use this to compare two values** | **we use to initiaise a value.** |"
   ]
  },
  {
   "cell_type": "code",
   "execution_count": 7,
   "id": "e6c02bba",
   "metadata": {
    "ExecuteTime": {
     "end_time": "2023-05-22T20:25:51.101793Z",
     "start_time": "2023-05-22T20:25:51.082819Z"
    }
   },
   "outputs": [
    {
     "name": "stdout",
     "output_type": "stream",
     "text": [
      "False\n",
      "X = 100\n"
     ]
    }
   ],
   "source": [
    "# Equal To\n",
    "if(99 == 100): #here we are using equal to (==) to compare two values 99 & 100\n",
    "    print(\"True\")\n",
    "else:\n",
    "    print(\"False\")\n",
    "#Assignment operator\n",
    "X = 100 #here we are using assignment operator(=) to assign value of X and the value is 100\n",
    "print(\"X =\",X)"
   ]
  },
  {
   "cell_type": "markdown",
   "id": "cc010403",
   "metadata": {},
   "source": [
    "#### Question 7. \n",
    "Identify the three blocks in this code:\n",
    "<br><br>\n",
    "\n",
    "spam = 0<br>\n",
    "if spam == 10:<br>\n",
    "print('eggs')<br>\n",
    "if spam > 5:<br>\n",
    "print('bacon')<br>\n",
    "else:<br>\n",
    "print('ham')<br>\n",
    "print('spam')<br>\n",
    "print('spam')<br>"
   ]
  },
  {
   "cell_type": "markdown",
   "id": "4e0e0818",
   "metadata": {},
   "source": [
    "#### Answer 7\n",
    "\n",
    "Block 1<br>\n",
    "`spam = 0\n",
    "if spam == 10:\n",
    "    print('eggs')` \n",
    "    \n",
    "Block 2<br>\n",
    "    `.\n",
    "    if spam > 5:\n",
    "        print('bacon')`\n",
    "    \n",
    "Block 3<br>\n",
    "`    .\n",
    "    else:\n",
    "        print('ham') \n",
    "        print('spam')\n",
    "        print('spam')`\n"
   ]
  },
  {
   "cell_type": "code",
   "execution_count": 8,
   "id": "9a3fdb0e",
   "metadata": {
    "ExecuteTime": {
     "end_time": "2023-05-22T20:34:41.887047Z",
     "start_time": "2023-05-22T20:34:41.865047Z"
    }
   },
   "outputs": [
    {
     "name": "stdout",
     "output_type": "stream",
     "text": [
      "spam\n"
     ]
    }
   ],
   "source": [
    "spam = 0                 # Block 1 \n",
    "if spam == 10:           # Block 1 \n",
    "    print(\"eggs\")        # Block 2\n",
    "    if spam > 5:         # Block 2\n",
    "        print(\"bacon\")   # Block 3 \n",
    "    else:                # Block 2\n",
    "        print(\"ham\")     # Block 3\n",
    "    print(\"spam\")        # Block 2\n",
    "print(\"spam\")            # Block 2"
   ]
  },
  {
   "cell_type": "markdown",
   "id": "f3b0319b",
   "metadata": {},
   "source": [
    "#### Question 8. Write code that prints Hello if 1 is stored in spam, prints Howdy if 2 is stored in spam, and prints Greetings! if anything else is stored in spam."
   ]
  },
  {
   "cell_type": "markdown",
   "id": "87e92f84",
   "metadata": {},
   "source": [
    "#### Answer 8"
   ]
  },
  {
   "cell_type": "code",
   "execution_count": 10,
   "id": "f2e8c4a5",
   "metadata": {
    "ExecuteTime": {
     "end_time": "2023-05-22T21:25:37.531221Z",
     "start_time": "2023-05-22T21:25:32.183010Z"
    }
   },
   "outputs": [
    {
     "name": "stdout",
     "output_type": "stream",
     "text": [
      "Enter a number : 3\n",
      "Greetings!\n"
     ]
    }
   ],
   "source": [
    "spam = int(input(\"Enter a number : \"))\n",
    "if spam == 1:    \n",
    "    print(\"Hello\");\n",
    "elif spam == 2:\n",
    "    print(\"Howdy\");\n",
    "else:\n",
    "    print(\"Greetings!\");"
   ]
  },
  {
   "cell_type": "markdown",
   "id": "902bb6e0",
   "metadata": {},
   "source": [
    "#### Question 9. If your programme is stuck in an endless loop, what keys you’ll press?"
   ]
  },
  {
   "cell_type": "markdown",
   "id": "43057622",
   "metadata": {},
   "source": [
    "#### Answer 9 \n",
    "\n",
    " If program is stuck in endless loop we have to press `ctrl + c`."
   ]
  },
  {
   "cell_type": "markdown",
   "id": "024fc0b5",
   "metadata": {},
   "source": [
    "#### Question 10. How can you tell the difference between break and continue?"
   ]
  },
  {
   "cell_type": "markdown",
   "id": "7244d8dc",
   "metadata": {},
   "source": [
    "#### Answer 10 \n",
    "<br>\n",
    "break statement - This leads to an immediate exit from the loop.<br>\n",
    "\n",
    "continue statement - This begins the next iteration of the loop. It is used to skip the current iteration of the loop and continue with the next iteration."
   ]
  },
  {
   "cell_type": "code",
   "execution_count": 21,
   "id": "9726cae7",
   "metadata": {
    "ExecuteTime": {
     "end_time": "2023-05-23T15:07:50.413341Z",
     "start_time": "2023-05-23T15:07:50.394366Z"
    }
   },
   "outputs": [
    {
     "name": "stdout",
     "output_type": "stream",
     "text": [
      "b\n",
      "r\n",
      "break statement end\n",
      " \n",
      "c\n",
      "o\n",
      "t\n",
      "i\n",
      "u\n",
      "e\n",
      "continue statement end\n"
     ]
    }
   ],
   "source": [
    "# Use of break statement \n",
    "for val in \"break\":\n",
    "    if val == \"e\":\n",
    "        break\n",
    "    print(val)\n",
    "print(\"break statement end\")\n",
    "print(\" \")\n",
    "# Use of continue statement\n",
    "for val in \"continue\":\n",
    "    if val == \"n\":\n",
    "        continue\n",
    "    print(val)\n",
    "print(\"continue statement end\")"
   ]
  },
  {
   "cell_type": "markdown",
   "id": "f0b7be43",
   "metadata": {},
   "source": [
    "#### Question 11. In a for loop, what is the difference between range(10), range(0, 10), and range(0, 10, 1)?"
   ]
  },
  {
   "cell_type": "markdown",
   "id": "ce7971a8",
   "metadata": {},
   "source": [
    "#### Answer 11 \n",
    "\n",
    "Range function will return sequence of number, begining from 0 by default, increments by 1 and stops before the number where it was asked to stop for. <br>\n",
    "**Syntax : range(start, stop, steps)** <br>\n",
    "For eg :- range(0, 10, 1) :- 0 1 2 3 4 5 6 7 8 9\n",
    "Starting from 0 and end at 10 with the increment of 1\n",
    "<br><br>\n",
    "**range(10)** :- call range from 0 to 9 (but should not include 10)\n",
    "<br>\n",
    "* Default upper bound will be considered which is 0. The loop will start from the given value.\n",
    "* Lower bound value is 10. The loop will end on n-1.\n",
    "* By Defalut Jump distance is 1..\n",
    "* Range from 0 to 9 (but not include 10)\n",
    "<br><br>\n",
    "\n",
    "**range(0, 10)** :- explicitly tells the loop to start at 0\n",
    "<br>\n",
    "* Upper bound value is 0. Explicitly telling the loop to start from 0.\n",
    "* Lower bound value is 10. The loop will end on n-1.\n",
    "* By Defalut Jump distance is 1.\n",
    "* Range from 0 to 9 (but not include 10)\n",
    "<br><br>\n",
    "\n",
    "**range(0, 10, 1)** :- explicitly tells the loop to increase the variable by 1 on each iteration\n",
    "<br>\n",
    "* Upper bound value is 0.\n",
    "* Lower bound value is 10. The loop will end on n-1.\n",
    "* Explicitly telling loop that to jump distance is 1.\n",
    "* Range from 0 to 9 (but not include 10)"
   ]
  },
  {
   "cell_type": "code",
   "execution_count": 27,
   "id": "d9c87b5c",
   "metadata": {
    "ExecuteTime": {
     "end_time": "2023-05-23T15:46:31.376118Z",
     "start_time": "2023-05-23T15:46:31.347129Z"
    }
   },
   "outputs": [
    {
     "name": "stdout",
     "output_type": "stream",
     "text": [
      "0 1 2 3 4 5 6 7 8 9 \n",
      "\n",
      "0 1 2 3 4 5 6 7 8 9 \n",
      "\n",
      "0 1 2 3 4 5 6 7 8 9 \n",
      "\n"
     ]
    }
   ],
   "source": [
    "# range(10)\n",
    "for i in range(10):\n",
    "    print(i, end = ' ')\n",
    "print(\"\\n\")\n",
    "# range(0, 10)\n",
    "for i in range(0, 10):\n",
    "    print(i, end = ' ')\n",
    "print(\"\\n\")\n",
    "# range(0, 10, 1)\n",
    "for i in range(0, 10, 1):\n",
    "    print(i, end = ' ')\n",
    "print(\"\\n\")"
   ]
  },
  {
   "cell_type": "markdown",
   "id": "433a4891",
   "metadata": {},
   "source": [
    "#### Question 12. Write a short program that prints the numbers 1 to 10 using a for loop. Then write an equivalent program that prints the numbers 1 to 10 using a while loop."
   ]
  },
  {
   "cell_type": "markdown",
   "id": "3564c4a3",
   "metadata": {},
   "source": [
    "#### Answer 12"
   ]
  },
  {
   "cell_type": "code",
   "execution_count": 29,
   "id": "e4615012",
   "metadata": {
    "ExecuteTime": {
     "end_time": "2023-05-23T15:50:09.942289Z",
     "start_time": "2023-05-23T15:50:09.925288Z"
    }
   },
   "outputs": [
    {
     "name": "stdout",
     "output_type": "stream",
     "text": [
      "---------- For Loop ----------\n",
      "1 2 3 4 5 6 7 8 9 10 \n",
      "\n",
      "---------- While Loop ----------\n",
      "1 2 3 4 5 6 7 8 9 10 "
     ]
    }
   ],
   "source": [
    "print('----------','For Loop','----------')\n",
    "\n",
    "# For Loop Function\n",
    "for i in range(1,11):\n",
    "    print(i, end=\" \")\n",
    "    \n",
    "print('\\n')\n",
    "print('----------','While Loop','----------') \n",
    "\n",
    "# While Loop Function\n",
    "i=1\n",
    "while i<=10:\n",
    "    print(i, end=\" \")\n",
    "    i+=1"
   ]
  },
  {
   "cell_type": "markdown",
   "id": "affbcde6",
   "metadata": {},
   "source": [
    "#### Question 13. If you had a function named bacon() inside a module named spam, how would you call it after importing spam?"
   ]
  },
  {
   "cell_type": "markdown",
   "id": "d3f8023f",
   "metadata": {},
   "source": [
    "#### Answer 13\n",
    "\n",
    "The function can be called with `spam.bacon()`"
   ]
  },
  {
   "cell_type": "code",
   "execution_count": null,
   "id": "105ed400",
   "metadata": {},
   "outputs": [],
   "source": [
    "import spam \n",
    "spam.bacon()"
   ]
  }
 ],
 "metadata": {
  "kernelspec": {
   "display_name": "Python 3 (ipykernel)",
   "language": "python",
   "name": "python3"
  },
  "language_info": {
   "codemirror_mode": {
    "name": "ipython",
    "version": 3
   },
   "file_extension": ".py",
   "mimetype": "text/x-python",
   "name": "python",
   "nbconvert_exporter": "python",
   "pygments_lexer": "ipython3",
   "version": "3.9.12"
  },
  "varInspector": {
   "cols": {
    "lenName": 16,
    "lenType": 16,
    "lenVar": 40
   },
   "kernels_config": {
    "python": {
     "delete_cmd_postfix": "",
     "delete_cmd_prefix": "del ",
     "library": "var_list.py",
     "varRefreshCmd": "print(var_dic_list())"
    },
    "r": {
     "delete_cmd_postfix": ") ",
     "delete_cmd_prefix": "rm(",
     "library": "var_list.r",
     "varRefreshCmd": "cat(var_dic_list()) "
    }
   },
   "types_to_exclude": [
    "module",
    "function",
    "builtin_function_or_method",
    "instance",
    "_Feature"
   ],
   "window_display": false
  }
 },
 "nbformat": 4,
 "nbformat_minor": 5
}
