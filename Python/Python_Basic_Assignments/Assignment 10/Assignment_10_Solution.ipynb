{
 "cells": [
  {
   "cell_type": "markdown",
   "id": "e1cbae88",
   "metadata": {},
   "source": [
    "#### Question 1. What is the role of try and exception block?"
   ]
  },
  {
   "cell_type": "markdown",
   "id": "4c69a202",
   "metadata": {},
   "source": [
    "#### Answer 1\n",
    "<br>\n",
    "In Python, we have exceptional handling as a process. When our program runs through an error then we use exceptional handling to give error and print specific error out of it. In which we use this try and exception block.<br> \n",
    "`Try` block lets us test a block of code for errors.<br> \n",
    "`Except` block lets you handle the error."
   ]
  },
  {
   "cell_type": "code",
   "execution_count": 8,
   "id": "899a3ba6",
   "metadata": {
    "ExecuteTime": {
     "end_time": "2023-06-23T17:37:17.057864Z",
     "start_time": "2023-06-23T17:37:16.069475Z"
    }
   },
   "outputs": [
    {
     "ename": "NameError",
     "evalue": "name 'x' is not defined",
     "output_type": "error",
     "traceback": [
      "\u001b[1;31m---------------------------------------------------------------------------\u001b[0m",
      "\u001b[1;31mNameError\u001b[0m                                 Traceback (most recent call last)",
      "Input \u001b[1;32mIn [8]\u001b[0m, in \u001b[0;36m<cell line: 2>\u001b[1;34m()\u001b[0m\n\u001b[0;32m      1\u001b[0m \u001b[38;5;66;03m#normal function with error\u001b[39;00m\n\u001b[1;32m----> 2\u001b[0m \u001b[38;5;28mprint\u001b[39m(\u001b[43mx\u001b[49m)\n",
      "\u001b[1;31mNameError\u001b[0m: name 'x' is not defined"
     ]
    }
   ],
   "source": [
    "#normal function with error\n",
    "print(x)"
   ]
  },
  {
   "cell_type": "code",
   "execution_count": 9,
   "id": "dda227fe",
   "metadata": {
    "ExecuteTime": {
     "end_time": "2023-06-23T17:37:19.511254Z",
     "start_time": "2023-06-23T17:37:19.500248Z"
    }
   },
   "outputs": [
    {
     "name": "stdout",
     "output_type": "stream",
     "text": [
      "There is no x\n"
     ]
    }
   ],
   "source": [
    "#exceptional handled function\n",
    "try:\n",
    "    print(x) #what code can throw an error / error will be in the try block\n",
    "except:\n",
    "    print(\"There is no x\") # After try, except will be executed"
   ]
  },
  {
   "cell_type": "markdown",
   "id": "bb0b0d43",
   "metadata": {},
   "source": [
    "#### Question 2. What is the syntax for a basic try-except block?"
   ]
  },
  {
   "cell_type": "markdown",
   "id": "4c2bf32e",
   "metadata": {},
   "source": [
    "#### Answer 2\n",
    "<br>\n",
    "For try-except block. We use try and except in the function where try finds the error and except handles it."
   ]
  },
  {
   "cell_type": "code",
   "execution_count": 10,
   "id": "8ecc55f5",
   "metadata": {
    "ExecuteTime": {
     "end_time": "2023-06-23T17:37:23.354246Z",
     "start_time": "2023-06-23T17:37:23.340226Z"
    }
   },
   "outputs": [
    {
     "name": "stdout",
     "output_type": "stream",
     "text": [
      "There is no x\n"
     ]
    }
   ],
   "source": [
    "try: # finds the error\n",
    "    print(x)\n",
    "except: # handles the error\n",
    "    print(\"There is no x\") # After try, except will be executed"
   ]
  },
  {
   "cell_type": "markdown",
   "id": "248602ff",
   "metadata": {},
   "source": [
    "#### Question 3. What happens if an exception occurs inside a try block and there is no matching except block?"
   ]
  },
  {
   "cell_type": "markdown",
   "id": "47c7fc12",
   "metadata": {},
   "source": [
    "#### Answer 3\n",
    "<br>\n",
    "When an exception occurs inside a try block and there is no matching except block in the code then the program will throw the error with the excception for that code if it's aviable in python."
   ]
  },
  {
   "cell_type": "code",
   "execution_count": 11,
   "id": "9f2808fc",
   "metadata": {
    "ExecuteTime": {
     "end_time": "2023-06-23T17:37:40.586657Z",
     "start_time": "2023-06-23T17:37:36.516555Z"
    }
   },
   "outputs": [
    {
     "name": "stdout",
     "output_type": "stream",
     "text": [
      "Enter num1 : 0\n",
      "Enter num2 : 0\n"
     ]
    },
    {
     "ename": "ZeroDivisionError",
     "evalue": "division by zero",
     "output_type": "error",
     "traceback": [
      "\u001b[1;31m---------------------------------------------------------------------------\u001b[0m",
      "\u001b[1;31mZeroDivisionError\u001b[0m                         Traceback (most recent call last)",
      "Input \u001b[1;32mIn [11]\u001b[0m, in \u001b[0;36m<cell line: 2>\u001b[1;34m()\u001b[0m\n\u001b[0;32m      3\u001b[0m     n \u001b[38;5;241m=\u001b[39m \u001b[38;5;28mint\u001b[39m(\u001b[38;5;28minput\u001b[39m(\u001b[38;5;124m\"\u001b[39m\u001b[38;5;124mEnter num1 : \u001b[39m\u001b[38;5;124m\"\u001b[39m))\n\u001b[0;32m      4\u001b[0m     d \u001b[38;5;241m=\u001b[39m \u001b[38;5;28mint\u001b[39m(\u001b[38;5;28minput\u001b[39m(\u001b[38;5;124m\"\u001b[39m\u001b[38;5;124mEnter num2 : \u001b[39m\u001b[38;5;124m\"\u001b[39m))\n\u001b[1;32m----> 6\u001b[0m     result \u001b[38;5;241m=\u001b[39m \u001b[43mn\u001b[49m\u001b[43m \u001b[49m\u001b[38;5;241;43m/\u001b[39;49m\u001b[43m \u001b[49m\u001b[43md\u001b[49m\n\u001b[0;32m      7\u001b[0m     \u001b[38;5;28mprint\u001b[39m(\u001b[38;5;124m\"\u001b[39m\u001b[38;5;124mResult : \u001b[39m\u001b[38;5;124m\"\u001b[39m, result)\n\u001b[0;32m      8\u001b[0m \u001b[38;5;66;03m#except ZeroDivisionError:\u001b[39;00m\n\u001b[0;32m      9\u001b[0m     \u001b[38;5;66;03m#print(\"You have divided the number by zero\")\u001b[39;00m\n",
      "\u001b[1;31mZeroDivisionError\u001b[0m: division by zero"
     ]
    }
   ],
   "source": [
    "#not using zerodivision error code over here. So, we will get the zerodivision error in the code.\n",
    "try:\n",
    "    n = int(input(\"Enter num1 : \"))\n",
    "    d = int(input(\"Enter num2 : \"))\n",
    "    \n",
    "    result = n / d\n",
    "    print(\"Result : \", result)\n",
    "#except ZeroDivisionError:\n",
    "    #print(\"You have divided the number by zero\")\n",
    "except ValueError:\n",
    "    print(\"It should interger but you entered float\")"
   ]
  },
  {
   "cell_type": "markdown",
   "id": "0d123e59",
   "metadata": {},
   "source": [
    "#### Question 4. What is the difference between using a bare except block and specifying a specific exception type?"
   ]
  },
  {
   "cell_type": "markdown",
   "id": "ca69fc04",
   "metadata": {},
   "source": [
    "#### Answer 4\n",
    "<br>\n",
    "When we will be using a bare except in the program then whatever the error will be there in the program it will throw the except block message directly nothing other than this. But when we specifty a exception block then it will give the specific error which will be occuring there in the program first of all."
   ]
  },
  {
   "cell_type": "code",
   "execution_count": 12,
   "id": "f04517cf",
   "metadata": {
    "ExecuteTime": {
     "end_time": "2023-06-23T17:37:50.013766Z",
     "start_time": "2023-06-23T17:37:47.975975Z"
    }
   },
   "outputs": [
    {
     "name": "stdout",
     "output_type": "stream",
     "text": [
      "Enter num1 : 0\n",
      "Enter num2 : 0\n",
      "You have divided the number by zero\n"
     ]
    }
   ],
   "source": [
    "#here we will be seeing that it encuntered the zerodivision error that's why program has taken the zerodivision error at first\n",
    "try:\n",
    "    n = int(input(\"Enter num1 : \"))\n",
    "    d = int(input(\"Enter num2 : \"))\n",
    "    result = n / d\n",
    "    print(\"Result : \", result)\n",
    "except ZeroDivisionError:\n",
    "    print(\"You have divided the number by zero\")\n",
    "except ValueError:\n",
    "    print(\"It should interger but you entered float\")"
   ]
  },
  {
   "cell_type": "markdown",
   "id": "2424743c",
   "metadata": {},
   "source": [
    "#### Question 5. Can you have nested try-except blocks in Python? If yes, then give an example."
   ]
  },
  {
   "cell_type": "markdown",
   "id": "0af5a779",
   "metadata": {},
   "source": [
    "#### Answer 5\n",
    "<br>\n",
    "Yes, we can have nested try-except block in python."
   ]
  },
  {
   "cell_type": "code",
   "execution_count": 15,
   "id": "840e7d0e",
   "metadata": {
    "ExecuteTime": {
     "end_time": "2023-06-23T17:45:50.665093Z",
     "start_time": "2023-06-23T17:45:50.654089Z"
    }
   },
   "outputs": [
    {
     "name": "stdout",
     "output_type": "stream",
     "text": [
      "outer try block\n",
      "nested try block\n",
      "outer except block\n"
     ]
    }
   ],
   "source": [
    "#nested try-except block\n",
    "x = 10\n",
    "y = 0\n",
    "try:\n",
    "    print(\"outer try block\")\n",
    "    try:\n",
    "        print(\"nested try block\")\n",
    "        print(x / y)\n",
    "    except TypeError:\n",
    "        print(\"nested except block\")\n",
    "except ZeroDivisionError:\n",
    "    print(\"outer except block\")"
   ]
  },
  {
   "cell_type": "markdown",
   "id": "ffd70450",
   "metadata": {},
   "source": [
    "#### Question 6. Can we use multiple exception blocks, if yes then give an example."
   ]
  },
  {
   "cell_type": "markdown",
   "id": "5f469aaf",
   "metadata": {},
   "source": [
    "#### Answer 6\n",
    "<br>\n",
    "Yes, we can use multiple exception blocks."
   ]
  },
  {
   "cell_type": "code",
   "execution_count": 14,
   "id": "9d885d2b",
   "metadata": {
    "ExecuteTime": {
     "end_time": "2023-06-23T17:37:59.268519Z",
     "start_time": "2023-06-23T17:37:59.251525Z"
    }
   },
   "outputs": [
    {
     "name": "stdout",
     "output_type": "stream",
     "text": [
      "can only concatenate str (not \"int\") to str\n"
     ]
    }
   ],
   "source": [
    "try:\n",
    "    name = 'Bob'\n",
    "    name += 5\n",
    "except NameError as ne:\n",
    "    # Code to handle NameError\n",
    "    print(ne)\n",
    "except TypeError as te:\n",
    "    # Code to handle TypeError\n",
    "    print(te)"
   ]
  },
  {
   "cell_type": "markdown",
   "id": "c14fb0a2",
   "metadata": {},
   "source": [
    "#### Question 7. Write the reason due to which following errors are raised: <br>\n",
    "a. EOFError<br>\n",
    "b. FloatingPointError<br>\n",
    "c. IndexError<br>\n",
    "d. MemoryError<br>\n",
    "e. OverflowError<br>\n",
    "f. TabError<br>\n",
    "g. ValueError<br>"
   ]
  },
  {
   "cell_type": "markdown",
   "id": "26243e61",
   "metadata": {},
   "source": [
    "#### Answer 7\n",
    "<br>\n",
    "a. EOFError : This means \"End-of-Line Error.\" This error occurs when Python has reached the end of user input without receiving any input. <br>\n",
    "b. FloatingPointError : This error occurs when we calcuate in Python and python has a big floating value. like for 10/3 = 3.33333333....... <br>\n",
    "c. IndexError : This error occurs when an attempt is made to access an item in a list at an index which is out of bounds. <br>\n",
    "d. MemoryError : A MemoryError means that the interpreter has run out of memory to allocate to your Python program.  <br>\n",
    "e. OverflowError : An OverflowError exception is raised when an arithmetic operation exceeds the limits to be represented. <br>\n",
    "f. TabError : The inconsistent use of tabs and spaces in indentation\" occurs when we mix tabs and spaces in the same code block. <br>\n",
    "g. ValueError : It is raised when a function receives an argument of the correct type but an inappropriate value. Also, the situation should not be described by a more precise exception such as IndexError. <br>"
   ]
  },
  {
   "cell_type": "code",
   "execution_count": null,
   "id": "639e4d52",
   "metadata": {
    "ExecuteTime": {
     "start_time": "2023-06-23T15:50:16.009Z"
    }
   },
   "outputs": [],
   "source": [
    "# EOFError\n",
    "try:\n",
    "    string = input()\n",
    "    print(string)\n",
    "except EOFError:\n",
    "    print(\"no data provided to input function\")"
   ]
  },
  {
   "cell_type": "code",
   "execution_count": null,
   "id": "4b80a616",
   "metadata": {
    "ExecuteTime": {
     "end_time": "2023-06-23T15:55:40.432905Z",
     "start_time": "2023-06-23T15:55:35.820355Z"
    }
   },
   "outputs": [],
   "source": [
    "# FloatingPointError\n",
    "try:\n",
    "    n = int(input(\"Enter num1 : \"))\n",
    "    d = int(input(\"Enter num2 : \"))\n",
    "    result = n / d\n",
    "    print(\"Result : \", result)\n",
    "except FloatingPointError:\n",
    "    print(\"You have a big floating number\")"
   ]
  },
  {
   "cell_type": "code",
   "execution_count": null,
   "id": "15a275bf",
   "metadata": {
    "ExecuteTime": {
     "end_time": "2023-06-23T15:54:28.420583Z",
     "start_time": "2023-06-23T15:54:28.380580Z"
    }
   },
   "outputs": [],
   "source": [
    "#Index Error\n",
    "try:\n",
    "    list1 =[1, 2, 3, 4]\n",
    "    print(list1[4])\n",
    "except IndexError:\n",
    "    print(\"Index Error\")"
   ]
  },
  {
   "cell_type": "code",
   "execution_count": null,
   "id": "c4aa66ff",
   "metadata": {},
   "outputs": [],
   "source": [
    "# MemoryError\n",
    "try:\n",
    "    big_list = [1] * (10 ** 12)\n",
    "except MemoryError:\n",
    "    print(\"Insufficient memory for the list\")"
   ]
  },
  {
   "cell_type": "code",
   "execution_count": null,
   "id": "9ee3cf39",
   "metadata": {},
   "outputs": [],
   "source": [
    "# OverflowError\n",
    "try:\n",
    "    result = 5000 ** 10\n",
    "except OverflowError:\n",
    "    print(\"Too Big Calculation\")\n",
    "else:\n",
    "    print(result)"
   ]
  },
  {
   "cell_type": "code",
   "execution_count": null,
   "id": "7ddecf9d",
   "metadata": {
    "ExecuteTime": {
     "end_time": "2023-06-23T16:08:20.191283Z",
     "start_time": "2023-06-23T16:08:17.657827Z"
    }
   },
   "outputs": [],
   "source": [
    "# TabError\n",
    "x = int(input('Please enter a positive number:\\n'))\n",
    "try:\n",
    "      print(f'Square Root of {x} is {X**x}')\n",
    "except TabError:\n",
    "    print(\"TabError\")"
   ]
  },
  {
   "cell_type": "code",
   "execution_count": null,
   "id": "24499fef",
   "metadata": {},
   "outputs": [],
   "source": [
    "# ValueError\n",
    "x = int(input('Please enter a positive number:\\n'))\n",
    "try:\n",
    "    print(f'Square Root of {x} is {X**x}')\n",
    "except ValueError:\n",
    "    print(\" ValueError\")"
   ]
  },
  {
   "cell_type": "markdown",
   "id": "52bfdcaa",
   "metadata": {},
   "source": [
    "#### Question 8. Write code for the following given scenario and add try-exception block to it. <br>\n",
    "a. Program to divide two numbers<br>\n",
    "b. Program to convert a string to an integer<br>\n",
    "c. Program to access an element in a list<br>\n",
    "d. Program to handle a specific exception<br>\n",
    "e. Program to handle any exception<br>"
   ]
  },
  {
   "cell_type": "markdown",
   "id": "fc0ac664",
   "metadata": {},
   "source": [
    "#### Answer 8\n",
    "<br>\n",
    "a. Program to divide two numbers with ZeroDivisionError and ValueError.<br>\n",
    "b. Program to convert a string to an integer with ValueError.<br>\n",
    "c. Program to access an element in a list with IndexError.<br>\n",
    "d. Program to handle a specific exception with key error.<br>\n",
    "e. Program to handle any exception with try & except block only.<br>"
   ]
  },
  {
   "cell_type": "code",
   "execution_count": 1,
   "id": "38efb8f2",
   "metadata": {
    "ExecuteTime": {
     "end_time": "2023-06-23T17:14:11.086186Z",
     "start_time": "2023-06-23T17:14:04.847632Z"
    }
   },
   "outputs": [
    {
     "name": "stdout",
     "output_type": "stream",
     "text": [
      "Enter num1 : 0\n",
      "Enter num2 : 0\n",
      "You have divided the number by zero\n"
     ]
    }
   ],
   "source": [
    "# Program to divide two numbers\n",
    "try:\n",
    "    n = int(input(\"Enter num1 : \"))\n",
    "    d = int(input(\"Enter num2 : \"))\n",
    "    \n",
    "    result = n / d\n",
    "    print(\"Result : \", result)\n",
    "except ZeroDivisionError:\n",
    "    print(\"You have divided the number by zero\")\n",
    "except ValueError:\n",
    "    print(\"It should interger but you entered float\")"
   ]
  },
  {
   "cell_type": "code",
   "execution_count": 4,
   "id": "c4a865f5",
   "metadata": {
    "ExecuteTime": {
     "end_time": "2023-06-23T17:16:58.352675Z",
     "start_time": "2023-06-23T17:16:58.332677Z"
    }
   },
   "outputs": [
    {
     "name": "stdout",
     "output_type": "stream",
     "text": [
      "123\n"
     ]
    }
   ],
   "source": [
    "# Program to convert a string to an integer\n",
    "string = \"123\"\n",
    "try:\n",
    "    string_int = int(string)\n",
    "    print(string_int)\n",
    "except ValueError:\n",
    "    # Handle the exception\n",
    "    print('Please enter an integer')"
   ]
  },
  {
   "cell_type": "code",
   "execution_count": 5,
   "id": "030a6b21",
   "metadata": {
    "ExecuteTime": {
     "end_time": "2023-06-23T17:20:30.934096Z",
     "start_time": "2023-06-23T17:20:30.923092Z"
    }
   },
   "outputs": [
    {
     "name": "stdout",
     "output_type": "stream",
     "text": [
      "Index Error\n"
     ]
    }
   ],
   "source": [
    "# Program to access an element in a list\n",
    "try:\n",
    "    list1 =[1, 2, 3, 4]\n",
    "    print(list1[4])\n",
    "except IndexError:\n",
    "    print(\"Index Error\")"
   ]
  },
  {
   "cell_type": "code",
   "execution_count": 6,
   "id": "dc7c45cf",
   "metadata": {
    "ExecuteTime": {
     "end_time": "2023-06-23T17:33:49.756076Z",
     "start_time": "2023-06-23T17:33:49.741054Z"
    }
   },
   "outputs": [
    {
     "name": "stdout",
     "output_type": "stream",
     "text": [
      "KeyError error occurred.\n"
     ]
    }
   ],
   "source": [
    "# Program to handle a specific exception - key error\n",
    "try:\n",
    "    my_dictionary = {\"name\": \"John\", \"age\": 30}\n",
    "    print(my_dictionary[\"city\"])  # Accessing a KEY which does not exist\n",
    "except KeyError:\n",
    "    print(\"KeyError error occurred.\")"
   ]
  },
  {
   "cell_type": "code",
   "execution_count": 7,
   "id": "51195b08",
   "metadata": {
    "ExecuteTime": {
     "end_time": "2023-06-23T17:34:15.738560Z",
     "start_time": "2023-06-23T17:34:15.725543Z"
    }
   },
   "outputs": [
    {
     "name": "stdout",
     "output_type": "stream",
     "text": [
      "Error occurred.\n"
     ]
    }
   ],
   "source": [
    "# Program to handle any exception\n",
    "try:\n",
    "    my_dictionary = {\"name\": \"John\", \"age\": 30}\n",
    "    print(my_dictionary[\"city\"])  # Accessing a KEY which does not exist\n",
    "except:\n",
    "    print(\"Error occurred.\")"
   ]
  },
  {
   "cell_type": "code",
   "execution_count": null,
   "id": "293ef7a1",
   "metadata": {},
   "outputs": [],
   "source": []
  }
 ],
 "metadata": {
  "kernelspec": {
   "display_name": "Python 3 (ipykernel)",
   "language": "python",
   "name": "python3"
  },
  "language_info": {
   "codemirror_mode": {
    "name": "ipython",
    "version": 3
   },
   "file_extension": ".py",
   "mimetype": "text/x-python",
   "name": "python",
   "nbconvert_exporter": "python",
   "pygments_lexer": "ipython3",
   "version": "3.9.12"
  },
  "varInspector": {
   "cols": {
    "lenName": 16,
    "lenType": 16,
    "lenVar": 40
   },
   "kernels_config": {
    "python": {
     "delete_cmd_postfix": "",
     "delete_cmd_prefix": "del ",
     "library": "var_list.py",
     "varRefreshCmd": "print(var_dic_list())"
    },
    "r": {
     "delete_cmd_postfix": ") ",
     "delete_cmd_prefix": "rm(",
     "library": "var_list.r",
     "varRefreshCmd": "cat(var_dic_list()) "
    }
   },
   "types_to_exclude": [
    "module",
    "function",
    "builtin_function_or_method",
    "instance",
    "_Feature"
   ],
   "window_display": false
  }
 },
 "nbformat": 4,
 "nbformat_minor": 5
}
