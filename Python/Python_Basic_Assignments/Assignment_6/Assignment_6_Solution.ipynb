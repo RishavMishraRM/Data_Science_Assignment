{
 "cells": [
  {
   "cell_type": "markdown",
   "id": "0a631db5",
   "metadata": {},
   "source": [
    "#### Question 1. What are keywords in python? Using the keyword library, print all the python keywords."
   ]
  },
  {
   "cell_type": "markdown",
   "id": "a9084b22",
   "metadata": {},
   "source": [
    "#### Answer 1\n",
    "<br>\n",
    "Keywords are used to define the syntax and structure of the Python language. In Python they are reserved words that cannot be used as ordinary identifiers. They are being immutable so can't change is meaning and definition. \n",
    "<br><br>\n",
    "eg:- ['False', 'None', 'True', '__peg_parser__', 'and', 'as', 'assert', 'async', 'await', 'break', 'class', 'continue', 'def', 'del', 'elif', 'else', 'except', 'finally', 'for', 'from', 'global', 'if', 'import', 'in', 'is', 'lambda', 'nonlocal', 'not', 'or', 'pass', 'raise', 'return', 'try', 'while', 'with', 'yield']"
   ]
  },
  {
   "cell_type": "code",
   "execution_count": 5,
   "id": "febaa530",
   "metadata": {
    "ExecuteTime": {
     "end_time": "2023-05-26T05:11:15.557902Z",
     "start_time": "2023-05-26T05:11:15.538880Z"
    }
   },
   "outputs": [
    {
     "name": "stdout",
     "output_type": "stream",
     "text": [
      "['False', 'None', 'True', '__peg_parser__', 'and', 'as', 'assert', 'async', 'await', 'break', 'class', 'continue', 'def', 'del', 'elif', 'else', 'except', 'finally', 'for', 'from', 'global', 'if', 'import', 'in', 'is', 'lambda', 'nonlocal', 'not', 'or', 'pass', 'raise', 'return', 'try', 'while', 'with', 'yield']\n"
     ]
    }
   ],
   "source": [
    "# importing package\n",
    "import keyword\n",
    "# display keywords\n",
    "print(keyword.kwlist)"
   ]
  },
  {
   "cell_type": "markdown",
   "id": "effb8e19",
   "metadata": {},
   "source": [
    "#### Question 2. What are the rules to create variables in python?"
   ]
  },
  {
   "cell_type": "markdown",
   "id": "69247b9e",
   "metadata": {},
   "source": [
    "#### Answer 2\n",
    "<br>\n",
    "* Variable name must start with a letter or underscore.<br>\n",
    "* A variable name cann't start with a number.<br>\n",
    "* Variable name can only contain alpha-numeric characters and underscores (A-z, 0-9, and _ ).<br>\n",
    "* Variable names are case-sensitive (age, Age and AGE are three different variables). So, if using names same as keyword kind make sure to make it different using different case letter.<br>"
   ]
  },
  {
   "cell_type": "code",
   "execution_count": 6,
   "id": "a7b88968",
   "metadata": {
    "ExecuteTime": {
     "end_time": "2023-05-26T13:21:49.616474Z",
     "start_time": "2023-05-26T13:21:49.593455Z"
    }
   },
   "outputs": [],
   "source": [
    "## Correct variable names:\n",
    "myvar = \"variable\"\n",
    "my_var = \"variable\"\n",
    "_my_var = \"variable\"\n",
    "myVar = \"variable\"\n",
    "MYVAR = \"variable\"\n",
    "myvar2 = \"variable\"\n",
    "\n",
    "# Wrong variable name\n",
    "#2myvar = \"John\"\n",
    "#my-var = \"John\"\n",
    "#my var = \"John\""
   ]
  },
  {
   "cell_type": "markdown",
   "id": "e161f6cf",
   "metadata": {},
   "source": [
    "#### Question 3. What are the standards and conventions followed for the nomenclature of variables in python to improve code readability and maintainability?"
   ]
  },
  {
   "cell_type": "markdown",
   "id": "c2d6f1d8",
   "metadata": {},
   "source": [
    "#### Answer 3\n",
    "<br>\n",
    "\n",
    "* Variable name must start with a letter or underscore.<br>\n",
    "* A variable name cann't start with a number.<br>\n",
    "* Variable name can only contain alpha-numeric characters and underscores (A-z, 0-9, and _ ).<br>\n",
    "* Variable names are case-sensitive (age, Age and AGE are three different variables). So, if using names same as keyword kind make sure to make it different using different case letter.<br>"
   ]
  },
  {
   "cell_type": "code",
   "execution_count": 7,
   "id": "c6feba2b",
   "metadata": {
    "ExecuteTime": {
     "end_time": "2023-05-26T13:28:32.277985Z",
     "start_time": "2023-05-26T13:28:32.256984Z"
    }
   },
   "outputs": [],
   "source": [
    "## Variable names:\n",
    "myvar = \"variable\"\n",
    "my_var = \"variable\"\n",
    "_my_var = \"variable\"\n",
    "myVar = \"variable\"\n",
    "MYVAR = \"variable\"\n",
    "myvar2 = \"variable\""
   ]
  },
  {
   "cell_type": "markdown",
   "id": "22bebf7d",
   "metadata": {},
   "source": [
    "#### Question 4. What will happen if a keyword is used as a variable name?"
   ]
  },
  {
   "cell_type": "markdown",
   "id": "6a6627d6",
   "metadata": {},
   "source": [
    "#### Answer 4\n",
    "<br>\n",
    "If a keyword is used as a variable name the program will throw an error on it."
   ]
  },
  {
   "cell_type": "code",
   "execution_count": 8,
   "id": "e3931481",
   "metadata": {
    "ExecuteTime": {
     "end_time": "2023-05-26T13:29:19.709476Z",
     "start_time": "2023-05-26T13:29:19.695481Z"
    }
   },
   "outputs": [
    {
     "ename": "SyntaxError",
     "evalue": "invalid syntax (2045140450.py, line 1)",
     "output_type": "error",
     "traceback": [
      "\u001b[1;36m  Input \u001b[1;32mIn [8]\u001b[1;36m\u001b[0m\n\u001b[1;33m    def = 10\u001b[0m\n\u001b[1;37m        ^\u001b[0m\n\u001b[1;31mSyntaxError\u001b[0m\u001b[1;31m:\u001b[0m invalid syntax\n"
     ]
    }
   ],
   "source": [
    "def = 10\n",
    "print(def)"
   ]
  },
  {
   "cell_type": "markdown",
   "id": "91fbf1e8",
   "metadata": {},
   "source": [
    "#### Question 5. For what purpose def keyword is used?"
   ]
  },
  {
   "cell_type": "markdown",
   "id": "ceef6e22",
   "metadata": {},
   "source": [
    "#### Answer 5\n",
    "<br>\n",
    "In python, we use def keyword to create or define a function."
   ]
  },
  {
   "cell_type": "code",
   "execution_count": 9,
   "id": "f2e75d64",
   "metadata": {
    "ExecuteTime": {
     "end_time": "2023-05-26T13:32:26.521299Z",
     "start_time": "2023-05-26T13:32:26.508295Z"
    }
   },
   "outputs": [
    {
     "name": "stdout",
     "output_type": "stream",
     "text": [
      "Hello from a function\n"
     ]
    }
   ],
   "source": [
    "def func():\n",
    "    print(\"Hello from a function\")\n",
    "\n",
    "func()"
   ]
  },
  {
   "cell_type": "markdown",
   "id": "06d2dc56",
   "metadata": {},
   "source": [
    "#### Question 6. What is the operation of this special character ‘\\’?"
   ]
  },
  {
   "cell_type": "markdown",
   "id": "5286e333",
   "metadata": {},
   "source": [
    "#### Answer 6\n",
    "<br>\n",
    "In Python strings, the backslash \"\\\" is a special character, also called the \"escape\" character. It is used in representing certain whitespace characters: \"\\\" is newline when alone, \"\\t\" is a tab, \"\\n\" is a newline, and \"\\r\" is a carriage return."
   ]
  },
  {
   "cell_type": "code",
   "execution_count": 12,
   "id": "41ddb122",
   "metadata": {
    "ExecuteTime": {
     "end_time": "2023-05-26T13:39:50.971743Z",
     "start_time": "2023-05-26T13:39:50.950737Z"
    }
   },
   "outputs": [
    {
     "name": "stdout",
     "output_type": "stream",
     "text": [
      "apple\torange\n"
     ]
    }
   ],
   "source": [
    "# Special character \"\\\"\n",
    "print ('apple\\torange')"
   ]
  },
  {
   "cell_type": "markdown",
   "id": "9745b9ac",
   "metadata": {
    "ExecuteTime": {
     "end_time": "2023-05-26T04:28:23.969483Z",
     "start_time": "2023-05-26T04:28:23.954297Z"
    }
   },
   "source": [
    "#### Question 7. Give an example of the following conditions:<br>\n",
    "(i) Homogeneous list<br>\n",
    "(ii) Heterogeneous set<br>\n",
    "(iii) Homogeneous tuple<br>"
   ]
  },
  {
   "cell_type": "markdown",
   "id": "8737aff3",
   "metadata": {},
   "source": [
    "#### Answer 7<br>  \n",
    "\n",
    "(i) Homogeneous list<br> \n",
    "\n",
    "--- A list is homogeneous in nature because the elements are restricted to a specific type such as a list of Person objects, a list of String objects, a list of Book objects, and  etc.\n",
    "\n",
    "(ii) Heterogeneous set<br>\n",
    "\n",
    "--- A set is heterogeneous in nature because the elements stored can be of any type numeric, string, boolean, objects, etc.\n",
    "\n",
    "(iii) Homogeneous tuple<br>\n",
    "\n",
    "--- A tuple can also contain elements of different types: integers, floats, strings, and even other tuples or lists which make it homogeneous in nature."
   ]
  },
  {
   "cell_type": "code",
   "execution_count": 14,
   "id": "fc93b435",
   "metadata": {
    "ExecuteTime": {
     "end_time": "2023-05-26T18:32:19.162485Z",
     "start_time": "2023-05-26T18:32:19.113483Z"
    }
   },
   "outputs": [
    {
     "name": "stdout",
     "output_type": "stream",
     "text": [
      "[1, 'Alice', 3.14, [5, 6, 7]]\n",
      "\n",
      "{'blue', 'green', 'red'}\n",
      "\n",
      "(1, 2, 3, 'Tom', [5, 6, 7])\n",
      "\n"
     ]
    }
   ],
   "source": [
    "# Homogeneous list\n",
    "homogeneous_list = [1, \"Alice\", 3.14, [5, 6, 7]]\n",
    "print(homogeneous_list)\n",
    "print()\n",
    "# Heterogeneous set\n",
    "heterogeneous_set = {\"red\", \"green\", \"blue\"}\n",
    "print(heterogeneous_set)\n",
    "print()\n",
    "# Homogeneous tuple\n",
    "homogeneous_tuple = (1, 2, 3, \"Tom\", [5, 6, 7])\n",
    "print(homogeneous_tuple)\n",
    "print()"
   ]
  },
  {
   "cell_type": "markdown",
   "id": "896bb7f8",
   "metadata": {},
   "source": [
    "#### Questtion 8. Explain the mutable and immutable data types with proper explanation & examples."
   ]
  },
  {
   "cell_type": "markdown",
   "id": "359388a0",
   "metadata": {},
   "source": [
    "#### Answer 8\n",
    "<br><br>\n",
    "Mutable data types in Python are those data types whose value can be changed in place after they have been created. They are not considered as thread-safe in nature. Mutable Objects are slower to access, as compared to immutable objects. Changing mutable objects is a cheaper operation in terms of space and time.<br>\n",
    "\n",
    "For eg :- List, Set, Dictionary.\n",
    "<br><br>\n",
    "Immutable data types are those data types in Python whose value can't be changed in place after they have been created. They are regarded as thread-safe in nature. Immutable objects are faster to access when compared to mutable objects. Changing immutable objects is an expensive operation since it involves creating a new copy for any changes made.<br>\n",
    "\n",
    "For eg :-  tuples, int, float, bool."
   ]
  },
  {
   "cell_type": "code",
   "execution_count": 18,
   "id": "fc36ba98",
   "metadata": {
    "ExecuteTime": {
     "end_time": "2023-05-26T18:52:00.426559Z",
     "start_time": "2023-05-26T18:52:00.400538Z"
    }
   },
   "outputs": [
    {
     "name": "stdout",
     "output_type": "stream",
     "text": [
      "Original List =  [1, 2, 3, 4, 5]\n",
      "\n",
      "List after appending a value =  [1, 2, 3, 4, 5, 10]\n",
      "\n",
      "List after extending a list =  [1, 2, 3, 4, 5, 10, 6, 11, 23]\n",
      "\n",
      "List after removing a value =  [1, 2, 4, 5, 10, 6, 11, 23]\n",
      "\n"
     ]
    }
   ],
   "source": [
    "# example of list - mutable data type in python\n",
    "# list\n",
    "my_list = [1,2,3,4,5]\n",
    "print(\"Original List = \",my_list)\n",
    "print()\n",
    "# using append in list\n",
    "my_list.append(10)\n",
    "print(\"List after appending a value = \",my_list)\n",
    "print()\n",
    "# using extend in list\n",
    "my_list.extend([6,11,23])\n",
    "print(\"List after extending a list = \",my_list)\n",
    "print()\n",
    "# after removing value from  list\n",
    "my_list.remove(3)\n",
    "print(\"List after removing a value = \",my_list)\n",
    "print()"
   ]
  },
  {
   "cell_type": "code",
   "execution_count": 19,
   "id": "f19015f5",
   "metadata": {
    "ExecuteTime": {
     "end_time": "2023-05-26T18:54:09.375595Z",
     "start_time": "2023-05-26T18:54:09.331100Z"
    }
   },
   "outputs": [
    {
     "name": "stdout",
     "output_type": "stream",
     "text": [
      "Original Set =  {1, 2, 5, 6, 7, 11}\n",
      "\n",
      "Set after adding a value :  {16, 1, 2, 5, 6, 7, 11}\n",
      "\n",
      "Set after updating some values :  {1, 2, 5, 6, 7, 9, 11, 78, 16, 100}\n",
      "\n",
      "Set after removing a value :  {1, 5, 6, 7, 9, 11, 78, 16, 100}\n",
      "\n"
     ]
    }
   ],
   "source": [
    "# example of sets - mutable data type in python\n",
    "# set\n",
    "my_set = {1,2,6,5,7,11}\n",
    "print(\"Original Set = \",my_set)\n",
    "print()\n",
    "# adding an element in our set\n",
    "my_set.add(16)\n",
    "print(\"Set after adding a value : \",my_set)\n",
    "print()\n",
    "# adding multiple elements in  set\n",
    "my_set.update([9,78,100])\n",
    "print(\"Set after updating some values : \",my_set)\n",
    "print()\n",
    "# removing element from  set\n",
    "my_set.remove(2)\n",
    "print(\"Set after removing a value : \",my_set)\n",
    "print()"
   ]
  },
  {
   "cell_type": "code",
   "execution_count": 20,
   "id": "b405d80a",
   "metadata": {
    "ExecuteTime": {
     "end_time": "2023-05-26T18:55:57.039732Z",
     "start_time": "2023-05-26T18:55:56.995386Z"
    }
   },
   "outputs": [
    {
     "name": "stdout",
     "output_type": "stream",
     "text": [
      "Original Dictionary =  {1, 5, 6, 7, 9, 11, 78, 16, 100}\n",
      "\n",
      "Dictionary after adding a new key-value pair =  {'state': 'WB', 'Capital': 'Kolkata', 'Country': 'India'}\n",
      "\n",
      "Dictionary after updating an existing key value pair =  {'state': 'West Bengal', 'Capital': 'Kolkata', 'Country': 'India'}\n",
      "\n",
      "Dictionary after popping out a key value pair =  {'state': 'West Bengal', 'Country': 'India'}\n",
      "\n",
      "After clearing the whole dictionary =  {}\n",
      "\n"
     ]
    }
   ],
   "source": [
    "# example of dictionary - mutable data type in python\n",
    "# dictionary\n",
    "my_dict = {\"state\":\"WB\", \"Capital\":\"Kolkata\"}\n",
    "print(\"Original Dictionary = \",my_set)\n",
    "print()\n",
    "# adding new key-value pair to dictionary\n",
    "my_dict['Country'] = \"India\"\n",
    "print(\"Dictionary after adding a new key-value pair = \",my_dict)\n",
    "print()\n",
    "# updating key-value pair in  dictionary\n",
    "my_dict['state'] = \"West Bengal\"\n",
    "print(\"Dictionary after updating an existing key value pair = \",my_dict)\n",
    "print()\n",
    "# removing key-value pair in dictionary\n",
    "my_dict.pop('Capital')\n",
    "print(\"Dictionary after popping out a key value pair = \",my_dict)\n",
    "print()\n",
    "# removing key-value pair in dictionary\n",
    "my_dict.clear()\n",
    "print(\"After clearing the whole dictionary = \",my_dict)\n",
    "print()"
   ]
  },
  {
   "cell_type": "code",
   "execution_count": 21,
   "id": "99280fc6",
   "metadata": {
    "ExecuteTime": {
     "end_time": "2023-05-26T19:03:23.605363Z",
     "start_time": "2023-05-26T19:03:23.545749Z"
    }
   },
   "outputs": [
    {
     "name": "stdout",
     "output_type": "stream",
     "text": [
      "10\n",
      "-5\n",
      "50\n"
     ]
    }
   ],
   "source": [
    "# integers\n",
    "print(10)\n",
    "print(-5)\n",
    "sum_int = 20+30\n",
    "print(sum_int)"
   ]
  },
  {
   "cell_type": "code",
   "execution_count": 22,
   "id": "0d8ff621",
   "metadata": {
    "ExecuteTime": {
     "end_time": "2023-05-26T19:03:54.606826Z",
     "start_time": "2023-05-26T19:03:54.541869Z"
    }
   },
   "outputs": [
    {
     "name": "stdout",
     "output_type": "stream",
     "text": [
      "Type of 4.5: <class 'float'>\n",
      "Type of -0.05: <class 'float'>\n",
      "number_3:  3.04e+20\n",
      "Type of 3.04e20: <class 'float'>\n"
     ]
    }
   ],
   "source": [
    "# float\n",
    "number_1 = 4.5\n",
    "print(\"Type of 4.5:\", type(number_1))\n",
    "number_2 = -0.05\n",
    "print(\"Type of -0.05:\", type(number_2))\n",
    "number_3 = 3.04e20\n",
    "print(\"number_3: \", number_3)\n",
    "print(\"Type of 3.04e20:\", type(number_3))"
   ]
  },
  {
   "cell_type": "code",
   "execution_count": 23,
   "id": "337b7ec6",
   "metadata": {
    "ExecuteTime": {
     "end_time": "2023-05-26T19:04:50.331015Z",
     "start_time": "2023-05-26T19:04:49.630225Z"
    }
   },
   "outputs": [
    {
     "name": "stdout",
     "output_type": "stream",
     "text": [
      "The original input tuple: ('hello', 'tutorialspoint', 'python')\n"
     ]
    },
    {
     "ename": "TypeError",
     "evalue": "'tuple' object does not support item assignment",
     "output_type": "error",
     "traceback": [
      "\u001b[1;31m---------------------------------------------------------------------------\u001b[0m",
      "\u001b[1;31mTypeError\u001b[0m                                 Traceback (most recent call last)",
      "Input \u001b[1;32mIn [23]\u001b[0m, in \u001b[0;36m<cell line: 6>\u001b[1;34m()\u001b[0m\n\u001b[0;32m      4\u001b[0m \u001b[38;5;28mprint\u001b[39m(\u001b[38;5;124m\"\u001b[39m\u001b[38;5;124mThe original input tuple:\u001b[39m\u001b[38;5;124m\"\u001b[39m, inputTuple)\n\u001b[0;32m      5\u001b[0m \u001b[38;5;66;03m# modifying the tuple element at index 2 using indexing\u001b[39;00m\n\u001b[1;32m----> 6\u001b[0m inputTuple[\u001b[38;5;241m2\u001b[39m]\u001b[38;5;241m=\u001b[39m \u001b[38;5;124m'\u001b[39m\u001b[38;5;124mwelcome\u001b[39m\u001b[38;5;124m'\u001b[39m\n\u001b[0;32m      7\u001b[0m \u001b[38;5;66;03m# printing input tuple after modifying\u001b[39;00m\n\u001b[0;32m      8\u001b[0m \u001b[38;5;28mprint\u001b[39m(\u001b[38;5;124m\"\u001b[39m\u001b[38;5;124mInput tuple after modification:\u001b[39m\u001b[38;5;124m\"\u001b[39m, inputTuple)\n",
      "\u001b[1;31mTypeError\u001b[0m: 'tuple' object does not support item assignment"
     ]
    }
   ],
   "source": [
    "# Tuple\n",
    "inputTuple = ('hello', 'tutorialspoint', 'python')\n",
    "# printing the original input tuple\n",
    "print(\"The original input tuple:\", inputTuple)\n",
    "# modifying the tuple element at index 2 using indexing\n",
    "inputTuple[2]= 'welcome'\n",
    "# printing input tuple after modifying\n",
    "print(\"Input tuple after modification:\", inputTuple)"
   ]
  },
  {
   "cell_type": "markdown",
   "id": "f8ffd17f",
   "metadata": {},
   "source": [
    "#### Question 9. Write a code to create the given structure using only for loop.\n",
    "\n",
    "&nbsp;&nbsp;&nbsp;&nbsp;&nbsp;&nbsp; &nbsp; ` *` <br>\n",
    "&nbsp;&nbsp;&nbsp;&nbsp;&nbsp;&nbsp;  `***`<br>\n",
    "&nbsp;&nbsp;&nbsp;&nbsp; `*****`<br>\n",
    "&nbsp;&nbsp;&nbsp; `*******`<br>\n",
    "&nbsp;&nbsp;`*********`<br>\n"
   ]
  },
  {
   "cell_type": "markdown",
   "id": "30df3da8",
   "metadata": {},
   "source": [
    "#### Answer 9\n",
    "\n",
    "Using for loop solved the program"
   ]
  },
  {
   "cell_type": "code",
   "execution_count": 25,
   "id": "e99188d0",
   "metadata": {
    "ExecuteTime": {
     "end_time": "2023-05-26T19:09:05.017489Z",
     "start_time": "2023-05-26T19:09:04.998492Z"
    }
   },
   "outputs": [
    {
     "name": "stdout",
     "output_type": "stream",
     "text": [
      "    *\n",
      "   ***\n",
      "  *****\n",
      " *******\n",
      "*********\n"
     ]
    }
   ],
   "source": [
    "# pyramid star pattern\n",
    "n = 5\n",
    "for i in range(1, n+1):\n",
    "    for j in range(n - i):\n",
    "        print(' ', end='')\n",
    "    for k in range(2 * i - 1):\n",
    "        print('*', end='')\n",
    "    print()"
   ]
  },
  {
   "cell_type": "markdown",
   "id": "7c052349",
   "metadata": {},
   "source": [
    "#### Question 10. Write a code to create the given structure using while loop.\n",
    "&nbsp;&nbsp;`|||||||||` <br>\n",
    "&nbsp;&nbsp;&nbsp; `|||||||` <br>\n",
    "&nbsp;&nbsp;&nbsp;&nbsp; `|||||` <br>\n",
    "&nbsp;&nbsp;&nbsp;&nbsp;&nbsp;&nbsp;  `|||` <br>\n",
    "&nbsp;&nbsp;&nbsp;&nbsp;&nbsp;&nbsp; &nbsp; `|` <br>"
   ]
  },
  {
   "cell_type": "markdown",
   "id": "2da74371",
   "metadata": {},
   "source": [
    "#### Answer 10\n",
    "\n",
    "Using for loop solved the program"
   ]
  },
  {
   "cell_type": "code",
   "execution_count": 26,
   "id": "bffcf437",
   "metadata": {
    "ExecuteTime": {
     "end_time": "2023-05-26T19:09:44.343817Z",
     "start_time": "2023-05-26T19:09:44.324820Z"
    }
   },
   "outputs": [
    {
     "name": "stdout",
     "output_type": "stream",
     "text": [
      "|||||||||\n",
      " |||||||\n",
      "  |||||\n",
      "   |||\n",
      "    |\n"
     ]
    }
   ],
   "source": [
    "# reverse pyramid pattern\n",
    "n = 5\n",
    "for i in range(1, n+1):\n",
    "    # printing spaces\n",
    "    for j in range(i-1):\n",
    "        print(' ', end='')\n",
    "    # printing stars\n",
    "    for j in range(2*(n-i)+1):\n",
    "        print('|', end='')\n",
    "    print()"
   ]
  },
  {
   "cell_type": "code",
   "execution_count": null,
   "id": "dc1a58fc",
   "metadata": {},
   "outputs": [],
   "source": []
  }
 ],
 "metadata": {
  "kernelspec": {
   "display_name": "Python 3 (ipykernel)",
   "language": "python",
   "name": "python3"
  },
  "language_info": {
   "codemirror_mode": {
    "name": "ipython",
    "version": 3
   },
   "file_extension": ".py",
   "mimetype": "text/x-python",
   "name": "python",
   "nbconvert_exporter": "python",
   "pygments_lexer": "ipython3",
   "version": "3.9.12"
  },
  "varInspector": {
   "cols": {
    "lenName": 16,
    "lenType": 16,
    "lenVar": 40
   },
   "kernels_config": {
    "python": {
     "delete_cmd_postfix": "",
     "delete_cmd_prefix": "del ",
     "library": "var_list.py",
     "varRefreshCmd": "print(var_dic_list())"
    },
    "r": {
     "delete_cmd_postfix": ") ",
     "delete_cmd_prefix": "rm(",
     "library": "var_list.r",
     "varRefreshCmd": "cat(var_dic_list()) "
    }
   },
   "types_to_exclude": [
    "module",
    "function",
    "builtin_function_or_method",
    "instance",
    "_Feature"
   ],
   "window_display": false
  }
 },
 "nbformat": 4,
 "nbformat_minor": 5
}
