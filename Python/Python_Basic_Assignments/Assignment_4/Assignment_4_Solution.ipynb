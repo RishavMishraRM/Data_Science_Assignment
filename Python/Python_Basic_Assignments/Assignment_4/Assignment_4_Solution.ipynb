{
 "cells": [
  {
   "cell_type": "markdown",
   "id": "196010ee",
   "metadata": {},
   "source": [
    "#### Question 1. What exactly is [ ] ?"
   ]
  },
  {
   "cell_type": "markdown",
   "id": "6a037b9e",
   "metadata": {},
   "source": [
    "#### Answer 1\n",
    "\n",
    "This is empty paranthesis `[]` here which represents empty elements."
   ]
  },
  {
   "cell_type": "code",
   "execution_count": 1,
   "id": "03088445",
   "metadata": {
    "ExecuteTime": {
     "end_time": "2023-05-25T17:23:29.609819Z",
     "start_time": "2023-05-25T17:23:29.580823Z"
    }
   },
   "outputs": [
    {
     "name": "stdout",
     "output_type": "stream",
     "text": [
      "[]\n",
      "['a', 'b', 'c']\n"
     ]
    }
   ],
   "source": [
    "#empty string\n",
    "a = []\n",
    "print(a)\n",
    "# filled string\n",
    "a = [\"a\", \"b\", \"c\"]\n",
    "print(a)"
   ]
  },
  {
   "cell_type": "markdown",
   "id": "d367dc2a",
   "metadata": {},
   "source": [
    "----------(Assume [2, 4, 6, 8, 10] are in spam.)----------"
   ]
  },
  {
   "cell_type": "markdown",
   "id": "39b30ac9",
   "metadata": {},
   "source": [
    "#### Question 2. In a list of values stored in a variable called spam, how would you assign the value 'hello' as the third value?"
   ]
  },
  {
   "cell_type": "markdown",
   "id": "872fa4a5",
   "metadata": {},
   "source": [
    "#### Answer 2\n",
    "\n",
    "In list stored of variable called \"spam\" we need to assign \"hello\" in the 3rd place, then the other element at that place will be interchanged with the assigned element to it."
   ]
  },
  {
   "cell_type": "code",
   "execution_count": 2,
   "id": "6506d7fb",
   "metadata": {
    "ExecuteTime": {
     "end_time": "2023-05-25T17:23:29.768823Z",
     "start_time": "2023-05-25T17:23:29.614819Z"
    }
   },
   "outputs": [
    {
     "data": {
      "text/plain": [
       "[2, 4, 'hello', 8, 10]"
      ]
     },
     "execution_count": 2,
     "metadata": {},
     "output_type": "execute_result"
    }
   ],
   "source": [
    "# value in index 3\n",
    "spam = [2, 4, 6, 8, 10] # taking spam value for next 3 questions\n",
    "spam[2] = 'hello'\n",
    "spam"
   ]
  },
  {
   "cell_type": "markdown",
   "id": "83d4c43b",
   "metadata": {
    "ExecuteTime": {
     "end_time": "2023-05-25T04:42:59.277213Z",
     "start_time": "2023-05-25T04:42:59.268222Z"
    }
   },
   "source": [
    "#### Question 3. What is the value of spam[int(int('3'*2)/11)]"
   ]
  },
  {
   "cell_type": "markdown",
   "id": "8417def8",
   "metadata": {},
   "source": [
    "#### Answer 3\n",
    "<br><br>\n",
    "* '3'** 2 will give '33' as 3 being a string in equation<br>\n",
    "* int('33') will be 33 as string will be then converted into int<br>\n",
    "* 33/11 will be 3.0<br>\n",
    "* int(3.0) will give 3 as float will be then converted into int<br>\n",
    "* spam[3] will be value at index 3 then solution is '8'<br>"
   ]
  },
  {
   "cell_type": "code",
   "execution_count": 3,
   "id": "969b0061",
   "metadata": {
    "ExecuteTime": {
     "end_time": "2023-05-25T17:23:29.895815Z",
     "start_time": "2023-05-25T17:23:29.776821Z"
    }
   },
   "outputs": [
    {
     "name": "stdout",
     "output_type": "stream",
     "text": [
      "[2, 4, 6, 8, 10]\n"
     ]
    },
    {
     "data": {
      "text/plain": [
       "8"
      ]
     },
     "execution_count": 3,
     "metadata": {},
     "output_type": "execute_result"
    }
   ],
   "source": [
    "spam = [2, 4, 6, 8, 10]\n",
    "print(spam)\n",
    "spam[int(int('3' * 2) / 11)]"
   ]
  },
  {
   "cell_type": "markdown",
   "id": "7379e86e",
   "metadata": {},
   "source": [
    "#### Question 4. What is the value of spam[-1]?"
   ]
  },
  {
   "cell_type": "markdown",
   "id": "973a8e7c",
   "metadata": {},
   "source": [
    "#### Answer 4 \n",
    "\n",
    "In Lists we can use negative indexing, Hence `spam[-1]` returs 'e'. When we use negative indexing then the extracting of elements starts from the end."
   ]
  },
  {
   "cell_type": "code",
   "execution_count": 4,
   "id": "57c60735",
   "metadata": {
    "ExecuteTime": {
     "end_time": "2023-05-25T17:23:30.022824Z",
     "start_time": "2023-05-25T17:23:29.899817Z"
    }
   },
   "outputs": [
    {
     "name": "stdout",
     "output_type": "stream",
     "text": [
      "[2, 4, 6, 8, 10]\n"
     ]
    },
    {
     "data": {
      "text/plain": [
       "10"
      ]
     },
     "execution_count": 4,
     "metadata": {},
     "output_type": "execute_result"
    }
   ],
   "source": [
    "spam = [2, 4, 6, 8, 10]\n",
    "print(spam)\n",
    "spam[-1] # negative index "
   ]
  },
  {
   "cell_type": "markdown",
   "id": "89ae9889",
   "metadata": {},
   "source": [
    "#### Question 5. What is the value of spam[:2] ?"
   ]
  },
  {
   "cell_type": "markdown",
   "id": "4bb2c2ab",
   "metadata": {},
   "source": [
    "#### Answer 5 \n",
    "\n",
    "In this case of spam[:2] it will return elements of the list spam from 0(initial) to 2(asked in statement) excluding 2 because indexing starts from 0."
   ]
  },
  {
   "cell_type": "code",
   "execution_count": 5,
   "id": "2ea7c5ea",
   "metadata": {
    "ExecuteTime": {
     "end_time": "2023-05-25T17:23:30.182832Z",
     "start_time": "2023-05-25T17:23:30.029821Z"
    }
   },
   "outputs": [
    {
     "name": "stdout",
     "output_type": "stream",
     "text": [
      "[2, 4, 6, 8, 10]\n"
     ]
    },
    {
     "data": {
      "text/plain": [
       "[2, 4]"
      ]
     },
     "execution_count": 5,
     "metadata": {},
     "output_type": "execute_result"
    }
   ],
   "source": [
    "spam = [2, 4, 6, 8, 10]\n",
    "print(spam)\n",
    "spam[:2] #indexing to 2"
   ]
  },
  {
   "cell_type": "markdown",
   "id": "64294049",
   "metadata": {},
   "source": [
    "----------Let's pretend bacon has the list [3.14, 'cat,' 11, 'cat,' True] for the next three questions.----------"
   ]
  },
  {
   "cell_type": "markdown",
   "id": "c816094b",
   "metadata": {},
   "source": [
    "#### Question 6. What is the value of bacon.index('cat')?"
   ]
  },
  {
   "cell_type": "markdown",
   "id": "01b05ab1",
   "metadata": {},
   "source": [
    "#### Answer 6\n",
    "\n",
    "The value of bacon.index('cat') is 1 (Index method returns the index of first occuerence of 'cat')."
   ]
  },
  {
   "cell_type": "code",
   "execution_count": 6,
   "id": "d97c2aa5",
   "metadata": {
    "ExecuteTime": {
     "end_time": "2023-05-25T17:23:30.323551Z",
     "start_time": "2023-05-25T17:23:30.189833Z"
    }
   },
   "outputs": [
    {
     "name": "stdout",
     "output_type": "stream",
     "text": [
      "bacon.index('cat') --->  1\n"
     ]
    }
   ],
   "source": [
    "bacon=[3.14,'cat',11,'cat',True]\n",
    "print(\"bacon.index('cat') ---> \",bacon.index('cat')) # it returns the index of first occurrence of 'cat'"
   ]
  },
  {
   "cell_type": "markdown",
   "id": "8296e3d6",
   "metadata": {},
   "source": [
    "#### Question 7. How does bacon.append(99) change the look of the list value in bacon?"
   ]
  },
  {
   "cell_type": "markdown",
   "id": "c945ebc7",
   "metadata": {},
   "source": [
    "#### Answer 7 \n",
    "\n",
    "The append method adds new elements to the end of the list"
   ]
  },
  {
   "cell_type": "code",
   "execution_count": 7,
   "id": "d1bc69f1",
   "metadata": {
    "ExecuteTime": {
     "end_time": "2023-05-25T17:23:30.462692Z",
     "start_time": "2023-05-25T17:23:30.328494Z"
    }
   },
   "outputs": [
    {
     "name": "stdout",
     "output_type": "stream",
     "text": [
      "[3.14, 'cat', 11, 'cat', True, 99]\n"
     ]
    }
   ],
   "source": [
    "bacon = [3.14, 'cat', 11, 'cat', True]\n",
    "bacon.append(99) # append adds the item at the end of the list\n",
    "print(bacon)"
   ]
  },
  {
   "cell_type": "markdown",
   "id": "8e72def3",
   "metadata": {},
   "source": [
    "#### Question 8. How does bacon.remove('cat') change the look of the list in bacon?"
   ]
  },
  {
   "cell_type": "markdown",
   "id": "6f0e259c",
   "metadata": {},
   "source": [
    "#### Answer 8 \n",
    "\n",
    "The given statement `bacon.remove('cat')` will remove the first occurence of the element in the list."
   ]
  },
  {
   "cell_type": "code",
   "execution_count": 8,
   "id": "8dedd2f4",
   "metadata": {
    "ExecuteTime": {
     "end_time": "2023-05-25T17:23:30.572890Z",
     "start_time": "2023-05-25T17:23:30.469671Z"
    }
   },
   "outputs": [
    {
     "name": "stdout",
     "output_type": "stream",
     "text": [
      "[3.14, 11, 'cat', True]\n"
     ]
    }
   ],
   "source": [
    "bacon = [3.14, 'cat', 11, 'cat', True]\n",
    "bacon.remove('cat') # remove first occurrence of item\n",
    "print(bacon)"
   ]
  },
  {
   "cell_type": "markdown",
   "id": "59e7c53e",
   "metadata": {},
   "source": [
    "#### Question 9. What are the list concatenation and list replication operations ?"
   ]
  },
  {
   "cell_type": "markdown",
   "id": "5b35ae73",
   "metadata": {},
   "source": [
    "#### Answer 9 \n",
    "\n",
    "* The `'+' operator` can be used to concatenate two lists.\n",
    "* The `'*' operator` can be used to replicate list."
   ]
  },
  {
   "cell_type": "code",
   "execution_count": 9,
   "id": "bfc7505f",
   "metadata": {
    "ExecuteTime": {
     "end_time": "2023-05-25T17:23:30.730960Z",
     "start_time": "2023-05-25T17:23:30.577840Z"
    }
   },
   "outputs": [
    {
     "name": "stdout",
     "output_type": "stream",
     "text": [
      "[1, 2, 3, 4, 5, 6]\n"
     ]
    }
   ],
   "source": [
    "# list concatination\n",
    "l1 = [1, 2, 3]\n",
    "l2 = [4, 5, 6]\n",
    "print(l1+l2) "
   ]
  },
  {
   "cell_type": "code",
   "execution_count": 10,
   "id": "6879f511",
   "metadata": {
    "ExecuteTime": {
     "end_time": "2023-05-25T17:23:30.857531Z",
     "start_time": "2023-05-25T17:23:30.736952Z"
    }
   },
   "outputs": [
    {
     "name": "stdout",
     "output_type": "stream",
     "text": [
      "[1, 2, 3, 4, 5, 6, 1, 2, 3, 4, 5, 6, 1, 2, 3, 4, 5, 6]\n"
     ]
    }
   ],
   "source": [
    "# list replication\n",
    "l1 = [1, 2, 3, 4, 5, 6]\n",
    "print(l1*3)"
   ]
  },
  {
   "cell_type": "markdown",
   "id": "e179ff26",
   "metadata": {},
   "source": [
    "#### Question 10. What is difference between the list methods append() and insert() ?"
   ]
  },
  {
   "cell_type": "markdown",
   "id": "7f707a16",
   "metadata": {},
   "source": [
    "#### Answer 10\n",
    "\n",
    "* `append()` to add the element only at end of the list.\n",
    "* `insert()` to add a specific element at a specific index."
   ]
  },
  {
   "cell_type": "code",
   "execution_count": 11,
   "id": "2ab8c27d",
   "metadata": {
    "ExecuteTime": {
     "end_time": "2023-05-25T17:23:31.017524Z",
     "start_time": "2023-05-25T17:23:30.879529Z"
    }
   },
   "outputs": [
    {
     "data": {
      "text/plain": [
       "[3.14, 'cat', 11, 'cat', True, 99]"
      ]
     },
     "execution_count": 11,
     "metadata": {},
     "output_type": "execute_result"
    }
   ],
   "source": [
    "# append adds the item at the end of the list\n",
    "bacon = [3.14, 'cat', 11, 'cat', True]\n",
    "bacon.append(99) \n",
    "bacon"
   ]
  },
  {
   "cell_type": "code",
   "execution_count": 12,
   "id": "8ddadd51",
   "metadata": {
    "ExecuteTime": {
     "end_time": "2023-05-25T17:23:31.127818Z",
     "start_time": "2023-05-25T17:23:31.028510Z"
    }
   },
   "outputs": [
    {
     "data": {
      "text/plain": [
       "[3.14, 'cat', 'hello', 11, 'cat', True]"
      ]
     },
     "execution_count": 12,
     "metadata": {},
     "output_type": "execute_result"
    }
   ],
   "source": [
    "# inserting by using insert command in 3rd index with value\n",
    "bacon = [3.14, 'cat', 11, 'cat', True]\n",
    "bacon.insert(2,'hello')\n",
    "bacon"
   ]
  },
  {
   "cell_type": "markdown",
   "id": "5d5112d7",
   "metadata": {},
   "source": [
    "#### Question 11. What are the two methods for removing items from a list ?"
   ]
  },
  {
   "cell_type": "markdown",
   "id": "1162b215",
   "metadata": {},
   "source": [
    "#### Answer 11\n",
    "\n",
    "To remove items from the list. We use two methods\n",
    "1. Remove - this removes the first occurance from the list - `list.remove(\"value\")`\n",
    "2. POP - this removes the element by index. If index not given then will remove the last element - `list.pop(index)`"
   ]
  },
  {
   "cell_type": "code",
   "execution_count": 13,
   "id": "ae68c636",
   "metadata": {
    "ExecuteTime": {
     "end_time": "2023-05-25T17:23:31.315829Z",
     "start_time": "2023-05-25T17:23:31.130835Z"
    }
   },
   "outputs": [
    {
     "data": {
      "text/plain": [
       "[3.14, 11, 'cat', True]"
      ]
     },
     "execution_count": 13,
     "metadata": {},
     "output_type": "execute_result"
    }
   ],
   "source": [
    "#removes first occurence of a item\n",
    "bacon = [3.14, 'cat', 11, 'cat', True]\n",
    "bacon.remove('cat')\n",
    "bacon"
   ]
  },
  {
   "cell_type": "code",
   "execution_count": 14,
   "id": "ea86bced",
   "metadata": {
    "ExecuteTime": {
     "end_time": "2023-05-25T17:23:31.427237Z",
     "start_time": "2023-05-25T17:23:31.327800Z"
    }
   },
   "outputs": [
    {
     "data": {
      "text/plain": [
       "[3.14, 'cat', 11, True]"
      ]
     },
     "execution_count": 14,
     "metadata": {},
     "output_type": "execute_result"
    }
   ],
   "source": [
    "#pop() - Remove item at index.\n",
    "bacon = [3.14, 'cat', 11, 'cat', True]\n",
    "bacon.pop(3)\n",
    "bacon"
   ]
  },
  {
   "cell_type": "markdown",
   "id": "cc5e1dae",
   "metadata": {},
   "source": [
    "#### Question 12. Describe how list values and string values are identical."
   ]
  },
  {
   "cell_type": "markdown",
   "id": "b9c252cc",
   "metadata": {
    "ExecuteTime": {
     "end_time": "2023-05-25T16:03:53.110404Z",
     "start_time": "2023-05-25T16:03:53.052398Z"
    }
   },
   "source": [
    "#### Answer 12\n",
    "\n",
    "List values and string values are identical Because :-\n",
    "<br><br>\n",
    "* We can access char in string by index just like elements in list.\n",
    "* Both lists and strings can be passed to len().\n",
    "* Have indexes and slices.\n",
    "* It can be used in for loops.\n",
    "* We can do pop operation in both. etc.\n",
    "* It can be concatenated or replicated\n",
    "* It can be used with the in and not in operators."
   ]
  },
  {
   "cell_type": "markdown",
   "id": "11ac0918",
   "metadata": {},
   "source": [
    "#### Question 13. What's the difference between tuples and lists?"
   ]
  },
  {
   "cell_type": "markdown",
   "id": "e6884a77",
   "metadata": {},
   "source": [
    "#### Answer 13\n",
    "<br>\n",
    "Tuples : are immutable but not indexable, slicable - they cannot be changed at all. Tuples are written using parentheses, ( ) <br>\n",
    "Lists : are mutable, indexable, slicable - they can have values added, removed, or changed. lists use the square brackets, [ ] <br>"
   ]
  },
  {
   "cell_type": "code",
   "execution_count": 15,
   "id": "d19602c5",
   "metadata": {
    "ExecuteTime": {
     "end_time": "2023-05-25T17:23:31.565801Z",
     "start_time": "2023-05-25T17:23:31.430229Z"
    }
   },
   "outputs": [],
   "source": [
    "tuples_num = (10, 20, 30, 40) # tuple\n",
    "\n",
    "list_num = [10, 20, 30, 40] # list"
   ]
  },
  {
   "cell_type": "markdown",
   "id": "709c30ba",
   "metadata": {},
   "source": [
    "#### Question 14. How do you type a tuple value that only contains the integer 42 ?"
   ]
  },
  {
   "cell_type": "markdown",
   "id": "2415fddc",
   "metadata": {},
   "source": [
    "#### Answer 14\n",
    "\n",
    "(42,) (The trailing comma is mandatory. otherwise its considered as a int by python Interpreter)"
   ]
  },
  {
   "cell_type": "code",
   "execution_count": 16,
   "id": "c48ff5cb",
   "metadata": {
    "ExecuteTime": {
     "end_time": "2023-05-25T17:23:31.705938Z",
     "start_time": "2023-05-25T17:23:31.576697Z"
    }
   },
   "outputs": [
    {
     "name": "stdout",
     "output_type": "stream",
     "text": [
      "<class 'int'>\n",
      "<class 'tuple'>\n"
     ]
    }
   ],
   "source": [
    "tup1 = (42)\n",
    "tup2 = (42,)\n",
    "print(type(tup1))\n",
    "print(type(tup2))"
   ]
  },
  {
   "cell_type": "markdown",
   "id": "580c155c",
   "metadata": {},
   "source": [
    "#### Question 15. How do you get a list value's tuple form ? How do you get a tuple value's list form ?"
   ]
  },
  {
   "cell_type": "markdown",
   "id": "3e32a47e",
   "metadata": {},
   "source": [
    "#### Answer 15\n",
    "\n",
    "* tuple(list_name) will return list as tuple\n",
    "\n",
    "* list(tuple_name) will return tuple as list"
   ]
  },
  {
   "cell_type": "code",
   "execution_count": 17,
   "id": "774b0854",
   "metadata": {
    "ExecuteTime": {
     "end_time": "2023-05-25T17:23:31.845584Z",
     "start_time": "2023-05-25T17:23:31.710961Z"
    }
   },
   "outputs": [
    {
     "data": {
      "text/plain": [
       "(1, 2, 3, 4)"
      ]
     },
     "execution_count": 17,
     "metadata": {},
     "output_type": "execute_result"
    }
   ],
   "source": [
    "l1 = [1, 2, 3, 4]\n",
    "l = tuple(l1)\n",
    "l"
   ]
  },
  {
   "cell_type": "code",
   "execution_count": 18,
   "id": "883aa944",
   "metadata": {
    "ExecuteTime": {
     "end_time": "2023-05-25T17:23:32.002728Z",
     "start_time": "2023-05-25T17:23:31.851597Z"
    }
   },
   "outputs": [
    {
     "data": {
      "text/plain": [
       "[1, 2, 3, 4]"
      ]
     },
     "execution_count": 18,
     "metadata": {},
     "output_type": "execute_result"
    }
   ],
   "source": [
    "t1 = (1, 2, 3, 4)\n",
    "t = list(t1)\n",
    "t"
   ]
  },
  {
   "cell_type": "markdown",
   "id": "b05c89b5",
   "metadata": {},
   "source": [
    "#### Question 16. Variables that \"contain\" list values are not necessarily lists themselves. Instead, what do they contain ?"
   ]
  },
  {
   "cell_type": "markdown",
   "id": "1b788a14",
   "metadata": {},
   "source": [
    "#### Answer 16\n",
    "\n",
    "They contain references to list values."
   ]
  },
  {
   "cell_type": "code",
   "execution_count": 19,
   "id": "df98a92c",
   "metadata": {
    "ExecuteTime": {
     "end_time": "2023-05-25T17:23:32.127493Z",
     "start_time": "2023-05-25T17:23:32.006679Z"
    }
   },
   "outputs": [
    {
     "name": "stdout",
     "output_type": "stream",
     "text": [
      "[1, 2, 3]\n",
      "2719302359872\n"
     ]
    }
   ],
   "source": [
    "var = [1,2,3]\n",
    "print(var)\n",
    "print(id(var))"
   ]
  },
  {
   "cell_type": "markdown",
   "id": "c56ab5d6",
   "metadata": {},
   "source": [
    "#### Question 17. How do you distinguish between copy.copy() and copy.deepcopy()?"
   ]
  },
  {
   "cell_type": "markdown",
   "id": "e179ac8a",
   "metadata": {},
   "source": [
    "#### Answer 17\n",
    "<br><br>\n",
    "The copy.copy() function will do a shallow copy of a list.<br>\n",
    "The copy.deepcopy() function will do a deep copy of a list. only copy.deepcopy() will duplicate any lists inside the list."
   ]
  },
  {
   "cell_type": "code",
   "execution_count": 20,
   "id": "223886fc",
   "metadata": {
    "ExecuteTime": {
     "end_time": "2023-05-25T17:23:32.253511Z",
     "start_time": "2023-05-25T17:23:32.132492Z"
    }
   },
   "outputs": [
    {
     "name": "stdout",
     "output_type": "stream",
     "text": [
      "[1, 2, [3, 5], 4]\n",
      "[1, 2, [3, 5], 4]\n",
      "[1, 2, [3, 5], 4]\n"
     ]
    }
   ],
   "source": [
    "# importing copy module\n",
    "import copy\n",
    "\n",
    "# initializing list 1\n",
    "li1 = [1, 2, [3,5], 4]\n",
    "print(li1)\n",
    "\n",
    "# using copy for shallow copy\n",
    "li2 = copy.copy(li1)\n",
    "print(li2)\n",
    "\n",
    "# using deepcopy for deepcopy\n",
    "li3 = copy.deepcopy(li1)\n",
    "print(li3)"
   ]
  },
  {
   "cell_type": "code",
   "execution_count": null,
   "id": "b62b91fe",
   "metadata": {},
   "outputs": [],
   "source": []
  }
 ],
 "metadata": {
  "kernelspec": {
   "display_name": "Python 3 (ipykernel)",
   "language": "python",
   "name": "python3"
  },
  "language_info": {
   "codemirror_mode": {
    "name": "ipython",
    "version": 3
   },
   "file_extension": ".py",
   "mimetype": "text/x-python",
   "name": "python",
   "nbconvert_exporter": "python",
   "pygments_lexer": "ipython3",
   "version": "3.9.12"
  },
  "varInspector": {
   "cols": {
    "lenName": 16,
    "lenType": 16,
    "lenVar": 40
   },
   "kernels_config": {
    "python": {
     "delete_cmd_postfix": "",
     "delete_cmd_prefix": "del ",
     "library": "var_list.py",
     "varRefreshCmd": "print(var_dic_list())"
    },
    "r": {
     "delete_cmd_postfix": ") ",
     "delete_cmd_prefix": "rm(",
     "library": "var_list.r",
     "varRefreshCmd": "cat(var_dic_list()) "
    }
   },
   "types_to_exclude": [
    "module",
    "function",
    "builtin_function_or_method",
    "instance",
    "_Feature"
   ],
   "window_display": false
  }
 },
 "nbformat": 4,
 "nbformat_minor": 5
}
