{
 "cells": [
  {
   "cell_type": "markdown",
   "id": "48ead4af",
   "metadata": {},
   "source": [
    "#### Question 1. Create two int type variables, apply addition, subtraction, division and multiplications and store the results in variables. Then print the data in the following format by calling the variables: <br>\n",
    "First variable is __ & second variable is __.<br>\n",
    "Addition: __ + __ = __<br>\n",
    "Subtraction: __ - __ = __<br>\n",
    "Multiplication: __ * __ = __<br>\n",
    "Division: __ / __ = __<br>"
   ]
  },
  {
   "cell_type": "markdown",
   "id": "2df69400",
   "metadata": {},
   "source": [
    "#### Answer 1\n",
    "\n",
    "Here we are performing the math operations and printing it calling the variables where we have done the calculations."
   ]
  },
  {
   "cell_type": "code",
   "execution_count": 5,
   "id": "0cef6ccb",
   "metadata": {
    "ExecuteTime": {
     "end_time": "2023-05-28T16:02:03.274068Z",
     "start_time": "2023-05-28T16:02:00.985140Z"
    }
   },
   "outputs": [
    {
     "name": "stdout",
     "output_type": "stream",
     "text": [
      "Please enter 1st number : 10\n",
      "Please enter 2nd number : 2\n",
      "First variable is 10 & second variable is 2.\n",
      "Addition :  10 + 2 = 12\n",
      "Subtraction :  10 - 2 = 8\n",
      "Multiplication :  10 * 2 = 20\n",
      "Division :  10 / 2 = 5.0\n"
     ]
    }
   ],
   "source": [
    "num_1 = int(input(\"Please enter 1st number : \"))\n",
    "num_2 = int(input(\"Please enter 2nd number : \"))\n",
    "print(f\"First variable is {num_1} & second variable is {num_2}.\")\n",
    "add =  num_1 + num_2\n",
    "print(\"Addition : \", num_1, \"+\", num_2,\"=\" , add)\n",
    "sub =  num_1 - num_2\n",
    "print(\"Subtraction : \", num_1, \"-\", num_2,\"=\" , sub)\n",
    "mul = num_1 * num_2\n",
    "print(\"Multiplication : \", num_1, \"*\", num_2,\"=\" , mul)\n",
    "div = num_1 / num_2\n",
    "print(\"Division : \", num_1, \"/\", num_2,\"=\" , div)"
   ]
  },
  {
   "cell_type": "markdown",
   "id": "06d13699",
   "metadata": {},
   "source": [
    "#### Qusetion 2. What is the difference between the following operators:<br>\n",
    "(i) ‘/’ & ‘//’<br>\n",
    "(ii) ‘**’ & ‘^’<br>"
   ]
  },
  {
   "cell_type": "markdown",
   "id": "4e43001a",
   "metadata": {},
   "source": [
    "#### Answer 2\n",
    "<br><br>\n",
    "These are operators in python which we use in programs.<br>\n",
    "(i)<br> \n",
    "* Single Slash ( / ) - This in python is used for division between two numbers and it will give value of division in float format.<br>\n",
    "For eg :- 10 / 6 = 1.6666666666666667<br>\n",
    "* Double Slash ( // ) - This in python is used for floor division between two numbers and it will give minimum value of division in int format.<br>\n",
    "For eg :- 10 / 6 = 1<br>\n",
    "\n",
    "(ii)<br>\n",
    "* Double Asterisks ( ** ) - In python, we use Double Asterisks as an exponentiation operator.<br>\n",
    "For eg :- 2 ** 6 = 64<br>\n",
    "* Bitwise XOR ( ^ ) - In python, we use Bitwise XOR for checking our conditional statements in which it sets each bit to 1 if only one of two bits is 1 in the binary operation.<br>\n",
    "For eg :- 10 ^ 3 = 9<br>"
   ]
  },
  {
   "cell_type": "code",
   "execution_count": 12,
   "id": "5593c3ad",
   "metadata": {
    "ExecuteTime": {
     "end_time": "2023-05-28T19:53:40.574900Z",
     "start_time": "2023-05-28T19:53:40.506266Z"
    }
   },
   "outputs": [
    {
     "name": "stdout",
     "output_type": "stream",
     "text": [
      "Single Slash (/) 5 / 3 = 1.6666666666666667\n",
      "Double Slash (//) 5 // 3 = 1\n"
     ]
    }
   ],
   "source": [
    "# (i) ‘/’ & ‘//’\n",
    "\n",
    "x = 5\n",
    "y = 3\n",
    "print(\"Single Slash (/)\", x, \"/\", y, \"=\", x/y)\n",
    "print(\"Double Slash (//)\", x, \"//\", y, \"=\", x//y)"
   ]
  },
  {
   "cell_type": "code",
   "execution_count": 13,
   "id": "f3a83a14",
   "metadata": {
    "ExecuteTime": {
     "end_time": "2023-05-28T19:53:51.272672Z",
     "start_time": "2023-05-28T19:53:51.254677Z"
    }
   },
   "outputs": [
    {
     "name": "stdout",
     "output_type": "stream",
     "text": [
      "Double Asterisks (**) 5 ** 3 = 125\n",
      "Bitwise XOR (^) 5 ^ 3 = 6\n"
     ]
    }
   ],
   "source": [
    "# (ii) ‘**’ & ‘^’\n",
    "\n",
    "x = 5\n",
    "y = 3\n",
    "print(\"Double Asterisks (**)\", x, \"**\", y, \"=\", x**y)\n",
    "print(\"Bitwise XOR (^)\", x, \"^\", y, \"=\", x^y)"
   ]
  },
  {
   "cell_type": "markdown",
   "id": "1acb757d",
   "metadata": {},
   "source": [
    "#### Qustion 3. List the logical operators."
   ]
  },
  {
   "cell_type": "markdown",
   "id": "2a2b98e2",
   "metadata": {},
   "source": [
    "#### Answer 3\n",
    "<br><br>\n",
    "In Python, we have only 3 logical operators and they are as follows :<br>\n",
    "(i) and - Returns True if both statements are true, else False.<br>\n",
    "For eg :- <br>\n",
    "<br>\n",
    "x = 6<br>\n",
    "print(x > 2 and x < 16) -- True<br>\n",
    "<br>\n",
    "(ii) or - Returns True if one of the statements is true, else False.<br>\n",
    "For eg :- <br>\n",
    "<br>\n",
    "x = 6<br>\n",
    "print(x > 3 or x < 4) -- True<br>\n",
    "<br>\n",
    "(iii) not - Reverse the result, returns False if the result is true, else False.<br>\n",
    "For eg :- <br>\n",
    "<br>\n",
    "x = 8<br>\n",
    "print(not(x > 2 and x < 9)) -- False<br>"
   ]
  },
  {
   "cell_type": "code",
   "execution_count": 14,
   "id": "b94dff1f",
   "metadata": {
    "ExecuteTime": {
     "end_time": "2023-05-28T20:01:46.752067Z",
     "start_time": "2023-05-28T20:01:46.680018Z"
    }
   },
   "outputs": [
    {
     "name": "stdout",
     "output_type": "stream",
     "text": [
      "True\n",
      "True\n",
      "False\n"
     ]
    }
   ],
   "source": [
    "x = 5\n",
    "#AND\n",
    "print(x > 2 and x < 16)\n",
    "# OR\n",
    "print(x > 3 or x < 4)\n",
    "# NOT\n",
    "print(not(x > 2 and x < 9))"
   ]
  },
  {
   "cell_type": "markdown",
   "id": "5cb66275",
   "metadata": {},
   "source": [
    "#### Qustion 4. Explain right shift operator and left shift operator with examples."
   ]
  },
  {
   "cell_type": "markdown",
   "id": "e2ffb118",
   "metadata": {},
   "source": [
    "#### Answer 4 \n",
    "<br><br>\n",
    "* Right Shift Operator: In binary format it shifts the bits of the number to the right and fills 0 on voids left (it fills 1 in the case of a negative number) as a result.<br>\n",
    "<br>\n",
    "For eg :- <br>\n",
    "a = 10 = 0000 1010 <br>\n",
    "a >> 1 = 0000 0101 = 5<br>\n",
    "<br>\n",
    "* Left Shift Operator: In binary format it shifts the bits of the number to the left and fills 0 on voids right (it fills 1 in the case of a negative number) as a result.<br>\n",
    "<br>\n",
    "For eg :- <br>\n",
    "a = 5 = 0000 0101 <br>\n",
    "a << 1 = 0000 1010 = 10<br>\n"
   ]
  },
  {
   "cell_type": "code",
   "execution_count": 16,
   "id": "5a9088dc",
   "metadata": {
    "ExecuteTime": {
     "end_time": "2023-05-28T20:20:46.342420Z",
     "start_time": "2023-05-28T20:20:46.335441Z"
    }
   },
   "outputs": [
    {
     "name": "stdout",
     "output_type": "stream",
     "text": [
      "a >> 1 = 5\n",
      "a << 1 = 20\n"
     ]
    }
   ],
   "source": [
    "a = 10\n",
    " \n",
    "# print bitwise right shift operator\n",
    "print(\"a >> 1 =\", a >> 1)\n",
    "# print bitwise left shift operator\n",
    "print(\"a << 1 =\", a << 1)"
   ]
  },
  {
   "cell_type": "markdown",
   "id": "4f57d423",
   "metadata": {},
   "source": [
    "#### Question 5. Create a list containing int type data of length 15. Then write a code to check if 10 is present in the list or not."
   ]
  },
  {
   "cell_type": "markdown",
   "id": "43719d36",
   "metadata": {},
   "source": [
    "#### Answer 5\n",
    "<br><br>\n"
   ]
  },
  {
   "cell_type": "code",
   "execution_count": 36,
   "id": "e5f3e2f4",
   "metadata": {
    "ExecuteTime": {
     "end_time": "2023-05-28T20:33:51.354738Z",
     "start_time": "2023-05-28T20:33:51.343744Z"
    }
   },
   "outputs": [
    {
     "name": "stdout",
     "output_type": "stream",
     "text": [
      "Present In The List\n"
     ]
    }
   ],
   "source": [
    "# Using if statement\n",
    "int_list = [1, 2, 3, 4, 5, 6, 7, 8, 9, 10, 11, 12, 13, 14, 15]\n",
    "print(\"Present In The List\") if 10 in test_list else (\"Not Present In The List\")"
   ]
  }
 ],
 "metadata": {
  "kernelspec": {
   "display_name": "Python 3 (ipykernel)",
   "language": "python",
   "name": "python3"
  },
  "language_info": {
   "codemirror_mode": {
    "name": "ipython",
    "version": 3
   },
   "file_extension": ".py",
   "mimetype": "text/x-python",
   "name": "python",
   "nbconvert_exporter": "python",
   "pygments_lexer": "ipython3",
   "version": "3.9.12"
  },
  "varInspector": {
   "cols": {
    "lenName": 16,
    "lenType": 16,
    "lenVar": 40
   },
   "kernels_config": {
    "python": {
     "delete_cmd_postfix": "",
     "delete_cmd_prefix": "del ",
     "library": "var_list.py",
     "varRefreshCmd": "print(var_dic_list())"
    },
    "r": {
     "delete_cmd_postfix": ") ",
     "delete_cmd_prefix": "rm(",
     "library": "var_list.r",
     "varRefreshCmd": "cat(var_dic_list()) "
    }
   },
   "types_to_exclude": [
    "module",
    "function",
    "builtin_function_or_method",
    "instance",
    "_Feature"
   ],
   "window_display": false
  }
 },
 "nbformat": 4,
 "nbformat_minor": 5
}
