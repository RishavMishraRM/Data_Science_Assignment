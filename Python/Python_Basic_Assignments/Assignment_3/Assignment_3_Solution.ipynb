{
 "cells": [
  {
   "cell_type": "markdown",
   "id": "243912e3",
   "metadata": {},
   "source": [
    "#### Question 1. Why are functions advantageous to have in your programs?"
   ]
  },
  {
   "cell_type": "markdown",
   "id": "c52099b6",
   "metadata": {},
   "source": [
    "#### Answer 1. \n",
    "\n",
    "Advantage of a function in a program \n",
    "1. Reusability of Code\n",
    "2. Maintainability and scalability of code becomes eaiser"
   ]
  },
  {
   "cell_type": "markdown",
   "id": "eadb0525",
   "metadata": {},
   "source": [
    "#### Question 2. When does the code in a function run: when it&#39;s specified or when it&#39;s called?"
   ]
  },
  {
   "cell_type": "markdown",
   "id": "2be9ea5b",
   "metadata": {},
   "source": [
    "#### Answer 2\n",
    "\n",
    "The code in a function runs when it's called not when specified. When a program calls then function is called out of it's repo and get executed on the basis of input object."
   ]
  },
  {
   "cell_type": "code",
   "execution_count": 4,
   "id": "a026f402",
   "metadata": {
    "ExecuteTime": {
     "end_time": "2023-05-24T18:22:42.512484Z",
     "start_time": "2023-05-24T18:22:42.499481Z"
    }
   },
   "outputs": [
    {
     "name": "stdout",
     "output_type": "stream",
     "text": [
      "5\n",
      "11\n",
      "9\n"
     ]
    }
   ],
   "source": [
    "# Function specified\n",
    "def new_func(a, b):\n",
    "    c = a+b\n",
    "    print(c)\n",
    "# Function called\n",
    "new_func(2, 3)\n",
    "new_func(8, 3)\n",
    "new_func(2, 7)"
   ]
  },
  {
   "cell_type": "markdown",
   "id": "9bf06742",
   "metadata": {},
   "source": [
    "#### Question 3. What statement creates a function?"
   ]
  },
  {
   "cell_type": "markdown",
   "id": "af6196a5",
   "metadata": {},
   "source": [
    "#### Answer 3\n",
    "\n",
    "In python, we use `def` keyword to define a function with the function name and parameters in it. "
   ]
  },
  {
   "cell_type": "code",
   "execution_count": 5,
   "id": "382eec12",
   "metadata": {
    "ExecuteTime": {
     "end_time": "2023-05-24T18:27:40.037145Z",
     "start_time": "2023-05-24T18:27:40.023129Z"
    }
   },
   "outputs": [],
   "source": [
    "#def function_name(parameters):\n",
    "    #return(paramerters)"
   ]
  },
  {
   "cell_type": "markdown",
   "id": "9a46b2a2",
   "metadata": {},
   "source": [
    "#### Question 4. What is the difference between a function and a function call?"
   ]
  },
  {
   "cell_type": "markdown",
   "id": "74159d35",
   "metadata": {},
   "source": [
    "#### Answer 4 \n",
    "<br>\n",
    "\n",
    "Function :- It is a set of code in term of computer and in normal term we can say it's a formula which will be stored in computer. And it will be used only when it is called with or without parameters.\n",
    "\n",
    "Function Call : - A function call is done when some certain set of result is needed from the function which is made. We have to call the function using it's name and if present we have to give the set of parameter for the set of functions needed."
   ]
  },
  {
   "cell_type": "code",
   "execution_count": 8,
   "id": "14e22595",
   "metadata": {
    "ExecuteTime": {
     "end_time": "2023-05-24T18:37:39.441830Z",
     "start_time": "2023-05-24T18:37:39.422819Z"
    }
   },
   "outputs": [
    {
     "name": "stdout",
     "output_type": "stream",
     "text": [
      "This is function called\n"
     ]
    }
   ],
   "source": [
    "# Function\n",
    "def new_func(c):\n",
    "    print(c)\n",
    "# Function called\n",
    "new_func(\"This is function called\")"
   ]
  },
  {
   "cell_type": "markdown",
   "id": "e6c3d69e",
   "metadata": {},
   "source": [
    "#### Question 5. How many global scopes are there in a Python program? How many local scopes?"
   ]
  },
  {
   "cell_type": "markdown",
   "id": "4b4488af",
   "metadata": {},
   "source": [
    "#### Answer 5\n",
    "\n",
    "There is only one gloabl scope, and a local scope is created whenever a function is called. When a variable is defined inside the function and that can only be used inside that function then that variable is known as `Local Variable` belongs to local scope of funtion. But when a variable is defined in main body of the program then is called as `Global Variable` and it will belong to the global scope of program."
   ]
  },
  {
   "cell_type": "code",
   "execution_count": 10,
   "id": "aa04c3b2",
   "metadata": {
    "ExecuteTime": {
     "end_time": "2023-05-24T18:55:24.669284Z",
     "start_time": "2023-05-24T18:55:24.652287Z"
    }
   },
   "outputs": [
    {
     "name": "stdout",
     "output_type": "stream",
     "text": [
      "10\n"
     ]
    }
   ],
   "source": [
    "#Local Scope\n",
    "def outer_func():\n",
    "    x = 10\n",
    "    def inner_func():\n",
    "        print(x)\n",
    "    inner_func()\n",
    "outer_func()"
   ]
  },
  {
   "cell_type": "code",
   "execution_count": 15,
   "id": "8ebee200",
   "metadata": {
    "ExecuteTime": {
     "end_time": "2023-05-24T18:57:19.504864Z",
     "start_time": "2023-05-24T18:57:19.488870Z"
    }
   },
   "outputs": [
    {
     "name": "stdout",
     "output_type": "stream",
     "text": [
      "20\n",
      "30\n"
     ]
    }
   ],
   "source": [
    "#Global Scope\n",
    "x = 20\n",
    "def myfunc():\n",
    "    print(x)\n",
    "myfunc()\n",
    "print(x+10) "
   ]
  },
  {
   "cell_type": "markdown",
   "id": "2e4f44dc",
   "metadata": {},
   "source": [
    "##### Question 6. What happens to variables in a local scope when the function call returns ?"
   ]
  },
  {
   "cell_type": "markdown",
   "id": "f17f7085",
   "metadata": {},
   "source": [
    "#### Answer 6\n",
    "\n",
    "When a function call returns, the local scope is destroyed, and all the variables inside local scope are forgotten."
   ]
  },
  {
   "cell_type": "markdown",
   "id": "085545b2",
   "metadata": {},
   "source": [
    "#### Question 7. What is the concept of a return value? Is it possible to have a return value in an expression?"
   ]
  },
  {
   "cell_type": "markdown",
   "id": "959781d6",
   "metadata": {},
   "source": [
    "#### Answer 7\n",
    "\n",
    "In python program, we use return value inside a function or method to send the function's result back to the coller code. We can also say that a return value is a value that a function call evaluates to. <br>\n",
    "    Yes,it is possible to have a return value as part of an expression."
   ]
  },
  {
   "cell_type": "code",
   "execution_count": 18,
   "id": "5ccca994",
   "metadata": {
    "ExecuteTime": {
     "end_time": "2023-05-24T19:15:01.256076Z",
     "start_time": "2023-05-24T19:15:01.242073Z"
    }
   },
   "outputs": [
    {
     "data": {
      "text/plain": [
       "158"
      ]
     },
     "execution_count": 18,
     "metadata": {},
     "output_type": "execute_result"
    }
   ],
   "source": [
    "def function_return(a, b):\n",
    "    return (a+b+100)  ## Returning the expression\n",
    "\n",
    "function_return(8, 50)"
   ]
  },
  {
   "cell_type": "markdown",
   "id": "5a13913c",
   "metadata": {},
   "source": [
    "#### Question 8. If a function does not have a return statement, what is the return value of a call to that function?"
   ]
  },
  {
   "cell_type": "markdown",
   "id": "80bca73f",
   "metadata": {},
   "source": [
    "#### Answer 8\n",
    "\n",
    "If we don't have return statement for a function, then its return value will be None. The function will always returns None if explicitly return keyword is not written inside a function."
   ]
  },
  {
   "cell_type": "code",
   "execution_count": 19,
   "id": "c66a9329",
   "metadata": {
    "ExecuteTime": {
     "end_time": "2023-05-24T19:17:09.596574Z",
     "start_time": "2023-05-24T19:17:09.564577Z"
    }
   },
   "outputs": [
    {
     "data": {
      "text/plain": [
       "NoneType"
      ]
     },
     "execution_count": 19,
     "metadata": {},
     "output_type": "execute_result"
    }
   ],
   "source": [
    "def function_return_none():\n",
    "    a = 10\n",
    "    b = 80\n",
    "    \n",
    "type(function_return_none())"
   ]
  },
  {
   "cell_type": "markdown",
   "id": "c3817641",
   "metadata": {},
   "source": [
    "#### Question 9. How do you make a function variable refer to the global variable?"
   ]
  },
  {
   "cell_type": "markdown",
   "id": "f0a6179d",
   "metadata": {},
   "source": [
    "#### Answer 9\n",
    "\n",
    "To make a function variable as a global variable in python. We can use `global` keyword to declare a variable as global inside the function."
   ]
  },
  {
   "cell_type": "code",
   "execution_count": 22,
   "id": "ec933dff",
   "metadata": {
    "ExecuteTime": {
     "end_time": "2023-05-24T19:22:59.787812Z",
     "start_time": "2023-05-24T19:22:59.766823Z"
    }
   },
   "outputs": [
    {
     "name": "stdout",
     "output_type": "stream",
     "text": [
      "4\n",
      "680\n"
     ]
    }
   ],
   "source": [
    "var1 = 4\n",
    "def global_variable():\n",
    "    global var1\n",
    "    var1 = 680\n",
    "    \n",
    "print(var1)\n",
    "global_variable()\n",
    "print(var1)"
   ]
  },
  {
   "cell_type": "markdown",
   "id": "4511d66c",
   "metadata": {},
   "source": [
    "#### Question 10. What is the data type of None?"
   ]
  },
  {
   "cell_type": "markdown",
   "id": "2af61e13",
   "metadata": {},
   "source": [
    "#### Answer 10\n",
    "\n",
    "The null object is a data type of class `NoneType`. None data type is a null variable or null object in a program. "
   ]
  },
  {
   "cell_type": "code",
   "execution_count": 23,
   "id": "8f296f1d",
   "metadata": {
    "ExecuteTime": {
     "end_time": "2023-05-24T19:26:01.377892Z",
     "start_time": "2023-05-24T19:26:01.360914Z"
    }
   },
   "outputs": [
    {
     "data": {
      "text/plain": [
       "NoneType"
      ]
     },
     "execution_count": 23,
     "metadata": {},
     "output_type": "execute_result"
    }
   ],
   "source": [
    "def function_return_none():\n",
    "    a = 10\n",
    "    b = 80\n",
    "type(function_return_none())"
   ]
  },
  {
   "cell_type": "markdown",
   "id": "a6b8bc58",
   "metadata": {},
   "source": [
    "#### Question 11. What does the sentence import areallyourpetsnamederic do?"
   ]
  },
  {
   "cell_type": "markdown",
   "id": "d271c6fa",
   "metadata": {},
   "source": [
    "#### Answer 11\n",
    "\n",
    "This statement \"import areallyourpetsnamederic\" will be importing the module or package `areallyourpetsnamederic`."
   ]
  },
  {
   "cell_type": "code",
   "execution_count": 24,
   "id": "438f1934",
   "metadata": {
    "ExecuteTime": {
     "end_time": "2023-05-24T19:28:31.912906Z",
     "start_time": "2023-05-24T19:28:31.894929Z"
    }
   },
   "outputs": [],
   "source": [
    "# import areallyourpetsnamederic"
   ]
  },
  {
   "cell_type": "markdown",
   "id": "78c2322d",
   "metadata": {},
   "source": [
    "#### Question 12. If you had a bacon() feature in a spam module, what would you call it after importing spam?"
   ]
  },
  {
   "cell_type": "markdown",
   "id": "fd79ed8c",
   "metadata": {},
   "source": [
    "#### Answer 12\n",
    "\n",
    "After importing spam, I'll be using `spam.bacon()` to call the module. "
   ]
  },
  {
   "cell_type": "code",
   "execution_count": 25,
   "id": "c57b7ba3",
   "metadata": {
    "ExecuteTime": {
     "end_time": "2023-05-24T19:31:06.393008Z",
     "start_time": "2023-05-24T19:31:06.382005Z"
    }
   },
   "outputs": [],
   "source": [
    "# import spam\n",
    "# spam.bacon()"
   ]
  },
  {
   "cell_type": "markdown",
   "id": "af6df101",
   "metadata": {},
   "source": [
    "#### Question 13. What can you do to save a programme from crashing if it encounters an error?"
   ]
  },
  {
   "cell_type": "markdown",
   "id": "346d65c7",
   "metadata": {},
   "source": [
    "#### Answer 13\n",
    "\n",
    "If I encounter any error scenario in program. I'll be doing Exception Handling. By using Try, clause and use except block to handle the error.\n"
   ]
  },
  {
   "cell_type": "code",
   "execution_count": 26,
   "id": "097b3278",
   "metadata": {
    "ExecuteTime": {
     "end_time": "2023-05-24T19:36:36.852622Z",
     "start_time": "2023-05-24T19:36:36.834645Z"
    }
   },
   "outputs": [
    {
     "name": "stdout",
     "output_type": "stream",
     "text": [
      "10\n"
     ]
    }
   ],
   "source": [
    "x = 10\n",
    "try:\n",
    "    print(x)\n",
    "except:\n",
    "    print(\"An exception occurred\") "
   ]
  },
  {
   "cell_type": "markdown",
   "id": "3badc703",
   "metadata": {},
   "source": [
    "#### Question 14. What is the purpose of the try clause? What is the purpose of the except clause?"
   ]
  },
  {
   "cell_type": "markdown",
   "id": "7d481e59",
   "metadata": {},
   "source": [
    "#### Answer 14\n",
    "\n",
    "Try and Except clause is used to handle the errors within our code . <br><br>\n",
    "* The try block lets you test a block of code for errors. i.e The code inside the try block will execute when there is no error in the program.\n",
    "<br>\n",
    "* The except block lets you handle the error. i.e Code inside the except block will execute whenever the program encounters some error in the try block.<br>"
   ]
  },
  {
   "cell_type": "code",
   "execution_count": 29,
   "id": "5417e23d",
   "metadata": {
    "ExecuteTime": {
     "end_time": "2023-05-24T19:41:00.152490Z",
     "start_time": "2023-05-24T19:41:00.136504Z"
    }
   },
   "outputs": [
    {
     "name": "stdout",
     "output_type": "stream",
     "text": [
      "700\n"
     ]
    }
   ],
   "source": [
    "x = 700\n",
    "try:\n",
    "    print(x)\n",
    "except:\n",
    "    print(\"Something went wrong\") "
   ]
  }
 ],
 "metadata": {
  "kernelspec": {
   "display_name": "Python 3 (ipykernel)",
   "language": "python",
   "name": "python3"
  },
  "language_info": {
   "codemirror_mode": {
    "name": "ipython",
    "version": 3
   },
   "file_extension": ".py",
   "mimetype": "text/x-python",
   "name": "python",
   "nbconvert_exporter": "python",
   "pygments_lexer": "ipython3",
   "version": "3.9.12"
  },
  "varInspector": {
   "cols": {
    "lenName": 16,
    "lenType": 16,
    "lenVar": 40
   },
   "kernels_config": {
    "python": {
     "delete_cmd_postfix": "",
     "delete_cmd_prefix": "del ",
     "library": "var_list.py",
     "varRefreshCmd": "print(var_dic_list())"
    },
    "r": {
     "delete_cmd_postfix": ") ",
     "delete_cmd_prefix": "rm(",
     "library": "var_list.r",
     "varRefreshCmd": "cat(var_dic_list()) "
    }
   },
   "types_to_exclude": [
    "module",
    "function",
    "builtin_function_or_method",
    "instance",
    "_Feature"
   ],
   "window_display": false
  }
 },
 "nbformat": 4,
 "nbformat_minor": 5
}
