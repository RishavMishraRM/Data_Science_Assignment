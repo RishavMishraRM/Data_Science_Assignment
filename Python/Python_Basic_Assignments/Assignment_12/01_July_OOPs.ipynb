{
 "cells": [
  {
   "cell_type": "markdown",
   "id": "50d06c0b",
   "metadata": {},
   "source": [
    "#### Question 1. What is the primary goal of Object-Oriented Programming (OOP)?"
   ]
  },
  {
   "cell_type": "markdown",
   "id": "a92cdf99",
   "metadata": {},
   "source": [
    "#### Answer 1\n",
    "<br>\n",
    "Oops is generally based on classes and objects. It is used to structure a program into a simple, reusable piece of code. The entire software program runs by having multiple objects interact with objects to create large programs.\n",
    "<br><br>\n",
    "1. Binding of data to avoid data loss. - Encapsulation. <br>\n",
    "2. To reuse the code in which child classes uses the properties of the base class. - Inheritance.<br>\n",
    "3. To hold entire data into a single object such that it would be easy to pass this to other methods and objects. - Abstraction.<br>\n",
    "4. Multiprocessing is also in object-oriented programming. - Polymorphism.<br>\n",
    "5. The software may run on different generations and grows over a long lifetime. - Adaptability. <br>\n",
    "5. Complex programs operates correctly and smoothly. - Robustness<br>"
   ]
  },
  {
   "cell_type": "markdown",
   "id": "d51f7305",
   "metadata": {},
   "source": [
    "#### Question 2. What is an object in Python?"
   ]
  },
  {
   "cell_type": "markdown",
   "id": "548d6d47",
   "metadata": {},
   "source": [
    "#### Answer 2\n",
    "<br>\n",
    "An Object is an instance of a Class. A class is like a blueprint while an instance is a copy of the class with actual values. Python is an oops based programming language that stresses objects i.e. it mainly emphasizes functions. Python Objects are basically an encapsulation of data variables and methods acting on that data into a single entity."
   ]
  },
  {
   "cell_type": "code",
   "execution_count": 1,
   "id": "67c91a32",
   "metadata": {
    "ExecuteTime": {
     "end_time": "2023-07-09T21:43:36.782839Z",
     "start_time": "2023-07-09T21:43:36.749840Z"
    }
   },
   "outputs": [
    {
     "name": "stdout",
     "output_type": "stream",
     "text": [
      "Shadow\n",
      "10000000\n"
     ]
    }
   ],
   "source": [
    "#defining object\n",
    "class Car:\n",
    "    def __init__(self, m, p):\n",
    "        self.model = m\n",
    "        self.price = p\n",
    "Range_Rover = Car(\"Shadow\", 10000000) # Range_Rover is an object over here.\n",
    "print(Range_Rover.model)\n",
    "print(Range_Rover.price)"
   ]
  },
  {
   "cell_type": "markdown",
   "id": "e9c66157",
   "metadata": {},
   "source": [
    "#### Question 3. What is a class in Python?"
   ]
  },
  {
   "cell_type": "markdown",
   "id": "9832ecc8",
   "metadata": {},
   "source": [
    "#### Answer 3\n",
    "<br>\n",
    "A Class is like an object constructor, or a \"blueprint\" for creating objects."
   ]
  },
  {
   "cell_type": "code",
   "execution_count": 2,
   "id": "888ef001",
   "metadata": {
    "ExecuteTime": {
     "end_time": "2023-07-09T21:43:36.958840Z",
     "start_time": "2023-07-09T21:43:36.801842Z"
    }
   },
   "outputs": [
    {
     "name": "stdout",
     "output_type": "stream",
     "text": [
      "John\n",
      "36\n"
     ]
    }
   ],
   "source": [
    "#defining class\n",
    "class Author: #Author is a class over here\n",
    "    def __init__(self, name, age):\n",
    "        self.name = name\n",
    "        self.age = age\n",
    "p1 = Author(\"John\", 36)\n",
    "print(p1.name)\n",
    "print(p1.age)"
   ]
  },
  {
   "cell_type": "markdown",
   "id": "162c37b4",
   "metadata": {},
   "source": [
    "#### Question 4. What are attributes and methods in a class?"
   ]
  },
  {
   "cell_type": "markdown",
   "id": "2f566581",
   "metadata": {},
   "source": [
    "#### Answer 4\n",
    "<br>\n",
    "Every object we create for the class has access to the variables in the class. These variables are called the \"Attributes\", and <br>\n",
    "the functions inside which the variables are called methods (also referred to as functions). <br>\n",
    "\n",
    "Two types of attributes : <br>\n",
    "1. Class attributes - That remains same in the whole class<br>\n",
    "2. Instance attributes - That is created inside __init__ function of the class<br>"
   ]
  },
  {
   "cell_type": "code",
   "execution_count": 3,
   "id": "cb9e8e39",
   "metadata": {
    "ExecuteTime": {
     "end_time": "2023-07-09T21:43:37.101841Z",
     "start_time": "2023-07-09T21:43:36.967840Z"
    }
   },
   "outputs": [
    {
     "name": "stdout",
     "output_type": "stream",
     "text": [
      "John\n",
      "JavaScript\n",
      "Microsoft\n",
      "-----------------------------------\n",
      "Rishav works in Microsoft on Python\n"
     ]
    }
   ],
   "source": [
    "class Emp:\n",
    "    Org = \"Microsoft\" # Class attributes\n",
    "    def __init__(self, name, tech): # Instance attributes \n",
    "        self.name = name\n",
    "        self.tech = tech\n",
    "    def display_info(self): # display_info is method over here\n",
    "        print(f\"{self.name} works in {self.Org} on {self.tech}\")\n",
    "Emp1 = Emp(\"John\", \"JavaScript\")\n",
    "\n",
    "print(Emp1.name)\n",
    "print(Emp1.tech)\n",
    "print(Emp1.Org)\n",
    "print(\"-----------------------------------\")\n",
    "Emp2 = Emp(\"Rishav\",\"Python\")\n",
    "Emp2.display_info()"
   ]
  },
  {
   "cell_type": "markdown",
   "id": "a3513e91",
   "metadata": {},
   "source": [
    "#### Question 5. What is the difference between class variables and instance variables in Python?"
   ]
  },
  {
   "cell_type": "markdown",
   "id": "2ff56eac",
   "metadata": {},
   "source": [
    "#### Answer 5\n",
    "<br>\n",
    "\n",
    "| Parameters | Class Variables  | Instance Variables |\n",
    "| --- | --- | --- |\n",
    "| Definition | Class variables are defined within the class but outside of any class methods. | Instance variables are defined within class methods, typically the constructor. |\n",
    "| Scope | Changes made to the class variable affect all instances. | Changes made to the instance variable does not affect all instances. |\n",
    "| Initialization | Class variables can be initialized either inside the class definition or outside the class definition. | Instance variables are typically initialized in the constructor of the class. |\n",
    "| Access | \tClass variables are accessed using the class name, followed by the variable name. | Instance variables are accessed using the instance name, followed by the variable name. |\n",
    "| Usage | Class variables are useful for storing data that is shared among all instances of a class, such as constants or default values. | Instance variables are used to store data that is unique to each instance of a class, such as object properties. |"
   ]
  },
  {
   "cell_type": "code",
   "execution_count": 4,
   "id": "527c2fb5",
   "metadata": {
    "ExecuteTime": {
     "end_time": "2023-07-09T21:43:37.276840Z",
     "start_time": "2023-07-09T21:43:37.106840Z"
    }
   },
   "outputs": [
    {
     "name": "stdout",
     "output_type": "stream",
     "text": [
      "Microsoft\n"
     ]
    }
   ],
   "source": [
    "# class variable\n",
    "class Employee:\n",
    "    office_name = \"Microsoft\"\n",
    "    def __init__(self):\n",
    "        print(Employee.office_name)\n",
    "my_instance = Employee()"
   ]
  },
  {
   "cell_type": "code",
   "execution_count": 5,
   "id": "5a27dca1",
   "metadata": {
    "ExecuteTime": {
     "end_time": "2023-07-09T21:43:37.436840Z",
     "start_time": "2023-07-09T21:43:37.286844Z"
    }
   },
   "outputs": [
    {
     "name": "stdout",
     "output_type": "stream",
     "text": [
      "Rishav\n",
      "123\n"
     ]
    }
   ],
   "source": [
    "# instance variable\n",
    "class Employee:\n",
    "    def __init__(self, name, id):\n",
    "        self.name = name\n",
    "        self.id = id\n",
    "employee1 = Employee(\"Rishav\", 123)\n",
    "print(employee1.name)\n",
    "print(employee1.id)"
   ]
  },
  {
   "cell_type": "markdown",
   "id": "2a784e31",
   "metadata": {},
   "source": [
    "#### Question 6. What is the purpose of the self parameter in Python class methods?"
   ]
  },
  {
   "cell_type": "markdown",
   "id": "6d9b6307",
   "metadata": {},
   "source": [
    "#### Answer 6\n",
    "<br>\n",
    "The self parameter in python program is a reference to the current instance of the class, and is used to access variables that belongs to the class."
   ]
  },
  {
   "cell_type": "code",
   "execution_count": 6,
   "id": "d52016bc",
   "metadata": {
    "ExecuteTime": {
     "end_time": "2023-07-09T21:43:37.596840Z",
     "start_time": "2023-07-09T21:43:37.441844Z"
    }
   },
   "outputs": [
    {
     "name": "stdout",
     "output_type": "stream",
     "text": [
      "Rishav\n",
      "123\n"
     ]
    }
   ],
   "source": [
    "# self parameter\n",
    "class Employee:\n",
    "    def __init__(self, name, id): # defining self\n",
    "        self.name = name # use of self\n",
    "        self.id = id # use of self\n",
    "employee1 = Employee(\"Rishav\", 123)\n",
    "print(employee1.name)\n",
    "print(employee1.id)"
   ]
  },
  {
   "cell_type": "markdown",
   "id": "198c0507",
   "metadata": {},
   "source": [
    "#### Question 7. For a library management system, you have to design the \"Book\" class with OOP principles in mind. The “Book” class will have following attributes:<br><br>\n",
    "a. title: Represents the title of the book.<br>\n",
    "b. author: Represents the author(s) of the book.<br>\n",
    "c. isbn: Represents the ISBN (International Standard Book Number) of the book.<br>\n",
    "d. publication_year: Represents the year of publication of the book.<br>\n",
    "e. available_copies: Represents the number of copies available for checkout.<br><br>\n",
    "#### The class will also include the following methods:<br><br>\n",
    "a. check_out(self): Decrements the available copies by one if there are copies available for checkout.<br>\n",
    "b. return_book(self): Increments the available copies by one when a book is returned.<br>\n",
    "c. display_book_info(self): Displays the information about the book, including its attributes and the number of available copies.<br>"
   ]
  },
  {
   "cell_type": "markdown",
   "id": "f717f52d",
   "metadata": {},
   "source": [
    "#### Answer 7\n",
    "<br>\n",
    "Library Management System"
   ]
  },
  {
   "cell_type": "code",
   "execution_count": 7,
   "id": "469ada3c",
   "metadata": {
    "ExecuteTime": {
     "end_time": "2023-07-09T21:43:37.804844Z",
     "start_time": "2023-07-09T21:43:37.602842Z"
    }
   },
   "outputs": [],
   "source": [
    "class Book:\n",
    "    def __init__(self, title, author, isbn, publication_year, available_copies):\n",
    "        self.title = title\n",
    "        self.author = author\n",
    "        self.isbn = isbn\n",
    "        self.publication_year = publication_year\n",
    "        self.available_copies = available_copies\n",
    "        \n",
    "    def check_out(self):\n",
    "        if self.available_copies >= 1:\n",
    "            print(f'The Book {self.title} is checked out for you. Thank You')\n",
    "            self.available_copies -= 1\n",
    "        else:\n",
    "            print('Sorry, Requesting you to check after sometime as we do not have any available copy of the requested book as of now.')\n",
    "        \n",
    "    def return_book(self):\n",
    "        print(f\"Thanks for returning {self.title}\")\n",
    "        self.available_copies += 1\n",
    "        \n",
    "        \n",
    "    def display_book_info(self):\n",
    "        print(f\"Details of Requested Book\")\n",
    "        print(\"-------------------------------------------------------\")\n",
    "        print(f\"Title of the Book : {self.title}\")\n",
    "        print(f\"Author(s) : {self.author}\")\n",
    "        print(f\"ISBN (International Standard Book Number) of the book : { self.isbn }\")\n",
    "        print(f\"The year of publication of the book : {self.publication_year}\")\n",
    "        print(f\"The number of copies available for checkout : {self.available_copies}\")"
   ]
  },
  {
   "cell_type": "code",
   "execution_count": 8,
   "id": "b21be10a",
   "metadata": {
    "ExecuteTime": {
     "end_time": "2023-07-09T21:43:37.980842Z",
     "start_time": "2023-07-09T21:43:37.810838Z"
    }
   },
   "outputs": [],
   "source": [
    "Book1 = Book('Hands-On Machine Learning',\"Geron Aurelien\",'978-9355421982',2017, 9)\n",
    "Book2 = Book('The Hundred-Page Machine Learning Book','Andriy Burkov','978-1999579500',2019, 2)\n",
    "Book3 = Book('Deep Learning', 'Yoshua Bengio','978-0262035613',2015, 0)"
   ]
  },
  {
   "cell_type": "code",
   "execution_count": 9,
   "id": "26878b2a",
   "metadata": {
    "ExecuteTime": {
     "end_time": "2023-07-09T21:43:38.123840Z",
     "start_time": "2023-07-09T21:43:37.986840Z"
    }
   },
   "outputs": [
    {
     "name": "stdout",
     "output_type": "stream",
     "text": [
      "The Book Hands-On Machine Learning is checked out for you. Thank You\n"
     ]
    }
   ],
   "source": [
    "Book1.check_out()"
   ]
  },
  {
   "cell_type": "code",
   "execution_count": 10,
   "id": "eb2dabf6",
   "metadata": {
    "ExecuteTime": {
     "end_time": "2023-07-09T21:43:38.251838Z",
     "start_time": "2023-07-09T21:43:38.133841Z"
    }
   },
   "outputs": [
    {
     "name": "stdout",
     "output_type": "stream",
     "text": [
      "Sorry, Requesting you to check after sometime as we do not have any available copy of the requested book as of now.\n"
     ]
    }
   ],
   "source": [
    "Book3.check_out()"
   ]
  },
  {
   "cell_type": "code",
   "execution_count": 11,
   "id": "b0ebc90a",
   "metadata": {
    "ExecuteTime": {
     "end_time": "2023-07-09T21:43:38.394840Z",
     "start_time": "2023-07-09T21:43:38.264841Z"
    }
   },
   "outputs": [
    {
     "name": "stdout",
     "output_type": "stream",
     "text": [
      "Thanks for returning Deep Learning\n"
     ]
    }
   ],
   "source": [
    "Book3.return_book()"
   ]
  },
  {
   "cell_type": "code",
   "execution_count": 12,
   "id": "bf1fb407",
   "metadata": {
    "ExecuteTime": {
     "end_time": "2023-07-09T21:43:38.536843Z",
     "start_time": "2023-07-09T21:43:38.403839Z"
    }
   },
   "outputs": [
    {
     "name": "stdout",
     "output_type": "stream",
     "text": [
      "Details of Requested Book\n",
      "-------------------------------------------------------\n",
      "Title of the Book : Deep Learning\n",
      "Author(s) : Yoshua Bengio\n",
      "ISBN (International Standard Book Number) of the book : 978-0262035613\n",
      "The year of publication of the book : 2015\n",
      "The number of copies available for checkout : 1\n"
     ]
    }
   ],
   "source": [
    "Book3.display_book_info()"
   ]
  },
  {
   "cell_type": "markdown",
   "id": "eee10e1e",
   "metadata": {},
   "source": [
    "#### Question 8. For a ticket booking system, you have to design the \"Ticket\" class with OOP principles in mind. The “Ticket” class should have the following attributes:<br><br>\n",
    "a. ticket_id: Represents the unique identifier for the ticket.<br>\n",
    "b. event_name: Represents the name of the event.<br>\n",
    "c. event_date: Represents the date of the event.<br>\n",
    "d. venue: Represents the venue of the event.<br>\n",
    "e. seat_number: Represents the seat number associated with the ticket.<br>\n",
    "f. price: Represents the price of the ticket.<br>\n",
    "g. is_reserved: Represents the reservation status of the ticket.<br><br>\n",
    "#### The class also includes the following methods:<br><br>\n",
    "a. reserve_ticket(self): Marks the ticket as reserved if it is not already reserved.<br>\n",
    "b. cancel_reservation(self): Cancels the reservation of the ticket if it is already reserved.<br>\n",
    "c. display_ticket_info(self): Displays the information about the ticket, including its attributes and reservation status.<br>"
   ]
  },
  {
   "cell_type": "markdown",
   "id": "ec2a8847",
   "metadata": {},
   "source": [
    "#### Answer 8\n",
    "<br>\n",
    "Ticket Booking System"
   ]
  },
  {
   "cell_type": "code",
   "execution_count": 13,
   "id": "7aabc718",
   "metadata": {
    "ExecuteTime": {
     "end_time": "2023-07-09T21:43:38.663856Z",
     "start_time": "2023-07-09T21:43:38.542840Z"
    }
   },
   "outputs": [],
   "source": [
    "class Ticket:\n",
    "    def __init__(self, ticket_id, event_name, event_date, venue, seat_number, price):\n",
    "        self.ticket_id = ticket_id\n",
    "        self.event_name = event_name\n",
    "        self.event_date = event_date\n",
    "        self.venue = venue\n",
    "        self.seat_number = seat_number\n",
    "        self.price = price\n",
    "        self.is_reserved = False\n",
    "        \n",
    "    def reserve_ticket(self):\n",
    "        if self.is_reserved != True:\n",
    "            self.is_reserved = True\n",
    "            print(f'Your ticket of ticket id {self.ticket_id} has been reserved specially for you.')\n",
    "        else:\n",
    "            print(f'Ticket {self.ticket_id} is already booked. Sorry for inconvinence caused. Requesting to check other tickets')\n",
    "        \n",
    "    def cancel_reservation(self):\n",
    "        if self.is_reserved == True:\n",
    "            confirmation = int(input(f'We will process with confirm cancelation of ticket once you confirm your ticket {self.ticket_id} (Yes : 1 / No : 2)'))\n",
    "            if confirmation == 1:\n",
    "                print(f\"Your ticket with ticket id {self.ticket_id} has been cancelled successfully and your amount will be reflecting in your account in 1-2 working days\")\n",
    "            else : \n",
    "                print(\"Ticket not cancled\")\n",
    "        else:\n",
    "            print(f'Your ticket with ticket id {self.ticket_id} is not reserved')\n",
    "        \n",
    "    def display_ticket_info(self):\n",
    "        print(f'Welcome to {self.event_name} ')\n",
    "        print('-------------------------------------------')\n",
    "        print('::::::::::::::::Ticket detalis:::::::::::::::')\n",
    "        print(f'Ticket ID : {self.ticket_id}  ')\n",
    "        print(f'Venue : { self.venue }') \n",
    "        print(f'Date : { self.event_date}')              \n",
    "        print(f'Seat Number : {self.seat_number}')\n",
    "        print(f\"Price : { self.price  }\")\n",
    "        print(f'Reservation status : { self.is_reserved}')"
   ]
  },
  {
   "cell_type": "code",
   "execution_count": 14,
   "id": "9cd94890",
   "metadata": {
    "ExecuteTime": {
     "end_time": "2023-07-09T21:43:38.838840Z",
     "start_time": "2023-07-09T21:43:38.668842Z"
    }
   },
   "outputs": [],
   "source": [
    "Ticket1 = Ticket(1, 'Travel', '10/07/2023','New Delhi','ND_1',1000)\n",
    "Ticket2 = Ticket(12,'Travel', '10/07/2023','New Delhi','ND_2',2000)\n",
    "Ticket3 = Ticket(123,'Travel', '10/07/2023','New Delhi','ND_3',3000)"
   ]
  },
  {
   "cell_type": "code",
   "execution_count": 15,
   "id": "cbb1ff71",
   "metadata": {
    "ExecuteTime": {
     "end_time": "2023-07-09T21:43:39.015841Z",
     "start_time": "2023-07-09T21:43:38.844844Z"
    }
   },
   "outputs": [
    {
     "name": "stdout",
     "output_type": "stream",
     "text": [
      "Your ticket of ticket id 1 has been reserved specially for you.\n"
     ]
    }
   ],
   "source": [
    "Ticket1.reserve_ticket()"
   ]
  },
  {
   "cell_type": "code",
   "execution_count": 16,
   "id": "92a42267",
   "metadata": {
    "ExecuteTime": {
     "end_time": "2023-07-09T21:43:39.140842Z",
     "start_time": "2023-07-09T21:43:39.023840Z"
    }
   },
   "outputs": [
    {
     "name": "stdout",
     "output_type": "stream",
     "text": [
      "Your ticket of ticket id 12 has been reserved specially for you.\n"
     ]
    }
   ],
   "source": [
    "Ticket2.reserve_ticket()"
   ]
  },
  {
   "cell_type": "code",
   "execution_count": 17,
   "id": "ef6ced43",
   "metadata": {
    "ExecuteTime": {
     "end_time": "2023-07-09T21:43:39.348855Z",
     "start_time": "2023-07-09T21:43:39.150839Z"
    }
   },
   "outputs": [
    {
     "name": "stdout",
     "output_type": "stream",
     "text": [
      "Ticket 1 is already booked. Sorry for inconvinence caused. Requesting to check other tickets\n"
     ]
    }
   ],
   "source": [
    "Ticket1.reserve_ticket()"
   ]
  },
  {
   "cell_type": "code",
   "execution_count": 18,
   "id": "5882a72a",
   "metadata": {
    "ExecuteTime": {
     "end_time": "2023-07-09T21:43:44.308841Z",
     "start_time": "2023-07-09T21:43:39.355842Z"
    }
   },
   "outputs": [
    {
     "name": "stdout",
     "output_type": "stream",
     "text": [
      "We will process with confirm cancelation of ticket once you confirm your ticket 12 (Yes : 1 / No : 2)1\n",
      "Your ticket with ticket id 12 has been cancelled successfully and your amount will be reflecting in your account in 1-2 working days\n"
     ]
    }
   ],
   "source": [
    "Ticket2.cancel_reservation()"
   ]
  },
  {
   "cell_type": "code",
   "execution_count": 19,
   "id": "b6ae23b0",
   "metadata": {
    "ExecuteTime": {
     "end_time": "2023-07-09T21:43:44.324842Z",
     "start_time": "2023-07-09T21:43:44.314844Z"
    }
   },
   "outputs": [
    {
     "name": "stdout",
     "output_type": "stream",
     "text": [
      "Welcome to Travel \n",
      "-------------------------------------------\n",
      "::::::::::::::::Ticket detalis:::::::::::::::\n",
      "Ticket ID : 1  \n",
      "Venue : New Delhi\n",
      "Date : 10/07/2023\n",
      "Seat Number : ND_1\n",
      "Price : 1000\n",
      "Reservation status : True\n"
     ]
    }
   ],
   "source": [
    "Ticket1.display_ticket_info()"
   ]
  },
  {
   "cell_type": "markdown",
   "id": "d231b8f3",
   "metadata": {},
   "source": [
    "#### Question 9. You are creating a shopping cart for an e-commerce website. Using OOP to model the \"ShoppingCart\" functionality the class should contain following attributes and methods: <br>\n",
    "a. items: Represents the list of items in the shopping cart.<br>\n",
    "#### The class also includes the following methods:<br>\n",
    "a. add_item(self, item): Adds an item to the shopping cart by appending it to the list of items.<br>\n",
    "b. remove_item(self, item): Removes an item from the shopping cart if it exists in the list.<br>\n",
    "c. view_cart(self): Displays the items currently present in the shopping cart.<br>\n",
    "d. clear_cart(self): Clears all items from the shopping cart by reassigning an empty list to the items attribute.<br>"
   ]
  },
  {
   "cell_type": "markdown",
   "id": "e33920d9",
   "metadata": {},
   "source": [
    "#### Answer 9\n",
    "<br>\n",
    "Shopping Cart for an E-Commerce Website"
   ]
  },
  {
   "cell_type": "code",
   "execution_count": 20,
   "id": "0c3b3100",
   "metadata": {
    "ExecuteTime": {
     "end_time": "2023-07-09T21:43:44.483842Z",
     "start_time": "2023-07-09T21:43:44.329844Z"
    }
   },
   "outputs": [],
   "source": [
    "class ShoppingCart:\n",
    "    def __init__(self):\n",
    "        self.items = []\n",
    "        \n",
    "    def add_item(self, item): \n",
    "        if item in self.items:\n",
    "            print(f'{item} is already in your cart')\n",
    "        else:\n",
    "            self.items.append(item)\n",
    "            print(f'{item} has been added in your cart')\n",
    "        \n",
    "    def remove_item(self, item):\n",
    "        if item in self.items:\n",
    "            self.items.remove(item)\n",
    "            print(f'{item} has been removed from your cart')\n",
    "        else:\n",
    "            print(\"Not Found to remove the item\")\n",
    "            \n",
    "    def view_cart(self):\n",
    "        if self.items != []:\n",
    "            print(\"Items in your cart : \")\n",
    "            for i in self.items:\n",
    "                print(i)\n",
    "        else:\n",
    "            print(\"The cart is empty\")\n",
    "        \n",
    "    def clear_cart(self):\n",
    "        self.items = []\n",
    "        print(\"Your cart is empty now\")\n",
    "        "
   ]
  },
  {
   "cell_type": "code",
   "execution_count": 21,
   "id": "a843036e",
   "metadata": {
    "ExecuteTime": {
     "end_time": "2023-07-09T21:43:44.612842Z",
     "start_time": "2023-07-09T21:43:44.492839Z"
    }
   },
   "outputs": [],
   "source": [
    "cart1 = ShoppingCart()\n",
    "cart2 = ShoppingCart()\n",
    "cart3 = ShoppingCart()\n",
    "cart4 = ShoppingCart()"
   ]
  },
  {
   "cell_type": "code",
   "execution_count": 22,
   "id": "9d3a37f7",
   "metadata": {
    "ExecuteTime": {
     "end_time": "2023-07-09T21:43:44.753838Z",
     "start_time": "2023-07-09T21:43:44.624840Z"
    }
   },
   "outputs": [
    {
     "name": "stdout",
     "output_type": "stream",
     "text": [
      "Mobile has been added in your cart\n"
     ]
    }
   ],
   "source": [
    "cart1.add_item('Mobile')"
   ]
  },
  {
   "cell_type": "code",
   "execution_count": 23,
   "id": "83281f42",
   "metadata": {
    "ExecuteTime": {
     "end_time": "2023-07-09T21:43:44.881840Z",
     "start_time": "2023-07-09T21:43:44.758842Z"
    }
   },
   "outputs": [
    {
     "name": "stdout",
     "output_type": "stream",
     "text": [
      "Tablet has been added in your cart\n"
     ]
    }
   ],
   "source": [
    "cart1.add_item('Tablet')"
   ]
  },
  {
   "cell_type": "code",
   "execution_count": 24,
   "id": "728b7bea",
   "metadata": {
    "ExecuteTime": {
     "end_time": "2023-07-09T21:43:45.009839Z",
     "start_time": "2023-07-09T21:43:44.888844Z"
    }
   },
   "outputs": [
    {
     "name": "stdout",
     "output_type": "stream",
     "text": [
      "Laptop has been added in your cart\n"
     ]
    }
   ],
   "source": [
    "cart1.add_item('Laptop')"
   ]
  },
  {
   "cell_type": "code",
   "execution_count": 25,
   "id": "a16db3dc",
   "metadata": {
    "ExecuteTime": {
     "end_time": "2023-07-09T21:43:45.136839Z",
     "start_time": "2023-07-09T21:43:45.018846Z"
    }
   },
   "outputs": [
    {
     "name": "stdout",
     "output_type": "stream",
     "text": [
      "Mobile has been removed from your cart\n"
     ]
    }
   ],
   "source": [
    "cart1.remove_item('Mobile')"
   ]
  },
  {
   "cell_type": "code",
   "execution_count": 26,
   "id": "62716492",
   "metadata": {
    "ExecuteTime": {
     "end_time": "2023-07-09T21:43:45.264841Z",
     "start_time": "2023-07-09T21:43:45.143838Z"
    }
   },
   "outputs": [
    {
     "name": "stdout",
     "output_type": "stream",
     "text": [
      "Items in your cart : \n",
      "Tablet\n",
      "Laptop\n"
     ]
    }
   ],
   "source": [
    "cart1.view_cart()"
   ]
  },
  {
   "cell_type": "code",
   "execution_count": 27,
   "id": "911e96f6",
   "metadata": {
    "ExecuteTime": {
     "end_time": "2023-07-09T21:43:45.390838Z",
     "start_time": "2023-07-09T21:43:45.272848Z"
    }
   },
   "outputs": [
    {
     "name": "stdout",
     "output_type": "stream",
     "text": [
      "Your cart is empty now\n"
     ]
    }
   ],
   "source": [
    "cart1.clear_cart()"
   ]
  },
  {
   "cell_type": "markdown",
   "id": "f29ab360",
   "metadata": {},
   "source": [
    "#### Question 10. Imagine a school management system. You have to design the \"Student\" class using OOP concepts.The “Student” class has the following attributes:<br><br>\n",
    "a. name: Represents the name of the student.<br>\n",
    "b. age: Represents the age of the student.<br>\n",
    "c. grade: Represents the grade or class of the student.<br>\n",
    "d. student_id: Represents the unique identifier for the student.<br>\n",
    "e. attendance: Represents the attendance record of the student.<br><br>\n",
    "#### The class should also include the following methods:<br><br>\n",
    "a. update_attendance(self, date, status): Updates the attendance record of the student for a given date with the provided status (e.g., present or absent).<br>\n",
    "b. get_attendance(self): Returns the attendance record of the student.<br>\n",
    "c. get_average_attendance(self): Calculates and returns the average attendance percentage of the student based on their attendance record.<br>"
   ]
  },
  {
   "cell_type": "markdown",
   "id": "3ca52a41",
   "metadata": {},
   "source": [
    "#### Answer 10\n",
    "<br>\n",
    "School Management System"
   ]
  },
  {
   "cell_type": "code",
   "execution_count": 28,
   "id": "ffff7deb",
   "metadata": {
    "ExecuteTime": {
     "end_time": "2023-07-09T21:43:45.516844Z",
     "start_time": "2023-07-09T21:43:45.398842Z"
    }
   },
   "outputs": [],
   "source": [
    "class Student:\n",
    "    def __init__(self, name, age, grade, student_id):\n",
    "        self.name = name\n",
    "        self.age = age\n",
    "        self.grade = grade\n",
    "        self.student_id = student_id\n",
    "        self.attendance = {}\n",
    "        \n",
    "    def update_attendance(self, date, status):\n",
    "        self.attendance[date] = status\n",
    "        print(f'Attendance {date} : {status} marked')\n",
    "    \n",
    "    def get_attendance(self):\n",
    "        return self.attendance\n",
    "    \n",
    "    def get_average_attendance(self):\n",
    "        total_days = len(self.attendance)\n",
    "        present = sum(status == 'Present' for status in self.attendance.values())\n",
    "        absents = total_days -  present\n",
    "        \n",
    "        average = (present / total_days) * 100\n",
    "        print(f\"Attendance Details of {self.name } \")\n",
    "        print(\"------------------\")\n",
    "        print(f\"Attendance Percentage:  {average}% \")\n",
    "        print(f\"Number of days present: {present} \")\n",
    "        print(f\"Total Working days:     {total_days} \")\n",
    "        print(\"Attendance days wise :\")\n",
    "        return self.attendance"
   ]
  },
  {
   "cell_type": "code",
   "execution_count": 29,
   "id": "c1a303a5",
   "metadata": {
    "ExecuteTime": {
     "end_time": "2023-07-09T21:43:45.675841Z",
     "start_time": "2023-07-09T21:43:45.543840Z"
    }
   },
   "outputs": [],
   "source": [
    "Student1 = Student('Rishav', 12, 'A', 1)\n",
    "Student2 = Student('Mishra', 12, 'A+', 2)"
   ]
  },
  {
   "cell_type": "code",
   "execution_count": 30,
   "id": "73f2bc27",
   "metadata": {
    "ExecuteTime": {
     "end_time": "2023-07-09T21:43:45.817842Z",
     "start_time": "2023-07-09T21:43:45.682841Z"
    }
   },
   "outputs": [
    {
     "name": "stdout",
     "output_type": "stream",
     "text": [
      "Attendance 06-07-2023 : Present marked\n",
      "Attendance 06-07-2023 : Present marked\n"
     ]
    }
   ],
   "source": [
    "Student1.update_attendance('06-07-2023','Present')\n",
    "Student2.update_attendance('06-07-2023','Present')"
   ]
  },
  {
   "cell_type": "code",
   "execution_count": 31,
   "id": "ecf9969a",
   "metadata": {
    "ExecuteTime": {
     "end_time": "2023-07-09T21:43:45.976845Z",
     "start_time": "2023-07-09T21:43:45.825844Z"
    }
   },
   "outputs": [
    {
     "name": "stdout",
     "output_type": "stream",
     "text": [
      "Attendance 07-07-2023 : Present marked\n",
      "Attendance 07-07-2023 : Present marked\n"
     ]
    }
   ],
   "source": [
    "Student1.update_attendance('07-07-2023','Present')\n",
    "Student2.update_attendance('07-07-2023','Present')"
   ]
  },
  {
   "cell_type": "code",
   "execution_count": 32,
   "id": "afbf1807",
   "metadata": {
    "ExecuteTime": {
     "end_time": "2023-07-09T21:43:46.101840Z",
     "start_time": "2023-07-09T21:43:45.986840Z"
    }
   },
   "outputs": [
    {
     "name": "stdout",
     "output_type": "stream",
     "text": [
      "Attendance 08-07-2023 : Absent marked\n",
      "Attendance 08-07-2023 : Present marked\n"
     ]
    }
   ],
   "source": [
    "Student1.update_attendance('08-07-2023','Absent')\n",
    "Student2.update_attendance('08-07-2023','Present')"
   ]
  },
  {
   "cell_type": "code",
   "execution_count": 33,
   "id": "2822db45",
   "metadata": {
    "ExecuteTime": {
     "end_time": "2023-07-09T21:43:46.229861Z",
     "start_time": "2023-07-09T21:43:46.107843Z"
    }
   },
   "outputs": [
    {
     "name": "stdout",
     "output_type": "stream",
     "text": [
      "Attendance 09-07-2023 : Present marked\n",
      "Attendance 09-07-2023 : Present marked\n"
     ]
    }
   ],
   "source": [
    "Student1.update_attendance('09-07-2023','Present')\n",
    "Student2.update_attendance('09-07-2023','Present')"
   ]
  },
  {
   "cell_type": "code",
   "execution_count": 34,
   "id": "5ccf4fb2",
   "metadata": {
    "ExecuteTime": {
     "end_time": "2023-07-09T21:43:46.371843Z",
     "start_time": "2023-07-09T21:43:46.236843Z"
    }
   },
   "outputs": [
    {
     "name": "stdout",
     "output_type": "stream",
     "text": [
      "Attendance 10-07-2023 : Present marked\n",
      "Attendance 10-07-2023 : Present marked\n"
     ]
    }
   ],
   "source": [
    "Student1.update_attendance('10-07-2023','Present')\n",
    "Student2.update_attendance('10-07-2023','Present')"
   ]
  },
  {
   "cell_type": "code",
   "execution_count": 35,
   "id": "d4001abd",
   "metadata": {
    "ExecuteTime": {
     "end_time": "2023-07-09T21:43:46.403839Z",
     "start_time": "2023-07-09T21:43:46.378841Z"
    }
   },
   "outputs": [
    {
     "name": "stdout",
     "output_type": "stream",
     "text": [
      "Attendance 11-07-2023 : Present marked\n",
      "Attendance 11-07-2023 : Present marked\n"
     ]
    }
   ],
   "source": [
    "Student1.update_attendance('11-07-2023','Present')\n",
    "Student2.update_attendance('11-07-2023','Present')"
   ]
  },
  {
   "cell_type": "code",
   "execution_count": 36,
   "id": "5f784a8c",
   "metadata": {
    "ExecuteTime": {
     "end_time": "2023-07-09T21:43:46.574835Z",
     "start_time": "2023-07-09T21:43:46.409845Z"
    }
   },
   "outputs": [
    {
     "data": {
      "text/plain": [
       "{'06-07-2023': 'Present',\n",
       " '07-07-2023': 'Present',\n",
       " '08-07-2023': 'Absent',\n",
       " '09-07-2023': 'Present',\n",
       " '10-07-2023': 'Present',\n",
       " '11-07-2023': 'Present'}"
      ]
     },
     "execution_count": 36,
     "metadata": {},
     "output_type": "execute_result"
    }
   ],
   "source": [
    "Student1.get_attendance()"
   ]
  },
  {
   "cell_type": "code",
   "execution_count": 37,
   "id": "ca1f29d7",
   "metadata": {
    "ExecuteTime": {
     "end_time": "2023-07-09T21:43:46.716838Z",
     "start_time": "2023-07-09T21:43:46.581843Z"
    }
   },
   "outputs": [
    {
     "data": {
      "text/plain": [
       "{'06-07-2023': 'Present',\n",
       " '07-07-2023': 'Present',\n",
       " '08-07-2023': 'Present',\n",
       " '09-07-2023': 'Present',\n",
       " '10-07-2023': 'Present',\n",
       " '11-07-2023': 'Present'}"
      ]
     },
     "execution_count": 37,
     "metadata": {},
     "output_type": "execute_result"
    }
   ],
   "source": [
    "Student2.get_attendance()"
   ]
  },
  {
   "cell_type": "code",
   "execution_count": 38,
   "id": "2acf610f",
   "metadata": {
    "ExecuteTime": {
     "end_time": "2023-07-09T21:43:46.829840Z",
     "start_time": "2023-07-09T21:43:46.723840Z"
    }
   },
   "outputs": [
    {
     "name": "stdout",
     "output_type": "stream",
     "text": [
      "Attendance Details of Rishav \n",
      "------------------\n",
      "Attendance Percentage:  83.33333333333334% \n",
      "Number of days present: 5 \n",
      "Total Working days:     6 \n",
      "Attendance days wise :\n"
     ]
    },
    {
     "data": {
      "text/plain": [
       "{'06-07-2023': 'Present',\n",
       " '07-07-2023': 'Present',\n",
       " '08-07-2023': 'Absent',\n",
       " '09-07-2023': 'Present',\n",
       " '10-07-2023': 'Present',\n",
       " '11-07-2023': 'Present'}"
      ]
     },
     "execution_count": 38,
     "metadata": {},
     "output_type": "execute_result"
    }
   ],
   "source": [
    "Student1.get_average_attendance()"
   ]
  },
  {
   "cell_type": "code",
   "execution_count": 39,
   "id": "86728851",
   "metadata": {
    "ExecuteTime": {
     "end_time": "2023-07-09T21:43:46.955838Z",
     "start_time": "2023-07-09T21:43:46.837842Z"
    }
   },
   "outputs": [
    {
     "name": "stdout",
     "output_type": "stream",
     "text": [
      "Attendance Details of Mishra \n",
      "------------------\n",
      "Attendance Percentage:  100.0% \n",
      "Number of days present: 6 \n",
      "Total Working days:     6 \n",
      "Attendance days wise :\n"
     ]
    },
    {
     "data": {
      "text/plain": [
       "{'06-07-2023': 'Present',\n",
       " '07-07-2023': 'Present',\n",
       " '08-07-2023': 'Present',\n",
       " '09-07-2023': 'Present',\n",
       " '10-07-2023': 'Present',\n",
       " '11-07-2023': 'Present'}"
      ]
     },
     "execution_count": 39,
     "metadata": {},
     "output_type": "execute_result"
    }
   ],
   "source": [
    "Student2.get_average_attendance()"
   ]
  },
  {
   "cell_type": "code",
   "execution_count": null,
   "id": "abb4e47b",
   "metadata": {},
   "outputs": [],
   "source": []
  }
 ],
 "metadata": {
  "kernelspec": {
   "display_name": "Python 3 (ipykernel)",
   "language": "python",
   "name": "python3"
  },
  "language_info": {
   "codemirror_mode": {
    "name": "ipython",
    "version": 3
   },
   "file_extension": ".py",
   "mimetype": "text/x-python",
   "name": "python",
   "nbconvert_exporter": "python",
   "pygments_lexer": "ipython3",
   "version": "3.9.12"
  },
  "varInspector": {
   "cols": {
    "lenName": 16,
    "lenType": 16,
    "lenVar": 40
   },
   "kernels_config": {
    "python": {
     "delete_cmd_postfix": "",
     "delete_cmd_prefix": "del ",
     "library": "var_list.py",
     "varRefreshCmd": "print(var_dic_list())"
    },
    "r": {
     "delete_cmd_postfix": ") ",
     "delete_cmd_prefix": "rm(",
     "library": "var_list.r",
     "varRefreshCmd": "cat(var_dic_list()) "
    }
   },
   "types_to_exclude": [
    "module",
    "function",
    "builtin_function_or_method",
    "instance",
    "_Feature"
   ],
   "window_display": false
  }
 },
 "nbformat": 4,
 "nbformat_minor": 5
}
