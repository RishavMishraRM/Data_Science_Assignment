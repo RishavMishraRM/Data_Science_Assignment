{
 "cells": [
  {
   "cell_type": "markdown",
   "id": "71c3a8b7",
   "metadata": {},
   "source": [
    "#### Question 1. What is the role of the 'else' block in a try-except statement? Provide an example scenario where it would be useful."
   ]
  },
  {
   "cell_type": "markdown",
   "id": "e9cd8062",
   "metadata": {},
   "source": [
    "#### Answer 1\n",
    "<br>\n",
    "In try-except statement we use else block also. It let's us execute our program when there is no error in the code."
   ]
  },
  {
   "cell_type": "code",
   "execution_count": 1,
   "id": "b365ac0d",
   "metadata": {
    "ExecuteTime": {
     "end_time": "2023-06-23T17:41:21.518952Z",
     "start_time": "2023-06-23T17:41:21.054807Z"
    }
   },
   "outputs": [
    {
     "name": "stdout",
     "output_type": "stream",
     "text": [
      "Hello\n",
      "Nothing went wrong\n"
     ]
    }
   ],
   "source": [
    "# else block\n",
    "try:\n",
    "    print(\"Hello\")\n",
    "except:\n",
    "    print(\"Something went wrong\")\n",
    "else:\n",
    "    print(\"Nothing went wrong\")"
   ]
  },
  {
   "cell_type": "markdown",
   "id": "37ddc4ff",
   "metadata": {},
   "source": [
    "#### Question 2. Can a try-except block be nested inside another try-except block? Explain with an example."
   ]
  },
  {
   "cell_type": "markdown",
   "id": "57ae2d58",
   "metadata": {},
   "source": [
    "#### Answer 2\n",
    "<br>\n",
    "Yes, a try-except block can be nested inside try-except block"
   ]
  },
  {
   "cell_type": "code",
   "execution_count": 4,
   "id": "c7b7ef14",
   "metadata": {
    "ExecuteTime": {
     "end_time": "2023-06-23T17:45:18.318532Z",
     "start_time": "2023-06-23T17:45:18.301544Z"
    }
   },
   "outputs": [
    {
     "name": "stdout",
     "output_type": "stream",
     "text": [
      "outer try block\n",
      "nested try block\n",
      "outer except block\n"
     ]
    }
   ],
   "source": [
    "#nested try-except block\n",
    "x = 10\n",
    "y = 0\n",
    "try:\n",
    "    print(\"outer try block\")\n",
    "    try:\n",
    "        print(\"nested try block\")\n",
    "        print(x / y)\n",
    "    except TypeError:\n",
    "        print(\"nested except block\")\n",
    "except ZeroDivisionError:\n",
    "    print(\"outer except block\")"
   ]
  },
  {
   "cell_type": "markdown",
   "id": "62d4c5b6",
   "metadata": {},
   "source": [
    "#### Question 3. How can you create a custom exception class in Python? Provide an example that demonstrates its usage."
   ]
  },
  {
   "cell_type": "markdown",
   "id": "5f7d9cb3",
   "metadata": {},
   "source": [
    "#### Answer 3\n",
    "<br>\n",
    "We can create a custom class in python by using raise function, when the error is expected in the program then we can cature that exception by using except block in the program same as normal program."
   ]
  },
  {
   "cell_type": "code",
   "execution_count": 6,
   "id": "25bf2afd",
   "metadata": {
    "ExecuteTime": {
     "end_time": "2023-06-23T17:51:04.745840Z",
     "start_time": "2023-06-23T17:51:01.652797Z"
    }
   },
   "outputs": [
    {
     "name": "stdout",
     "output_type": "stream",
     "text": [
      "Enter a number: 12\n",
      "Exception occurred: Invalid Age\n"
     ]
    }
   ],
   "source": [
    "# user-defined exceptions\n",
    "class InvalidAgeException(Exception):\n",
    "    \"Raised when the input value is less than 18\"\n",
    "    pass\n",
    "age = 18\n",
    "try:\n",
    "    input_num = int(input(\"Enter a number: \"))\n",
    "    if input_num < age:\n",
    "        raise InvalidAgeException\n",
    "    else:\n",
    "        print(\"Eligible to Vote\")\n",
    "except InvalidAgeException:\n",
    "    print(\"Exception occurred: Invalid Age\")"
   ]
  },
  {
   "cell_type": "markdown",
   "id": "5a506506",
   "metadata": {},
   "source": [
    "#### Question 4. What are some common exceptions that are built-in to Python?"
   ]
  },
  {
   "cell_type": "markdown",
   "id": "9ce31de6",
   "metadata": {},
   "source": [
    "#### Answer 4\n",
    "<br>\n",
    "There are many built-in python functions but some common are given below."
   ]
  },
  {
   "cell_type": "markdown",
   "id": "df911382",
   "metadata": {
    "ExecuteTime": {
     "end_time": "2023-06-23T17:56:22.107638Z",
     "start_time": "2023-06-23T17:56:22.029639Z"
    }
   },
   "source": [
    "` ArithmeticError \n",
    "AttributeError \n",
    "EOFError\n",
    "FloatingPointError\n",
    "ImportError\n",
    "IndentationError\n",
    "IndexError\n",
    "KeyError\n",
    "SystemError\n",
    "ValueError\n",
    "ZeroDivisionError `"
   ]
  },
  {
   "cell_type": "markdown",
   "id": "b398a5e5",
   "metadata": {},
   "source": [
    "#### Question 5. What is logging in Python, and why is it important in software development?"
   ]
  },
  {
   "cell_type": "markdown",
   "id": "01f16ce5",
   "metadata": {},
   "source": [
    "#### Answer 5\n",
    "<br>\n",
    "Logging in a program mean tracking of the events that happen when some software/program runs. <br>\n",
    "Logging is important for software developing, debugging, and running. If we don’t have any logging record and our program and it crashes, then there are very few chances that we can detect the cause of the problem. <br> \n",
    "For Eg : When huge system and api are made then we check the logs which says what request was sent by the cosumer and then what response was recieved by our core system."
   ]
  },
  {
   "cell_type": "code",
   "execution_count": null,
   "id": "a264304d",
   "metadata": {},
   "outputs": [],
   "source": []
  },
  {
   "cell_type": "markdown",
   "id": "e88312b2",
   "metadata": {},
   "source": [
    "#### Question 6. Explain the purpose of log levels in Python logging and provide examples of when each log level would be appropriate."
   ]
  },
  {
   "cell_type": "markdown",
   "id": "c1327554",
   "metadata": {},
   "source": [
    "#### Answer 6\n",
    "<br>\n",
    "When we set logging level in Python using the standard module, we are telling the library that we want to handle all events from that level up. Setting the log level to INFO will include INFO, WARNING, ERROR, and CRITICAL messages. NOTSET and DEBUG messages will not be included in this level then. <br><br>\n",
    "\n",
    "\n",
    "| Level | Numeric Value | Definition |\n",
    "| --- | --- | --- |\n",
    "| CRITICAL | 50 | most dangerous error(can't be fixed by codes) |\n",
    "| ERROR | 40 | actual errors in code |\n",
    "| WARNING | 30 | just warining(in future it can be create error) |\n",
    "| INFO | 20 | increasing order danger(least error) |\n",
    "| DEBUG | 10 | increasing order danger(least error) |\n",
    "| NOTSET | 0 | Nothing |"
   ]
  },
  {
   "cell_type": "code",
   "execution_count": 9,
   "id": "9425d722",
   "metadata": {
    "ExecuteTime": {
     "end_time": "2023-06-23T19:38:47.380672Z",
     "start_time": "2023-06-23T19:38:46.872784Z"
    }
   },
   "outputs": [
    {
     "name": "stderr",
     "output_type": "stream",
     "text": [
      "DEBUG:root:Variables are 2 and 3\n"
     ]
    },
    {
     "data": {
      "text/plain": [
       "5"
      ]
     },
     "execution_count": 9,
     "metadata": {},
     "output_type": "execute_result"
    }
   ],
   "source": [
    "# DEBUG\n",
    "import logging\n",
    "logging.basicConfig(level=logging.DEBUG)\n",
    "def add(x, y):\n",
    "    logging.debug(\"Variables are %s and %s\", x, y)\n",
    "    return x + y\n",
    "add(2, 3)"
   ]
  },
  {
   "cell_type": "code",
   "execution_count": 10,
   "id": "82c01e5b",
   "metadata": {
    "ExecuteTime": {
     "end_time": "2023-06-23T19:39:18.428893Z",
     "start_time": "2023-06-23T19:39:18.364889Z"
    }
   },
   "outputs": [
    {
     "name": "stderr",
     "output_type": "stream",
     "text": [
      "INFO:root:User name is Admin\n"
     ]
    }
   ],
   "source": [
    "# INFO\n",
    "import logging\n",
    "logging.basicConfig(level=logging.INFO)\n",
    "def login123(user):\n",
    "    logging.info('User name is %s', user)\n",
    "login123('Admin')"
   ]
  },
  {
   "cell_type": "code",
   "execution_count": 11,
   "id": "0883db1a",
   "metadata": {
    "ExecuteTime": {
     "end_time": "2023-06-23T19:39:55.638581Z",
     "start_time": "2023-06-23T19:39:55.502947Z"
    }
   },
   "outputs": [
    {
     "name": "stderr",
     "output_type": "stream",
     "text": [
      "WARNING:root:Sorry you have low balance, your balance is 10000\n"
     ]
    }
   ],
   "source": [
    "# WARNING\n",
    "import logging\n",
    "logging.basicConfig(level=logging.WARNING)\n",
    "def MyBalance(amount):\n",
    "    if amount < 40000:\n",
    "        logging.warning(\"Sorry you have low balance, your balance is %s\", amount)\n",
    "MyBalance(10000)"
   ]
  },
  {
   "cell_type": "code",
   "execution_count": 12,
   "id": "b803638a",
   "metadata": {
    "ExecuteTime": {
     "end_time": "2023-06-23T19:40:26.324287Z",
     "start_time": "2023-06-23T19:40:26.260933Z"
    }
   },
   "outputs": [
    {
     "name": "stderr",
     "output_type": "stream",
     "text": [
      "ERROR:root:Division by Zero\n"
     ]
    }
   ],
   "source": [
    "# Error\n",
    "import logging\n",
    "logging.basicConfig(level=logging.ERROR)\n",
    "def DivideByZero(n, d):\n",
    "    try:\n",
    "        result = n/d\n",
    "    except ZeroDivisionError:\n",
    "        logging.error(\"Division by Zero\")\n",
    "    else:\n",
    "        print(result)\n",
    "DivideByZero(5, 0)"
   ]
  },
  {
   "cell_type": "code",
   "execution_count": 13,
   "id": "37c6644a",
   "metadata": {
    "ExecuteTime": {
     "end_time": "2023-06-23T19:41:03.210978Z",
     "start_time": "2023-06-23T19:41:03.157807Z"
    }
   },
   "outputs": [
    {
     "name": "stderr",
     "output_type": "stream",
     "text": [
      "CRITICAL:root:System failured to boot : You need to handle the issue\n"
     ]
    }
   ],
   "source": [
    "# CRITICAL ERROR\n",
    "import logging\n",
    "\n",
    "logging.basicConfig(level=logging.CRITICAL)\n",
    "\n",
    "def LetUsCheckSystem(sys):\n",
    "    if sys != 'OK':\n",
    "        logging.critical('System failured to boot : %s', sys)\n",
    "\n",
    "LetUsCheckSystem('You need to handle the issue')"
   ]
  },
  {
   "cell_type": "markdown",
   "id": "4bca3c87",
   "metadata": {},
   "source": [
    "#### Question 7. What are log formatters in Python logging, and how can you customise the log message format using formatters?"
   ]
  },
  {
   "cell_type": "markdown",
   "id": "4beeed8b",
   "metadata": {},
   "source": [
    "#### Answer 7\n",
    "<br>\n",
    "The handlers use logging.Formatter objects to format a log record into a string-based log entry.<br>\n",
    "Note: Formatters do not control the creation of log messages.<br>\n",
    "A formatter works by combining the fields/data in a log record with the user-specified format string.<br>"
   ]
  },
  {
   "cell_type": "code",
   "execution_count": 3,
   "id": "b3eb0438",
   "metadata": {
    "ExecuteTime": {
     "end_time": "2023-06-24T07:03:23.222737Z",
     "start_time": "2023-06-24T07:03:23.202725Z"
    }
   },
   "outputs": [
    {
     "name": "stderr",
     "output_type": "stream",
     "text": [
      "root        : CRITICAL System failure: You need to handle the issue now\n"
     ]
    }
   ],
   "source": [
    "import os\n",
    "import logging\n",
    "dir_path =  r\"C:\\Users\\Rishav\\Class_Ineuron\\Assignment\\Python_Basic_Assignments\\Assignment 11\"\n",
    "log_file = 'system.txt'\n",
    "full_path = os.path.join(dir_path, log_file)\n",
    "os.makedirs(dir_path, exist_ok=True)\n",
    "logger = logging.getLogger()\n",
    "logger.setLevel(logging.CRITICAL)\n",
    "handler = logging.FileHandler(full_path)\n",
    "handler.setFormatter(logging.Formatter('%(asctime)s:%(levelname)s:%(message)s'))\n",
    "logger.addHandler(handler)\n",
    "def LetUsCheckSystem(sys):\n",
    "    if sys != 'OK':\n",
    "        logging.critical('System failure: %s', sys)\n",
    "LetUsCheckSystem('You need to handle the issue now')\n",
    "handler.close()"
   ]
  },
  {
   "cell_type": "markdown",
   "id": "646ecf6a",
   "metadata": {},
   "source": [
    "#### Question 8. How can you set up logging to capture log messages from multiple modules or classes in a Python application?"
   ]
  },
  {
   "cell_type": "markdown",
   "id": "48543849",
   "metadata": {},
   "source": [
    "#### Answer 8\n",
    "<br>\n",
    "We can define our own logger by creating an object of the Logger class, especially if our application has multiple modules."
   ]
  },
  {
   "cell_type": "code",
   "execution_count": 19,
   "id": "25c3ca94",
   "metadata": {
    "ExecuteTime": {
     "end_time": "2023-06-23T19:49:07.909242Z",
     "start_time": "2023-06-23T19:49:07.855309Z"
    }
   },
   "outputs": [],
   "source": []
  },
  {
   "cell_type": "markdown",
   "id": "21b02050",
   "metadata": {},
   "source": [
    "#### Question 9. What is the difference between the logging and print statements in Python? When should you use logging over print statements in a real-world application?"
   ]
  },
  {
   "cell_type": "markdown",
   "id": "acea2c3f",
   "metadata": {},
   "source": [
    "#### Answer 9\n",
    "<br>\n",
    "\n",
    "| Logging | Print |\n",
    "| --- | --- |\n",
    "| Lgging helps us in recording the error during execution of a python program | Print display the info on console for debugging purpose |\n",
    "| Used in Production environments only | It is mainly for debugging |\n",
    "| Features like Log levels, filtering, formatting, and many more. | There are no good features. |\n",
    "| It has different log levels such as Debug, Info, Error, Warning, and Critical. | It does not have any levels, it simply prints whatever is passed to it. |\n"
   ]
  },
  {
   "cell_type": "code",
   "execution_count": 22,
   "id": "a1189a0d",
   "metadata": {
    "ExecuteTime": {
     "end_time": "2023-06-24T06:41:07.576724Z",
     "start_time": "2023-06-24T06:41:07.530685Z"
    }
   },
   "outputs": [
    {
     "name": "stdout",
     "output_type": "stream",
     "text": [
      "Hello\n"
     ]
    }
   ],
   "source": [
    "# Print \n",
    "print(\"Hello\")"
   ]
  },
  {
   "cell_type": "code",
   "execution_count": 24,
   "id": "072e12c3",
   "metadata": {
    "ExecuteTime": {
     "end_time": "2023-06-24T06:41:31.182566Z",
     "start_time": "2023-06-24T06:41:31.161551Z"
    }
   },
   "outputs": [],
   "source": [
    "# Logging\n",
    "import logging; \n",
    "logging.basicConfig(level=logging.INFO); \n",
    "logging.info(\"Hello\")"
   ]
  },
  {
   "cell_type": "markdown",
   "id": "07b4fa98",
   "metadata": {},
   "source": [
    "#### Question 10. Write a Python program that logs a message to a file named \"app.log\" with the following requirements: <br>\n",
    "● The log message should be \"Hello, World!\"<br>\n",
    "● The log level should be set to \"INFO.\"<br>\n",
    "● The log file should append new log entries without overwriting previous ones.<br>"
   ]
  },
  {
   "cell_type": "markdown",
   "id": "f024af95",
   "metadata": {},
   "source": [
    "#### Answer 10\n",
    "<br>\n",
    "Created a program with the given requirements <br>\n",
    "● The log message should be \"Hello, World!\"<br>\n",
    "● The log level should be set to \"INFO.\"<br>\n",
    "● The log file should append new log entries without overwriting previous ones.<br>\n"
   ]
  },
  {
   "cell_type": "code",
   "execution_count": 6,
   "id": "7a94ddb9",
   "metadata": {
    "ExecuteTime": {
     "end_time": "2023-06-24T07:03:59.756706Z",
     "start_time": "2023-06-24T07:03:59.730706Z"
    }
   },
   "outputs": [
    {
     "name": "stderr",
     "output_type": "stream",
     "text": [
      "root        : INFO     Hello, World\n",
      "root        : INFO     Hello, World\n"
     ]
    }
   ],
   "source": [
    "import os\n",
    "import logging\n",
    "dir_path =  r\"C:\\Users\\Rishav\\Class_Ineuron\\Assignment\\Python_Basic_Assignments\\Assignment 11\"\n",
    "log_file = 'app.log'\n",
    "full_path = os.path.join(dir_path, log_file)\n",
    "os.makedirs(dir_path, exist_ok=True)\n",
    "logger = logging.getLogger()\n",
    "logger.setLevel(logging.INFO)\n",
    "#Filehandler event\n",
    "handler = logging.FileHandler(full_path)\n",
    "handler.setFormatter(logging.Formatter('%(asctime)s:%(levelname)s:%(message)s'))\n",
    "logger.addHandler(handler)\n",
    "def LetUsCheckSystem(sys):\n",
    "    if sys != 'OK':\n",
    "        logging.info('%s', sys)\n",
    "LetUsCheckSystem('Hello, World')\n",
    "handler.close()"
   ]
  },
  {
   "cell_type": "markdown",
   "id": "47ed3aeb",
   "metadata": {},
   "source": [
    "#### Question 11. Create a Python program that logs an error message to the console and a file named \"errors.log\" if an exception occurs during the program's execution. The error message should include the exception type and a timestamp."
   ]
  },
  {
   "cell_type": "markdown",
   "id": "748f5370",
   "metadata": {},
   "source": [
    "#### Answer 11\n",
    "<br>\n",
    "Created a python program that logs an error message to the console and a file named \"errors.log\" if an exception occurs during the program's execution. The error message should include the exception type and a timestamp."
   ]
  },
  {
   "cell_type": "code",
   "execution_count": 7,
   "id": "1f691363",
   "metadata": {
    "ExecuteTime": {
     "end_time": "2023-06-24T07:04:11.310687Z",
     "start_time": "2023-06-24T07:04:11.272694Z"
    }
   },
   "outputs": [
    {
     "name": "stderr",
     "output_type": "stream",
     "text": [
      "root        : INFO     Jackdaws love my big sphinx of quartz.\n",
      "root        : INFO     Jackdaws love my big sphinx of quartz.\n",
      "root        : INFO     Jackdaws love my big sphinx of quartz.\n",
      "myapp.area1 : INFO     How quickly daft jumping zebras vex.\n",
      "myapp.area1 : INFO     How quickly daft jumping zebras vex.\n",
      "myapp.area1 : INFO     How quickly daft jumping zebras vex.\n",
      "myapp.area2 : WARNING  Jail zesty vixen who grabbed pay from quack.\n",
      "myapp.area2 : WARNING  Jail zesty vixen who grabbed pay from quack.\n",
      "myapp.area2 : WARNING  Jail zesty vixen who grabbed pay from quack.\n",
      "myapp.area2 : ERROR    The five boxing wizards jump quickly.\n",
      "myapp.area2 : ERROR    The five boxing wizards jump quickly.\n",
      "myapp.area2 : ERROR    The five boxing wizards jump quickly.\n"
     ]
    }
   ],
   "source": [
    "import logging\n",
    "logging.basicConfig(level=logging.DEBUG,\n",
    "                    format='%(asctime)s %(name)-12s %(levelname)-8s %(message)s',\n",
    "                    datefmt='%m-%d %H:%M',\n",
    "                    filename='/Users/Rishav/Class_Ineuron/Assignment/Python_Basic_Assignments/Assignment 11/error.log' ,\n",
    "                    filemode='w')\n",
    "console = logging.StreamHandler()\n",
    "console.setLevel(logging.INFO)\n",
    "formatter = logging.Formatter('%(name)-12s: %(levelname)-8s %(message)s')\n",
    "console.setFormatter(formatter)\n",
    "logging.getLogger('').addHandler(console)\n",
    "logging.info('Jackdaws love my big sphinx of quartz.')\n",
    "logger1 = logging.getLogger('myapp.area1')\n",
    "logger2 = logging.getLogger('myapp.area2')\n",
    "logger1.debug('Quick zephyrs blow, vexing daft Jim.')\n",
    "logger1.info('How quickly daft jumping zebras vex.')\n",
    "logger2.warning('Jail zesty vixen who grabbed pay from quack.')\n",
    "logger2.error('The five boxing wizards jump quickly.')"
   ]
  },
  {
   "cell_type": "code",
   "execution_count": null,
   "id": "21e1562d",
   "metadata": {},
   "outputs": [],
   "source": []
  }
 ],
 "metadata": {
  "kernelspec": {
   "display_name": "Python 3 (ipykernel)",
   "language": "python",
   "name": "python3"
  },
  "language_info": {
   "codemirror_mode": {
    "name": "ipython",
    "version": 3
   },
   "file_extension": ".py",
   "mimetype": "text/x-python",
   "name": "python",
   "nbconvert_exporter": "python",
   "pygments_lexer": "ipython3",
   "version": "3.9.12"
  },
  "varInspector": {
   "cols": {
    "lenName": 16,
    "lenType": 16,
    "lenVar": 40
   },
   "kernels_config": {
    "python": {
     "delete_cmd_postfix": "",
     "delete_cmd_prefix": "del ",
     "library": "var_list.py",
     "varRefreshCmd": "print(var_dic_list())"
    },
    "r": {
     "delete_cmd_postfix": ") ",
     "delete_cmd_prefix": "rm(",
     "library": "var_list.r",
     "varRefreshCmd": "cat(var_dic_list()) "
    }
   },
   "types_to_exclude": [
    "module",
    "function",
    "builtin_function_or_method",
    "instance",
    "_Feature"
   ],
   "window_display": false
  }
 },
 "nbformat": 4,
 "nbformat_minor": 5
}
