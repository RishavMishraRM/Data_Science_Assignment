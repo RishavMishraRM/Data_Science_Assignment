{
 "cells": [
  {
   "cell_type": "markdown",
   "id": "4b796bc5",
   "metadata": {},
   "source": [
    "Stats\n",
    "\n",
    "1. Descriptive Stats \n",
    "\n",
    "2. Inferential Stats"
   ]
  },
  {
   "cell_type": "markdown",
   "id": "160f36a2",
   "metadata": {},
   "source": [
    "Libraries used for Deacriptive Stats\n",
    "1. pandas\n",
    "2. numpy\n",
    "3. matplotlib & seaboarn\n",
    "4. statsmodel\n",
    "5. scipy\n",
    "6. statistics\n"
   ]
  },
  {
   "cell_type": "markdown",
   "id": "26728778",
   "metadata": {},
   "source": [
    "## Data"
   ]
  },
  {
   "cell_type": "code",
   "execution_count": 2,
   "id": "3dff5285",
   "metadata": {
    "ExecuteTime": {
     "end_time": "2023-09-17T04:00:24.214202Z",
     "start_time": "2023-09-17T04:00:24.204568Z"
    }
   },
   "outputs": [
    {
     "data": {
      "text/plain": [
       "12"
      ]
     },
     "execution_count": 2,
     "metadata": {},
     "output_type": "execute_result"
    }
   ],
   "source": [
    "import random\n",
    "random.randint(10, 20)"
   ]
  },
  {
   "cell_type": "code",
   "execution_count": 3,
   "id": "b483f78a",
   "metadata": {
    "ExecuteTime": {
     "end_time": "2023-09-17T04:02:42.301589Z",
     "start_time": "2023-09-17T04:02:42.286053Z"
    }
   },
   "outputs": [
    {
     "name": "stdout",
     "output_type": "stream",
     "text": [
      "[52, 26, 49, 34, 21, 23, 42, 24, 25, 46]\n"
     ]
    }
   ],
   "source": [
    "import random\n",
    "data = []\n",
    "for i in range(10):\n",
    "    random_number = random.randint(20, 70)\n",
    "    data.append(random_number)\n",
    "    \n",
    "print(data)"
   ]
  },
  {
   "cell_type": "code",
   "execution_count": 5,
   "id": "a0dbc496",
   "metadata": {
    "ExecuteTime": {
     "end_time": "2023-09-17T04:06:03.897238Z",
     "start_time": "2023-09-17T04:06:03.811832Z"
    }
   },
   "outputs": [],
   "source": [
    "import pandas as pd\n",
    "data2 = pd.read_csv(\"iris.csv\")"
   ]
  },
  {
   "cell_type": "code",
   "execution_count": 7,
   "id": "5725b8b0",
   "metadata": {
    "ExecuteTime": {
     "end_time": "2023-09-17T04:06:24.115424Z",
     "start_time": "2023-09-17T04:06:24.093303Z"
    }
   },
   "outputs": [
    {
     "data": {
      "text/html": [
       "<div>\n",
       "<style scoped>\n",
       "    .dataframe tbody tr th:only-of-type {\n",
       "        vertical-align: middle;\n",
       "    }\n",
       "\n",
       "    .dataframe tbody tr th {\n",
       "        vertical-align: top;\n",
       "    }\n",
       "\n",
       "    .dataframe thead th {\n",
       "        text-align: right;\n",
       "    }\n",
       "</style>\n",
       "<table border=\"1\" class=\"dataframe\">\n",
       "  <thead>\n",
       "    <tr style=\"text-align: right;\">\n",
       "      <th></th>\n",
       "      <th>sepal_length</th>\n",
       "      <th>sepal_width</th>\n",
       "      <th>petal_length</th>\n",
       "      <th>petal_width</th>\n",
       "      <th>species</th>\n",
       "    </tr>\n",
       "  </thead>\n",
       "  <tbody>\n",
       "    <tr>\n",
       "      <th>0</th>\n",
       "      <td>5.1</td>\n",
       "      <td>3.5</td>\n",
       "      <td>1.4</td>\n",
       "      <td>0.2</td>\n",
       "      <td>setosa</td>\n",
       "    </tr>\n",
       "    <tr>\n",
       "      <th>1</th>\n",
       "      <td>4.9</td>\n",
       "      <td>3.0</td>\n",
       "      <td>1.4</td>\n",
       "      <td>0.2</td>\n",
       "      <td>setosa</td>\n",
       "    </tr>\n",
       "    <tr>\n",
       "      <th>2</th>\n",
       "      <td>4.7</td>\n",
       "      <td>3.2</td>\n",
       "      <td>1.3</td>\n",
       "      <td>0.2</td>\n",
       "      <td>setosa</td>\n",
       "    </tr>\n",
       "    <tr>\n",
       "      <th>3</th>\n",
       "      <td>4.6</td>\n",
       "      <td>3.1</td>\n",
       "      <td>1.5</td>\n",
       "      <td>0.2</td>\n",
       "      <td>setosa</td>\n",
       "    </tr>\n",
       "    <tr>\n",
       "      <th>4</th>\n",
       "      <td>5.0</td>\n",
       "      <td>3.6</td>\n",
       "      <td>1.4</td>\n",
       "      <td>0.2</td>\n",
       "      <td>setosa</td>\n",
       "    </tr>\n",
       "  </tbody>\n",
       "</table>\n",
       "</div>"
      ],
      "text/plain": [
       "   sepal_length  sepal_width  petal_length  petal_width species\n",
       "0           5.1          3.5           1.4          0.2  setosa\n",
       "1           4.9          3.0           1.4          0.2  setosa\n",
       "2           4.7          3.2           1.3          0.2  setosa\n",
       "3           4.6          3.1           1.5          0.2  setosa\n",
       "4           5.0          3.6           1.4          0.2  setosa"
      ]
     },
     "execution_count": 7,
     "metadata": {},
     "output_type": "execute_result"
    }
   ],
   "source": [
    "data2.head()"
   ]
  },
  {
   "cell_type": "code",
   "execution_count": 8,
   "id": "bed108e0",
   "metadata": {
    "ExecuteTime": {
     "end_time": "2023-09-17T04:09:42.307011Z",
     "start_time": "2023-09-17T04:09:42.273217Z"
    }
   },
   "outputs": [],
   "source": [
    "data3 = pd.read_csv(\"titanic_train.csv\")"
   ]
  },
  {
   "cell_type": "code",
   "execution_count": 9,
   "id": "1ce75d65",
   "metadata": {
    "ExecuteTime": {
     "end_time": "2023-09-17T04:09:54.038743Z",
     "start_time": "2023-09-17T04:09:54.025232Z"
    }
   },
   "outputs": [
    {
     "data": {
      "text/html": [
       "<div>\n",
       "<style scoped>\n",
       "    .dataframe tbody tr th:only-of-type {\n",
       "        vertical-align: middle;\n",
       "    }\n",
       "\n",
       "    .dataframe tbody tr th {\n",
       "        vertical-align: top;\n",
       "    }\n",
       "\n",
       "    .dataframe thead th {\n",
       "        text-align: right;\n",
       "    }\n",
       "</style>\n",
       "<table border=\"1\" class=\"dataframe\">\n",
       "  <thead>\n",
       "    <tr style=\"text-align: right;\">\n",
       "      <th></th>\n",
       "      <th>PassengerId</th>\n",
       "      <th>Survived</th>\n",
       "      <th>Pclass</th>\n",
       "      <th>Name</th>\n",
       "      <th>Sex</th>\n",
       "      <th>Age</th>\n",
       "      <th>SibSp</th>\n",
       "      <th>Parch</th>\n",
       "      <th>Ticket</th>\n",
       "      <th>Fare</th>\n",
       "      <th>Cabin</th>\n",
       "      <th>Embarked</th>\n",
       "    </tr>\n",
       "  </thead>\n",
       "  <tbody>\n",
       "    <tr>\n",
       "      <th>0</th>\n",
       "      <td>1</td>\n",
       "      <td>0</td>\n",
       "      <td>3</td>\n",
       "      <td>Braund, Mr. Owen Harris</td>\n",
       "      <td>male</td>\n",
       "      <td>22.0</td>\n",
       "      <td>1</td>\n",
       "      <td>0</td>\n",
       "      <td>A/5 21171</td>\n",
       "      <td>7.2500</td>\n",
       "      <td>NaN</td>\n",
       "      <td>S</td>\n",
       "    </tr>\n",
       "    <tr>\n",
       "      <th>1</th>\n",
       "      <td>2</td>\n",
       "      <td>1</td>\n",
       "      <td>1</td>\n",
       "      <td>Cumings, Mrs. John Bradley (Florence Briggs Th...</td>\n",
       "      <td>female</td>\n",
       "      <td>38.0</td>\n",
       "      <td>1</td>\n",
       "      <td>0</td>\n",
       "      <td>PC 17599</td>\n",
       "      <td>71.2833</td>\n",
       "      <td>C85</td>\n",
       "      <td>C</td>\n",
       "    </tr>\n",
       "    <tr>\n",
       "      <th>2</th>\n",
       "      <td>3</td>\n",
       "      <td>1</td>\n",
       "      <td>3</td>\n",
       "      <td>Heikkinen, Miss. Laina</td>\n",
       "      <td>female</td>\n",
       "      <td>26.0</td>\n",
       "      <td>0</td>\n",
       "      <td>0</td>\n",
       "      <td>STON/O2. 3101282</td>\n",
       "      <td>7.9250</td>\n",
       "      <td>NaN</td>\n",
       "      <td>S</td>\n",
       "    </tr>\n",
       "    <tr>\n",
       "      <th>3</th>\n",
       "      <td>4</td>\n",
       "      <td>1</td>\n",
       "      <td>1</td>\n",
       "      <td>Futrelle, Mrs. Jacques Heath (Lily May Peel)</td>\n",
       "      <td>female</td>\n",
       "      <td>35.0</td>\n",
       "      <td>1</td>\n",
       "      <td>0</td>\n",
       "      <td>113803</td>\n",
       "      <td>53.1000</td>\n",
       "      <td>C123</td>\n",
       "      <td>S</td>\n",
       "    </tr>\n",
       "    <tr>\n",
       "      <th>4</th>\n",
       "      <td>5</td>\n",
       "      <td>0</td>\n",
       "      <td>3</td>\n",
       "      <td>Allen, Mr. William Henry</td>\n",
       "      <td>male</td>\n",
       "      <td>35.0</td>\n",
       "      <td>0</td>\n",
       "      <td>0</td>\n",
       "      <td>373450</td>\n",
       "      <td>8.0500</td>\n",
       "      <td>NaN</td>\n",
       "      <td>S</td>\n",
       "    </tr>\n",
       "  </tbody>\n",
       "</table>\n",
       "</div>"
      ],
      "text/plain": [
       "   PassengerId  Survived  Pclass  \\\n",
       "0            1         0       3   \n",
       "1            2         1       1   \n",
       "2            3         1       3   \n",
       "3            4         1       1   \n",
       "4            5         0       3   \n",
       "\n",
       "                                                Name     Sex   Age  SibSp  \\\n",
       "0                            Braund, Mr. Owen Harris    male  22.0      1   \n",
       "1  Cumings, Mrs. John Bradley (Florence Briggs Th...  female  38.0      1   \n",
       "2                             Heikkinen, Miss. Laina  female  26.0      0   \n",
       "3       Futrelle, Mrs. Jacques Heath (Lily May Peel)  female  35.0      1   \n",
       "4                           Allen, Mr. William Henry    male  35.0      0   \n",
       "\n",
       "   Parch            Ticket     Fare Cabin Embarked  \n",
       "0      0         A/5 21171   7.2500   NaN        S  \n",
       "1      0          PC 17599  71.2833   C85        C  \n",
       "2      0  STON/O2. 3101282   7.9250   NaN        S  \n",
       "3      0            113803  53.1000  C123        S  \n",
       "4      0            373450   8.0500   NaN        S  "
      ]
     },
     "execution_count": 9,
     "metadata": {},
     "output_type": "execute_result"
    }
   ],
   "source": [
    "data3.head()"
   ]
  },
  {
   "cell_type": "code",
   "execution_count": 10,
   "id": "774efdff",
   "metadata": {
    "ExecuteTime": {
     "end_time": "2023-09-17T04:13:06.869597Z",
     "start_time": "2023-09-17T04:13:06.854210Z"
    }
   },
   "outputs": [
    {
     "data": {
      "text/plain": [
       "[52, 26, 49, 34, 21, 23, 42, 24, 25, 46]"
      ]
     },
     "execution_count": 10,
     "metadata": {},
     "output_type": "execute_result"
    }
   ],
   "source": [
    "data"
   ]
  },
  {
   "cell_type": "markdown",
   "id": "89ba40a4",
   "metadata": {},
   "source": [
    "### central tendency\n",
    "#### Mean\n",
    "#### Median\n",
    "#### Mode"
   ]
  },
  {
   "cell_type": "code",
   "execution_count": 13,
   "id": "1b1bf007",
   "metadata": {
    "ExecuteTime": {
     "end_time": "2023-09-17T04:16:14.658713Z",
     "start_time": "2023-09-17T04:16:14.644937Z"
    }
   },
   "outputs": [],
   "source": [
    "data_copy = data.copy()"
   ]
  },
  {
   "cell_type": "code",
   "execution_count": 14,
   "id": "3c6ec6e3",
   "metadata": {
    "ExecuteTime": {
     "end_time": "2023-09-17T04:16:30.892759Z",
     "start_time": "2023-09-17T04:16:30.875699Z"
    }
   },
   "outputs": [
    {
     "data": {
      "text/plain": [
       "[52, 26, 49, 34, 21, 23, 42, 24, 25, 46]"
      ]
     },
     "execution_count": 14,
     "metadata": {},
     "output_type": "execute_result"
    }
   ],
   "source": [
    "data_copy"
   ]
  },
  {
   "cell_type": "code",
   "execution_count": 17,
   "id": "d08a3a6d",
   "metadata": {
    "ExecuteTime": {
     "end_time": "2023-09-17T04:16:59.970502Z",
     "start_time": "2023-09-17T04:16:59.953982Z"
    }
   },
   "outputs": [
    {
     "data": {
      "text/plain": [
       "34.2"
      ]
     },
     "execution_count": 17,
     "metadata": {},
     "output_type": "execute_result"
    }
   ],
   "source": [
    "import numpy as np\n",
    "np.mean(data_copy)"
   ]
  },
  {
   "cell_type": "code",
   "execution_count": 18,
   "id": "96e912f7",
   "metadata": {
    "ExecuteTime": {
     "end_time": "2023-09-17T04:17:04.621936Z",
     "start_time": "2023-09-17T04:17:04.615847Z"
    }
   },
   "outputs": [
    {
     "data": {
      "text/plain": [
       "30.0"
      ]
     },
     "execution_count": 18,
     "metadata": {},
     "output_type": "execute_result"
    }
   ],
   "source": [
    "np.median(data_copy)"
   ]
  },
  {
   "cell_type": "code",
   "execution_count": 19,
   "id": "d5c860d3",
   "metadata": {
    "ExecuteTime": {
     "end_time": "2023-09-17T04:17:09.967991Z",
     "start_time": "2023-09-17T04:17:09.889786Z"
    }
   },
   "outputs": [
    {
     "ename": "AttributeError",
     "evalue": "module 'numpy' has no attribute 'mode'",
     "output_type": "error",
     "traceback": [
      "\u001b[1;31m---------------------------------------------------------------------------\u001b[0m",
      "\u001b[1;31mAttributeError\u001b[0m                            Traceback (most recent call last)",
      "Cell \u001b[1;32mIn[19], line 1\u001b[0m\n\u001b[1;32m----> 1\u001b[0m np\u001b[38;5;241m.\u001b[39mmode(data_copy)\n",
      "File \u001b[1;32m~\\anaconda3\\Lib\\site-packages\\numpy\\__init__.py:320\u001b[0m, in \u001b[0;36m__getattr__\u001b[1;34m(attr)\u001b[0m\n\u001b[0;32m    317\u001b[0m     \u001b[38;5;28;01mfrom\u001b[39;00m \u001b[38;5;21;01m.\u001b[39;00m\u001b[38;5;21;01mtesting\u001b[39;00m \u001b[38;5;28;01mimport\u001b[39;00m Tester\n\u001b[0;32m    318\u001b[0m     \u001b[38;5;28;01mreturn\u001b[39;00m Tester\n\u001b[1;32m--> 320\u001b[0m \u001b[38;5;28;01mraise\u001b[39;00m \u001b[38;5;167;01mAttributeError\u001b[39;00m(\u001b[38;5;124m\"\u001b[39m\u001b[38;5;124mmodule \u001b[39m\u001b[38;5;132;01m{!r}\u001b[39;00m\u001b[38;5;124m has no attribute \u001b[39m\u001b[38;5;124m\"\u001b[39m\n\u001b[0;32m    321\u001b[0m                      \u001b[38;5;124m\"\u001b[39m\u001b[38;5;132;01m{!r}\u001b[39;00m\u001b[38;5;124m\"\u001b[39m\u001b[38;5;241m.\u001b[39mformat(\u001b[38;5;18m__name__\u001b[39m, attr))\n",
      "\u001b[1;31mAttributeError\u001b[0m: module 'numpy' has no attribute 'mode'"
     ]
    }
   ],
   "source": [
    "np.mode(data_copy)"
   ]
  },
  {
   "cell_type": "code",
   "execution_count": 20,
   "id": "59839b5a",
   "metadata": {
    "ExecuteTime": {
     "end_time": "2023-09-17T04:19:15.205080Z",
     "start_time": "2023-09-17T04:19:15.189599Z"
    }
   },
   "outputs": [],
   "source": [
    "# Calculate mean of sepal length"
   ]
  },
  {
   "cell_type": "code",
   "execution_count": 22,
   "id": "67af6499",
   "metadata": {
    "ExecuteTime": {
     "end_time": "2023-09-17T04:19:42.323922Z",
     "start_time": "2023-09-17T04:19:42.307721Z"
    }
   },
   "outputs": [
    {
     "data": {
      "text/plain": [
       "Index(['sepal_length', 'sepal_width', 'petal_length', 'petal_width',\n",
       "       'species'],\n",
       "      dtype='object')"
      ]
     },
     "execution_count": 22,
     "metadata": {},
     "output_type": "execute_result"
    }
   ],
   "source": [
    "data2.columns"
   ]
  },
  {
   "cell_type": "code",
   "execution_count": 23,
   "id": "b1e3f796",
   "metadata": {
    "ExecuteTime": {
     "end_time": "2023-09-17T04:20:19.848984Z",
     "start_time": "2023-09-17T04:20:19.791538Z"
    }
   },
   "outputs": [
    {
     "data": {
      "text/plain": [
       "5.843333333333334"
      ]
     },
     "execution_count": 23,
     "metadata": {},
     "output_type": "execute_result"
    }
   ],
   "source": [
    "np.mean(data2[\"sepal_length\"])"
   ]
  },
  {
   "cell_type": "code",
   "execution_count": 24,
   "id": "7afbf2ae",
   "metadata": {
    "ExecuteTime": {
     "end_time": "2023-09-17T04:20:54.969603Z",
     "start_time": "2023-09-17T04:20:54.955446Z"
    }
   },
   "outputs": [],
   "source": [
    "# calcukate median of age column"
   ]
  },
  {
   "cell_type": "code",
   "execution_count": 27,
   "id": "2c3e39c8",
   "metadata": {
    "ExecuteTime": {
     "end_time": "2023-09-17T04:21:58.359334Z",
     "start_time": "2023-09-17T04:21:58.332490Z"
    }
   },
   "outputs": [
    {
     "data": {
      "text/html": [
       "<div>\n",
       "<style scoped>\n",
       "    .dataframe tbody tr th:only-of-type {\n",
       "        vertical-align: middle;\n",
       "    }\n",
       "\n",
       "    .dataframe tbody tr th {\n",
       "        vertical-align: top;\n",
       "    }\n",
       "\n",
       "    .dataframe thead th {\n",
       "        text-align: right;\n",
       "    }\n",
       "</style>\n",
       "<table border=\"1\" class=\"dataframe\">\n",
       "  <thead>\n",
       "    <tr style=\"text-align: right;\">\n",
       "      <th></th>\n",
       "      <th>PassengerId</th>\n",
       "      <th>Survived</th>\n",
       "      <th>Pclass</th>\n",
       "      <th>Name</th>\n",
       "      <th>Sex</th>\n",
       "      <th>Age</th>\n",
       "      <th>SibSp</th>\n",
       "      <th>Parch</th>\n",
       "      <th>Ticket</th>\n",
       "      <th>Fare</th>\n",
       "      <th>Cabin</th>\n",
       "      <th>Embarked</th>\n",
       "    </tr>\n",
       "  </thead>\n",
       "  <tbody>\n",
       "    <tr>\n",
       "      <th>0</th>\n",
       "      <td>1</td>\n",
       "      <td>0</td>\n",
       "      <td>3</td>\n",
       "      <td>Braund, Mr. Owen Harris</td>\n",
       "      <td>male</td>\n",
       "      <td>22.0</td>\n",
       "      <td>1</td>\n",
       "      <td>0</td>\n",
       "      <td>A/5 21171</td>\n",
       "      <td>7.2500</td>\n",
       "      <td>NaN</td>\n",
       "      <td>S</td>\n",
       "    </tr>\n",
       "    <tr>\n",
       "      <th>1</th>\n",
       "      <td>2</td>\n",
       "      <td>1</td>\n",
       "      <td>1</td>\n",
       "      <td>Cumings, Mrs. John Bradley (Florence Briggs Th...</td>\n",
       "      <td>female</td>\n",
       "      <td>38.0</td>\n",
       "      <td>1</td>\n",
       "      <td>0</td>\n",
       "      <td>PC 17599</td>\n",
       "      <td>71.2833</td>\n",
       "      <td>C85</td>\n",
       "      <td>C</td>\n",
       "    </tr>\n",
       "    <tr>\n",
       "      <th>2</th>\n",
       "      <td>3</td>\n",
       "      <td>1</td>\n",
       "      <td>3</td>\n",
       "      <td>Heikkinen, Miss. Laina</td>\n",
       "      <td>female</td>\n",
       "      <td>26.0</td>\n",
       "      <td>0</td>\n",
       "      <td>0</td>\n",
       "      <td>STON/O2. 3101282</td>\n",
       "      <td>7.9250</td>\n",
       "      <td>NaN</td>\n",
       "      <td>S</td>\n",
       "    </tr>\n",
       "    <tr>\n",
       "      <th>3</th>\n",
       "      <td>4</td>\n",
       "      <td>1</td>\n",
       "      <td>1</td>\n",
       "      <td>Futrelle, Mrs. Jacques Heath (Lily May Peel)</td>\n",
       "      <td>female</td>\n",
       "      <td>35.0</td>\n",
       "      <td>1</td>\n",
       "      <td>0</td>\n",
       "      <td>113803</td>\n",
       "      <td>53.1000</td>\n",
       "      <td>C123</td>\n",
       "      <td>S</td>\n",
       "    </tr>\n",
       "    <tr>\n",
       "      <th>4</th>\n",
       "      <td>5</td>\n",
       "      <td>0</td>\n",
       "      <td>3</td>\n",
       "      <td>Allen, Mr. William Henry</td>\n",
       "      <td>male</td>\n",
       "      <td>35.0</td>\n",
       "      <td>0</td>\n",
       "      <td>0</td>\n",
       "      <td>373450</td>\n",
       "      <td>8.0500</td>\n",
       "      <td>NaN</td>\n",
       "      <td>S</td>\n",
       "    </tr>\n",
       "  </tbody>\n",
       "</table>\n",
       "</div>"
      ],
      "text/plain": [
       "   PassengerId  Survived  Pclass  \\\n",
       "0            1         0       3   \n",
       "1            2         1       1   \n",
       "2            3         1       3   \n",
       "3            4         1       1   \n",
       "4            5         0       3   \n",
       "\n",
       "                                                Name     Sex   Age  SibSp  \\\n",
       "0                            Braund, Mr. Owen Harris    male  22.0      1   \n",
       "1  Cumings, Mrs. John Bradley (Florence Briggs Th...  female  38.0      1   \n",
       "2                             Heikkinen, Miss. Laina  female  26.0      0   \n",
       "3       Futrelle, Mrs. Jacques Heath (Lily May Peel)  female  35.0      1   \n",
       "4                           Allen, Mr. William Henry    male  35.0      0   \n",
       "\n",
       "   Parch            Ticket     Fare Cabin Embarked  \n",
       "0      0         A/5 21171   7.2500   NaN        S  \n",
       "1      0          PC 17599  71.2833   C85        C  \n",
       "2      0  STON/O2. 3101282   7.9250   NaN        S  \n",
       "3      0            113803  53.1000  C123        S  \n",
       "4      0            373450   8.0500   NaN        S  "
      ]
     },
     "execution_count": 27,
     "metadata": {},
     "output_type": "execute_result"
    }
   ],
   "source": [
    "data3.head()"
   ]
  },
  {
   "cell_type": "code",
   "execution_count": 26,
   "id": "2eebece4",
   "metadata": {
    "ExecuteTime": {
     "end_time": "2023-09-17T04:21:28.483396Z",
     "start_time": "2023-09-17T04:21:28.417004Z"
    }
   },
   "outputs": [
    {
     "name": "stdout",
     "output_type": "stream",
     "text": [
      "<class 'pandas.core.frame.DataFrame'>\n",
      "RangeIndex: 891 entries, 0 to 890\n",
      "Data columns (total 12 columns):\n",
      " #   Column       Non-Null Count  Dtype  \n",
      "---  ------       --------------  -----  \n",
      " 0   PassengerId  891 non-null    int64  \n",
      " 1   Survived     891 non-null    int64  \n",
      " 2   Pclass       891 non-null    int64  \n",
      " 3   Name         891 non-null    object \n",
      " 4   Sex          891 non-null    object \n",
      " 5   Age          714 non-null    float64\n",
      " 6   SibSp        891 non-null    int64  \n",
      " 7   Parch        891 non-null    int64  \n",
      " 8   Ticket       891 non-null    object \n",
      " 9   Fare         891 non-null    float64\n",
      " 10  Cabin        204 non-null    object \n",
      " 11  Embarked     889 non-null    object \n",
      "dtypes: float64(2), int64(5), object(5)\n",
      "memory usage: 83.7+ KB\n"
     ]
    }
   ],
   "source": [
    "data3.info()"
   ]
  },
  {
   "cell_type": "code",
   "execution_count": 31,
   "id": "dfea50ae",
   "metadata": {
    "ExecuteTime": {
     "end_time": "2023-09-17T04:23:48.886297Z",
     "start_time": "2023-09-17T04:23:48.821436Z"
    }
   },
   "outputs": [
    {
     "data": {
      "text/html": [
       "<div>\n",
       "<style scoped>\n",
       "    .dataframe tbody tr th:only-of-type {\n",
       "        vertical-align: middle;\n",
       "    }\n",
       "\n",
       "    .dataframe tbody tr th {\n",
       "        vertical-align: top;\n",
       "    }\n",
       "\n",
       "    .dataframe thead th {\n",
       "        text-align: right;\n",
       "    }\n",
       "</style>\n",
       "<table border=\"1\" class=\"dataframe\">\n",
       "  <thead>\n",
       "    <tr style=\"text-align: right;\">\n",
       "      <th></th>\n",
       "      <th>PassengerId</th>\n",
       "      <th>Survived</th>\n",
       "      <th>Pclass</th>\n",
       "      <th>Age</th>\n",
       "      <th>SibSp</th>\n",
       "      <th>Parch</th>\n",
       "      <th>Fare</th>\n",
       "    </tr>\n",
       "  </thead>\n",
       "  <tbody>\n",
       "    <tr>\n",
       "      <th>count</th>\n",
       "      <td>891.000000</td>\n",
       "      <td>891.000000</td>\n",
       "      <td>891.000000</td>\n",
       "      <td>714.000000</td>\n",
       "      <td>891.000000</td>\n",
       "      <td>891.000000</td>\n",
       "      <td>891.000000</td>\n",
       "    </tr>\n",
       "    <tr>\n",
       "      <th>mean</th>\n",
       "      <td>446.000000</td>\n",
       "      <td>0.383838</td>\n",
       "      <td>2.308642</td>\n",
       "      <td>29.699118</td>\n",
       "      <td>0.523008</td>\n",
       "      <td>0.381594</td>\n",
       "      <td>32.204208</td>\n",
       "    </tr>\n",
       "    <tr>\n",
       "      <th>std</th>\n",
       "      <td>257.353842</td>\n",
       "      <td>0.486592</td>\n",
       "      <td>0.836071</td>\n",
       "      <td>14.526497</td>\n",
       "      <td>1.102743</td>\n",
       "      <td>0.806057</td>\n",
       "      <td>49.693429</td>\n",
       "    </tr>\n",
       "    <tr>\n",
       "      <th>min</th>\n",
       "      <td>1.000000</td>\n",
       "      <td>0.000000</td>\n",
       "      <td>1.000000</td>\n",
       "      <td>0.420000</td>\n",
       "      <td>0.000000</td>\n",
       "      <td>0.000000</td>\n",
       "      <td>0.000000</td>\n",
       "    </tr>\n",
       "    <tr>\n",
       "      <th>25%</th>\n",
       "      <td>223.500000</td>\n",
       "      <td>0.000000</td>\n",
       "      <td>2.000000</td>\n",
       "      <td>20.125000</td>\n",
       "      <td>0.000000</td>\n",
       "      <td>0.000000</td>\n",
       "      <td>7.910400</td>\n",
       "    </tr>\n",
       "    <tr>\n",
       "      <th>50%</th>\n",
       "      <td>446.000000</td>\n",
       "      <td>0.000000</td>\n",
       "      <td>3.000000</td>\n",
       "      <td>28.000000</td>\n",
       "      <td>0.000000</td>\n",
       "      <td>0.000000</td>\n",
       "      <td>14.454200</td>\n",
       "    </tr>\n",
       "    <tr>\n",
       "      <th>75%</th>\n",
       "      <td>668.500000</td>\n",
       "      <td>1.000000</td>\n",
       "      <td>3.000000</td>\n",
       "      <td>38.000000</td>\n",
       "      <td>1.000000</td>\n",
       "      <td>0.000000</td>\n",
       "      <td>31.000000</td>\n",
       "    </tr>\n",
       "    <tr>\n",
       "      <th>max</th>\n",
       "      <td>891.000000</td>\n",
       "      <td>1.000000</td>\n",
       "      <td>3.000000</td>\n",
       "      <td>80.000000</td>\n",
       "      <td>8.000000</td>\n",
       "      <td>6.000000</td>\n",
       "      <td>512.329200</td>\n",
       "    </tr>\n",
       "  </tbody>\n",
       "</table>\n",
       "</div>"
      ],
      "text/plain": [
       "       PassengerId    Survived      Pclass         Age       SibSp  \\\n",
       "count   891.000000  891.000000  891.000000  714.000000  891.000000   \n",
       "mean    446.000000    0.383838    2.308642   29.699118    0.523008   \n",
       "std     257.353842    0.486592    0.836071   14.526497    1.102743   \n",
       "min       1.000000    0.000000    1.000000    0.420000    0.000000   \n",
       "25%     223.500000    0.000000    2.000000   20.125000    0.000000   \n",
       "50%     446.000000    0.000000    3.000000   28.000000    0.000000   \n",
       "75%     668.500000    1.000000    3.000000   38.000000    1.000000   \n",
       "max     891.000000    1.000000    3.000000   80.000000    8.000000   \n",
       "\n",
       "            Parch        Fare  \n",
       "count  891.000000  891.000000  \n",
       "mean     0.381594   32.204208  \n",
       "std      0.806057   49.693429  \n",
       "min      0.000000    0.000000  \n",
       "25%      0.000000    7.910400  \n",
       "50%      0.000000   14.454200  \n",
       "75%      0.000000   31.000000  \n",
       "max      6.000000  512.329200  "
      ]
     },
     "execution_count": 31,
     "metadata": {},
     "output_type": "execute_result"
    }
   ],
   "source": [
    "data3.describe()"
   ]
  },
  {
   "cell_type": "code",
   "execution_count": 28,
   "id": "4729af1b",
   "metadata": {
    "ExecuteTime": {
     "end_time": "2023-09-17T04:22:23.520219Z",
     "start_time": "2023-09-17T04:22:23.510698Z"
    }
   },
   "outputs": [
    {
     "data": {
      "text/plain": [
       "(891, 12)"
      ]
     },
     "execution_count": 28,
     "metadata": {},
     "output_type": "execute_result"
    }
   ],
   "source": [
    "data3.shape"
   ]
  },
  {
   "cell_type": "code",
   "execution_count": 29,
   "id": "29658007",
   "metadata": {
    "ExecuteTime": {
     "end_time": "2023-09-17T04:23:15.432226Z",
     "start_time": "2023-09-17T04:23:15.417617Z"
    }
   },
   "outputs": [
    {
     "data": {
      "text/plain": [
       "14.4542"
      ]
     },
     "execution_count": 29,
     "metadata": {},
     "output_type": "execute_result"
    }
   ],
   "source": [
    "np.median(data3[\"Fare\"])"
   ]
  },
  {
   "cell_type": "code",
   "execution_count": 33,
   "id": "21877520",
   "metadata": {
    "ExecuteTime": {
     "end_time": "2023-09-17T04:25:49.265728Z",
     "start_time": "2023-09-17T04:25:49.247299Z"
    }
   },
   "outputs": [
    {
     "data": {
      "text/plain": [
       "[52, 26, 49, 34, 21, 23, 42, 24, 25, 46]"
      ]
     },
     "execution_count": 33,
     "metadata": {},
     "output_type": "execute_result"
    }
   ],
   "source": [
    "data_copy"
   ]
  },
  {
   "cell_type": "code",
   "execution_count": 46,
   "id": "003fff9e",
   "metadata": {
    "ExecuteTime": {
     "end_time": "2023-09-17T04:31:49.620970Z",
     "start_time": "2023-09-17T04:31:49.607910Z"
    }
   },
   "outputs": [],
   "source": [
    "data_copy2 = data.copy"
   ]
  },
  {
   "cell_type": "code",
   "execution_count": 47,
   "id": "7838d124",
   "metadata": {
    "ExecuteTime": {
     "end_time": "2023-09-17T04:31:50.375224Z",
     "start_time": "2023-09-17T04:31:50.345067Z"
    }
   },
   "outputs": [
    {
     "ename": "AttributeError",
     "evalue": "'builtin_function_or_method' object has no attribute 'append'",
     "output_type": "error",
     "traceback": [
      "\u001b[1;31m---------------------------------------------------------------------------\u001b[0m",
      "\u001b[1;31mAttributeError\u001b[0m                            Traceback (most recent call last)",
      "Cell \u001b[1;32mIn[47], line 1\u001b[0m\n\u001b[1;32m----> 1\u001b[0m data_copy2\u001b[38;5;241m.\u001b[39mappend(\u001b[38;5;241m48\u001b[39m)\n\u001b[0;32m      2\u001b[0m data_copy2\u001b[38;5;241m.\u001b[39mappend(\u001b[38;5;241m48\u001b[39m)\n\u001b[0;32m      3\u001b[0m data_copy2\u001b[38;5;241m.\u001b[39mappend(\u001b[38;5;241m19\u001b[39m)\n",
      "\u001b[1;31mAttributeError\u001b[0m: 'builtin_function_or_method' object has no attribute 'append'"
     ]
    }
   ],
   "source": [
    "data_copy2.append(48)\n",
    "data_copy2.append(48)\n",
    "data_copy2.append(19)"
   ]
  },
  {
   "cell_type": "code",
   "execution_count": 42,
   "id": "5c46dde4",
   "metadata": {
    "ExecuteTime": {
     "end_time": "2023-09-17T04:31:05.337107Z",
     "start_time": "2023-09-17T04:31:05.326087Z"
    }
   },
   "outputs": [
    {
     "data": {
      "text/plain": [
       "[52, 26, 49, 34, 21, 23, 42, 24, 25, 46]"
      ]
     },
     "execution_count": 42,
     "metadata": {},
     "output_type": "execute_result"
    }
   ],
   "source": [
    "data_copy2()"
   ]
  },
  {
   "cell_type": "code",
   "execution_count": 54,
   "id": "8bec8eb8",
   "metadata": {
    "ExecuteTime": {
     "end_time": "2023-09-17T04:34:23.401080Z",
     "start_time": "2023-09-17T04:34:23.391652Z"
    }
   },
   "outputs": [
    {
     "data": {
      "text/plain": [
       "52"
      ]
     },
     "execution_count": 54,
     "metadata": {},
     "output_type": "execute_result"
    }
   ],
   "source": [
    "import statistics\n",
    "statistics.mode(data_copy)"
   ]
  },
  {
   "cell_type": "code",
   "execution_count": 55,
   "id": "589fab5d",
   "metadata": {
    "ExecuteTime": {
     "end_time": "2023-09-17T04:34:24.140715Z",
     "start_time": "2023-09-17T04:34:24.133798Z"
    }
   },
   "outputs": [
    {
     "data": {
      "text/plain": [
       "[52, 26, 49, 34, 21, 23, 42, 24, 25, 46]"
      ]
     },
     "execution_count": 55,
     "metadata": {},
     "output_type": "execute_result"
    }
   ],
   "source": [
    "data_copy2()"
   ]
  },
  {
   "cell_type": "code",
   "execution_count": 56,
   "id": "c0906590",
   "metadata": {
    "ExecuteTime": {
     "end_time": "2023-09-17T04:34:25.139071Z",
     "start_time": "2023-09-17T04:34:25.125263Z"
    }
   },
   "outputs": [
    {
     "name": "stderr",
     "output_type": "stream",
     "text": [
      "C:\\Users\\Rishav\\AppData\\Local\\Temp\\ipykernel_21532\\3125682885.py:2: FutureWarning: Unlike other reduction functions (e.g. `skew`, `kurtosis`), the default behavior of `mode` typically preserves the axis it acts along. In SciPy 1.11.0, this behavior will change: the default value of `keepdims` will become False, the `axis` over which the statistic is taken will be eliminated, and the value None will no longer be accepted. Set `keepdims` to True or False to avoid this warning.\n",
      "  st.mode(data_copy2)\n",
      "C:\\Users\\Rishav\\AppData\\Local\\Temp\\ipykernel_21532\\3125682885.py:2: DeprecationWarning: Support for non-numeric arrays has been deprecated as of SciPy 1.9.0 and will be removed in 1.11.0. `pandas.DataFrame.mode` can be used instead, see https://pandas.pydata.org/docs/reference/api/pandas.DataFrame.mode.html.\n",
      "  st.mode(data_copy2)\n"
     ]
    },
    {
     "data": {
      "text/plain": [
       "ModeResult(mode=array([<built-in method copy of list object at 0x000002280E2D9440>],\n",
       "      dtype=object), count=array([1]))"
      ]
     },
     "execution_count": 56,
     "metadata": {},
     "output_type": "execute_result"
    }
   ],
   "source": [
    "from scipy import stats as st\n",
    "st.mode(data_copy2)"
   ]
  },
  {
   "cell_type": "code",
   "execution_count": 57,
   "id": "b9c5cfbc",
   "metadata": {
    "ExecuteTime": {
     "end_time": "2023-09-17T04:36:08.826406Z",
     "start_time": "2023-09-17T04:36:08.822925Z"
    }
   },
   "outputs": [
    {
     "name": "stdout",
     "output_type": "stream",
     "text": [
      "34.2\n"
     ]
    }
   ],
   "source": [
    "def cal_mean(data):\n",
    "    sum = 0\n",
    "    for i in data:\n",
    "        sum = sum+i\n",
    "    mean = sum/len(data)\n",
    "    return mean\n",
    "\n",
    "print(cal_mean(data_copy))"
   ]
  },
  {
   "cell_type": "code",
   "execution_count": 65,
   "id": "37bf1a04",
   "metadata": {
    "ExecuteTime": {
     "end_time": "2023-09-17T04:40:06.389259Z",
     "start_time": "2023-09-17T04:40:06.386085Z"
    }
   },
   "outputs": [
    {
     "data": {
      "text/plain": [
       "[52, 26, 49, 34, 21, 23, 42, 24, 25, 46]"
      ]
     },
     "execution_count": 65,
     "metadata": {},
     "output_type": "execute_result"
    }
   ],
   "source": [
    "data"
   ]
  },
  {
   "cell_type": "code",
   "execution_count": 64,
   "id": "213dadbb",
   "metadata": {
    "ExecuteTime": {
     "end_time": "2023-09-17T04:39:55.830878Z",
     "start_time": "2023-09-17T04:39:55.826698Z"
    }
   },
   "outputs": [
    {
     "data": {
      "text/plain": [
       "34.2"
      ]
     },
     "execution_count": 64,
     "metadata": {},
     "output_type": "execute_result"
    }
   ],
   "source": [
    "np.mean(data)"
   ]
  },
  {
   "cell_type": "code",
   "execution_count": 63,
   "id": "bf1e3443",
   "metadata": {
    "ExecuteTime": {
     "end_time": "2023-09-17T04:39:08.976250Z",
     "start_time": "2023-09-17T04:39:08.972720Z"
    }
   },
   "outputs": [
    {
     "data": {
      "text/plain": [
       "30.0"
      ]
     },
     "execution_count": 63,
     "metadata": {},
     "output_type": "execute_result"
    }
   ],
   "source": [
    "np.median(data)"
   ]
  },
  {
   "cell_type": "code",
   "execution_count": 59,
   "id": "c6323c40",
   "metadata": {
    "ExecuteTime": {
     "end_time": "2023-09-17T04:36:33.760981Z",
     "start_time": "2023-09-17T04:36:33.757598Z"
    }
   },
   "outputs": [
    {
     "data": {
      "text/plain": [
       "[52, 26, 49, 34, 21, 23, 42, 24, 25, 46]"
      ]
     },
     "execution_count": 59,
     "metadata": {},
     "output_type": "execute_result"
    }
   ],
   "source": [
    "data_copy"
   ]
  },
  {
   "cell_type": "code",
   "execution_count": 60,
   "id": "c3fc82e0",
   "metadata": {
    "ExecuteTime": {
     "end_time": "2023-09-17T04:37:27.493069Z",
     "start_time": "2023-09-17T04:37:27.490448Z"
    }
   },
   "outputs": [],
   "source": [
    "data_copy.append(200)"
   ]
  },
  {
   "cell_type": "code",
   "execution_count": 61,
   "id": "bb10ccca",
   "metadata": {
    "ExecuteTime": {
     "end_time": "2023-09-17T04:37:59.146883Z",
     "start_time": "2023-09-17T04:37:59.143039Z"
    }
   },
   "outputs": [
    {
     "data": {
      "text/plain": [
       "49.27272727272727"
      ]
     },
     "execution_count": 61,
     "metadata": {},
     "output_type": "execute_result"
    }
   ],
   "source": [
    "np.mean(data_copy)"
   ]
  },
  {
   "cell_type": "code",
   "execution_count": 62,
   "id": "3ad1b19a",
   "metadata": {
    "ExecuteTime": {
     "end_time": "2023-09-17T04:38:25.617912Z",
     "start_time": "2023-09-17T04:38:25.613356Z"
    }
   },
   "outputs": [
    {
     "data": {
      "text/plain": [
       "34.0"
      ]
     },
     "execution_count": 62,
     "metadata": {},
     "output_type": "execute_result"
    }
   ],
   "source": [
    "np.median(data_copy)"
   ]
  },
  {
   "cell_type": "code",
   "execution_count": 66,
   "id": "065dda78",
   "metadata": {
    "ExecuteTime": {
     "end_time": "2023-09-17T04:40:24.636570Z",
     "start_time": "2023-09-17T04:40:24.632945Z"
    }
   },
   "outputs": [
    {
     "data": {
      "text/plain": [
       "[52, 26, 49, 34, 21, 23, 42, 24, 25, 46, 200]"
      ]
     },
     "execution_count": 66,
     "metadata": {},
     "output_type": "execute_result"
    }
   ],
   "source": [
    "data_copy"
   ]
  },
  {
   "cell_type": "markdown",
   "id": "73bc889b",
   "metadata": {},
   "source": [
    "#### Outlier will affect mean or median"
   ]
  },
  {
   "cell_type": "code",
   "execution_count": 67,
   "id": "159583ba",
   "metadata": {
    "ExecuteTime": {
     "end_time": "2023-09-17T04:43:14.373523Z",
     "start_time": "2023-09-17T04:43:13.930918Z"
    }
   },
   "outputs": [
    {
     "data": {
      "text/plain": [
       "<Axes: ylabel='Count'>"
      ]
     },
     "execution_count": 67,
     "metadata": {},
     "output_type": "execute_result"
    },
    {
     "data": {
      "image/png": "[encoded data removed]",
      "text/plain": [
       "<Figure size 640x480 with 1 Axes>"
      ]
     },
     "metadata": {},
     "output_type": "display_data"
    }
   ],
   "source": [
    "import seaborn as sns\n",
    "sns.histplot(data, kde=True)"
   ]
  },
  {
   "cell_type": "code",
   "execution_count": 69,
   "id": "9911fb19",
   "metadata": {
    "ExecuteTime": {
     "end_time": "2023-09-17T04:43:40.718442Z",
     "start_time": "2023-09-17T04:43:40.608140Z"
    }
   },
   "outputs": [
    {
     "data": {
      "text/plain": [
       "<Axes: ylabel='Count'>"
      ]
     },
     "execution_count": 69,
     "metadata": {},
     "output_type": "execute_result"
    },
    {
     "data": {
      "image/png": "[encoded data removed]",
      "text/plain": [
       "<Figure size 640x480 with 1 Axes>"
      ]
     },
     "metadata": {},
     "output_type": "display_data"
    }
   ],
   "source": [
    "import seaborn as sns\n",
    "sns.histplot(data_copy, kde=True)"
   ]
  },
  {
   "cell_type": "code",
   "execution_count": 71,
   "id": "3c724281",
   "metadata": {
    "ExecuteTime": {
     "end_time": "2023-09-17T05:02:15.264424Z",
     "start_time": "2023-09-17T05:02:15.251233Z"
    }
   },
   "outputs": [
    {
     "data": {
      "text/plain": [
       "200"
      ]
     },
     "execution_count": 71,
     "metadata": {},
     "output_type": "execute_result"
    }
   ],
   "source": [
    "data_copy.pop()"
   ]
  },
  {
   "cell_type": "code",
   "execution_count": 72,
   "id": "e10688d8",
   "metadata": {
    "ExecuteTime": {
     "end_time": "2023-09-17T05:02:25.810353Z",
     "start_time": "2023-09-17T05:02:25.806251Z"
    }
   },
   "outputs": [
    {
     "data": {
      "text/plain": [
       "[52, 26, 49, 34, 21, 23, 42, 24, 25, 46]"
      ]
     },
     "execution_count": 72,
     "metadata": {},
     "output_type": "execute_result"
    }
   ],
   "source": [
    "data_copy"
   ]
  },
  {
   "cell_type": "code",
   "execution_count": 77,
   "id": "bd16d95b",
   "metadata": {
    "ExecuteTime": {
     "end_time": "2023-09-17T05:04:16.884418Z",
     "start_time": "2023-09-17T05:04:16.881495Z"
    }
   },
   "outputs": [],
   "source": [
    "data_copy.sort()"
   ]
  },
  {
   "cell_type": "code",
   "execution_count": 78,
   "id": "33e0cf1a",
   "metadata": {
    "ExecuteTime": {
     "end_time": "2023-09-17T05:04:33.781134Z",
     "start_time": "2023-09-17T05:04:33.776737Z"
    }
   },
   "outputs": [
    {
     "data": {
      "text/plain": [
       "[21, 23, 24, 25, 26, 34, 42, 46, 49, 52]"
      ]
     },
     "execution_count": 78,
     "metadata": {},
     "output_type": "execute_result"
    }
   ],
   "source": [
    "data_copy"
   ]
  },
  {
   "cell_type": "code",
   "execution_count": 79,
   "id": "8da1b379",
   "metadata": {
    "ExecuteTime": {
     "end_time": "2023-09-17T05:04:35.503446Z",
     "start_time": "2023-09-17T05:04:35.498115Z"
    }
   },
   "outputs": [
    {
     "data": {
      "text/plain": [
       "array([24.25])"
      ]
     },
     "execution_count": 79,
     "metadata": {},
     "output_type": "execute_result"
    }
   ],
   "source": [
    "np.percentile(data_copy, [25])"
   ]
  },
  {
   "cell_type": "code",
   "execution_count": 80,
   "id": "c81300d9",
   "metadata": {
    "ExecuteTime": {
     "end_time": "2023-09-17T05:04:35.834826Z",
     "start_time": "2023-09-17T05:04:35.831335Z"
    }
   },
   "outputs": [
    {
     "data": {
      "text/plain": [
       "array([30.])"
      ]
     },
     "execution_count": 80,
     "metadata": {},
     "output_type": "execute_result"
    }
   ],
   "source": [
    "np.percentile(data_copy, [50])"
   ]
  },
  {
   "cell_type": "code",
   "execution_count": 81,
   "id": "43fa9f39",
   "metadata": {
    "ExecuteTime": {
     "end_time": "2023-09-17T05:04:36.060454Z",
     "start_time": "2023-09-17T05:04:36.051287Z"
    }
   },
   "outputs": [
    {
     "data": {
      "text/plain": [
       "array([45.])"
      ]
     },
     "execution_count": 81,
     "metadata": {},
     "output_type": "execute_result"
    }
   ],
   "source": [
    "np.percentile(data_copy, [75])"
   ]
  },
  {
   "cell_type": "code",
   "execution_count": 82,
   "id": "6fcc1870",
   "metadata": {
    "ExecuteTime": {
     "end_time": "2023-09-17T05:04:36.284447Z",
     "start_time": "2023-09-17T05:04:36.280357Z"
    }
   },
   "outputs": [
    {
     "data": {
      "text/plain": [
       "array([52.])"
      ]
     },
     "execution_count": 82,
     "metadata": {},
     "output_type": "execute_result"
    }
   ],
   "source": [
    "np.percentile(data_copy, [100])"
   ]
  },
  {
   "cell_type": "code",
   "execution_count": 84,
   "id": "4db13f16",
   "metadata": {
    "ExecuteTime": {
     "end_time": "2023-09-17T05:06:31.887975Z",
     "start_time": "2023-09-17T05:06:31.884966Z"
    }
   },
   "outputs": [],
   "source": [
    "q1, q2, q3, q4 = np.percentile(data, [25, 50, 75, 100])"
   ]
  },
  {
   "cell_type": "code",
   "execution_count": 85,
   "id": "060f3da0",
   "metadata": {
    "ExecuteTime": {
     "end_time": "2023-09-17T05:06:38.511069Z",
     "start_time": "2023-09-17T05:06:38.507112Z"
    }
   },
   "outputs": [
    {
     "data": {
      "text/plain": [
       "30.0"
      ]
     },
     "execution_count": 85,
     "metadata": {},
     "output_type": "execute_result"
    }
   ],
   "source": [
    "q2"
   ]
  },
  {
   "cell_type": "markdown",
   "id": "b36ecf98",
   "metadata": {},
   "source": [
    "IQR = Inter quartile Range"
   ]
  },
  {
   "cell_type": "code",
   "execution_count": 86,
   "id": "31019bb1",
   "metadata": {
    "ExecuteTime": {
     "end_time": "2023-09-17T05:07:25.284904Z",
     "start_time": "2023-09-17T05:07:25.281769Z"
    }
   },
   "outputs": [],
   "source": [
    "IQR = q3-q1"
   ]
  },
  {
   "cell_type": "code",
   "execution_count": 87,
   "id": "e2ac08d6",
   "metadata": {
    "ExecuteTime": {
     "end_time": "2023-09-17T05:08:10.401810Z",
     "start_time": "2023-09-17T05:08:10.398905Z"
    }
   },
   "outputs": [],
   "source": [
    "lower_fence = q1 - (IQR*1.5)\n",
    "upper_fence = q3 - (IQR*1.5)"
   ]
  },
  {
   "cell_type": "code",
   "execution_count": 88,
   "id": "a9a7a85d",
   "metadata": {
    "ExecuteTime": {
     "end_time": "2023-09-17T05:08:18.561297Z",
     "start_time": "2023-09-17T05:08:18.557160Z"
    }
   },
   "outputs": [
    {
     "data": {
      "text/plain": [
       "[21, 23, 24, 25, 26, 34, 42, 46, 49, 52]"
      ]
     },
     "execution_count": 88,
     "metadata": {},
     "output_type": "execute_result"
    }
   ],
   "source": [
    "data_copy"
   ]
  },
  {
   "cell_type": "code",
   "execution_count": 89,
   "id": "8105cee3",
   "metadata": {
    "ExecuteTime": {
     "end_time": "2023-09-17T05:08:27.277308Z",
     "start_time": "2023-09-17T05:08:27.273668Z"
    }
   },
   "outputs": [
    {
     "data": {
      "text/plain": [
       "-6.875"
      ]
     },
     "execution_count": 89,
     "metadata": {},
     "output_type": "execute_result"
    }
   ],
   "source": [
    "lower_fence"
   ]
  },
  {
   "cell_type": "code",
   "execution_count": 90,
   "id": "7bd7890e",
   "metadata": {
    "ExecuteTime": {
     "end_time": "2023-09-17T05:08:32.539639Z",
     "start_time": "2023-09-17T05:08:32.533532Z"
    }
   },
   "outputs": [
    {
     "data": {
      "text/plain": [
       "13.875"
      ]
     },
     "execution_count": 90,
     "metadata": {},
     "output_type": "execute_result"
    }
   ],
   "source": [
    "upper_fence"
   ]
  },
  {
   "cell_type": "code",
   "execution_count": 92,
   "id": "33f5596c",
   "metadata": {
    "ExecuteTime": {
     "end_time": "2023-09-17T05:09:20.127288Z",
     "start_time": "2023-09-17T05:09:20.058868Z"
    }
   },
   "outputs": [
    {
     "data": {
      "text/plain": [
       "<Axes: >"
      ]
     },
     "execution_count": 92,
     "metadata": {},
     "output_type": "execute_result"
    },
    {
     "data": {
      "image/png": "[encoded data removed]",
      "text/plain": [
       "<Figure size 640x480 with 1 Axes>"
      ]
     },
     "metadata": {},
     "output_type": "display_data"
    }
   ],
   "source": [
    "sns.boxplot(data_copy)"
   ]
  },
  {
   "cell_type": "code",
   "execution_count": 93,
   "id": "7ec5183b",
   "metadata": {
    "ExecuteTime": {
     "end_time": "2023-09-17T05:10:07.436304Z",
     "start_time": "2023-09-17T05:10:07.433126Z"
    }
   },
   "outputs": [],
   "source": [
    "data_copy.append(79)"
   ]
  },
  {
   "cell_type": "code",
   "execution_count": 94,
   "id": "14b50c33",
   "metadata": {
    "ExecuteTime": {
     "end_time": "2023-09-17T05:10:14.811487Z",
     "start_time": "2023-09-17T05:10:14.741943Z"
    }
   },
   "outputs": [
    {
     "data": {
      "text/plain": [
       "<Axes: >"
      ]
     },
     "execution_count": 94,
     "metadata": {},
     "output_type": "execute_result"
    },
    {
     "data": {
      "image/png": "[encoded data removed]",
      "text/plain": [
       "<Figure size 640x480 with 1 Axes>"
      ]
     },
     "metadata": {},
     "output_type": "display_data"
    }
   ],
   "source": [
    "sns.boxplot(data_copy)"
   ]
  },
  {
   "cell_type": "code",
   "execution_count": 95,
   "id": "61fa355c",
   "metadata": {
    "ExecuteTime": {
     "end_time": "2023-09-17T05:10:46.892906Z",
     "start_time": "2023-09-17T05:10:46.889856Z"
    }
   },
   "outputs": [],
   "source": [
    "data_copy.append(99)"
   ]
  },
  {
   "cell_type": "code",
   "execution_count": 96,
   "id": "2a71ef27",
   "metadata": {
    "ExecuteTime": {
     "end_time": "2023-09-17T05:10:58.698533Z",
     "start_time": "2023-09-17T05:10:58.624231Z"
    }
   },
   "outputs": [
    {
     "data": {
      "text/plain": [
       "<Axes: >"
      ]
     },
     "execution_count": 96,
     "metadata": {},
     "output_type": "execute_result"
    },
    {
     "data": {
      "image/png": "[encoded data removed]",
      "text/plain": [
       "<Figure size 640x480 with 1 Axes>"
      ]
     },
     "metadata": {},
     "output_type": "display_data"
    }
   ],
   "source": [
    "sns.boxplot(data_copy)"
   ]
  },
  {
   "cell_type": "code",
   "execution_count": 97,
   "id": "a0d8a7c7",
   "metadata": {
    "ExecuteTime": {
     "end_time": "2023-09-17T05:11:30.708616Z",
     "start_time": "2023-09-17T05:11:30.704590Z"
    }
   },
   "outputs": [
    {
     "data": {
      "text/plain": [
       "[21, 23, 24, 25, 26, 34, 42, 46, 49, 52, 79, 99]"
      ]
     },
     "execution_count": 97,
     "metadata": {},
     "output_type": "execute_result"
    }
   ],
   "source": [
    "data_copy"
   ]
  },
  {
   "cell_type": "code",
   "execution_count": 98,
   "id": "72b4ddd7",
   "metadata": {
    "ExecuteTime": {
     "end_time": "2023-09-17T05:12:11.986501Z",
     "start_time": "2023-09-17T05:12:11.983332Z"
    }
   },
   "outputs": [],
   "source": [
    "data_copy[0] = -20"
   ]
  },
  {
   "cell_type": "code",
   "execution_count": 99,
   "id": "3f8e38c9",
   "metadata": {
    "ExecuteTime": {
     "end_time": "2023-09-17T05:12:20.862543Z",
     "start_time": "2023-09-17T05:12:20.858040Z"
    }
   },
   "outputs": [
    {
     "data": {
      "text/plain": [
       "[-20, 23, 24, 25, 26, 34, 42, 46, 49, 52, 79, 99]"
      ]
     },
     "execution_count": 99,
     "metadata": {},
     "output_type": "execute_result"
    }
   ],
   "source": [
    "data_copy"
   ]
  },
  {
   "cell_type": "code",
   "execution_count": 100,
   "id": "1b2cc403",
   "metadata": {
    "ExecuteTime": {
     "end_time": "2023-09-17T05:12:32.135627Z",
     "start_time": "2023-09-17T05:12:32.067874Z"
    }
   },
   "outputs": [
    {
     "data": {
      "text/plain": [
       "<Axes: >"
      ]
     },
     "execution_count": 100,
     "metadata": {},
     "output_type": "execute_result"
    },
    {
     "data": {
      "image/png": "[encoded data removed]",
      "text/plain": [
       "<Figure size 640x480 with 1 Axes>"
      ]
     },
     "metadata": {},
     "output_type": "display_data"
    }
   ],
   "source": [
    "sns.boxplot(data_copy)"
   ]
  },
  {
   "cell_type": "code",
   "execution_count": 101,
   "id": "4c587288",
   "metadata": {
    "ExecuteTime": {
     "end_time": "2023-09-17T05:13:15.580872Z",
     "start_time": "2023-09-17T05:13:15.578424Z"
    }
   },
   "outputs": [],
   "source": [
    "data_copy.insert(0, -27)"
   ]
  },
  {
   "cell_type": "code",
   "execution_count": 102,
   "id": "6633bbdc",
   "metadata": {
    "ExecuteTime": {
     "end_time": "2023-09-17T05:13:25.243362Z",
     "start_time": "2023-09-17T05:13:25.239952Z"
    }
   },
   "outputs": [
    {
     "data": {
      "text/plain": [
       "[-27, -20, 23, 24, 25, 26, 34, 42, 46, 49, 52, 79, 99]"
      ]
     },
     "execution_count": 102,
     "metadata": {},
     "output_type": "execute_result"
    }
   ],
   "source": [
    "data_copy"
   ]
  },
  {
   "cell_type": "code",
   "execution_count": 103,
   "id": "f9d8ec3d",
   "metadata": {
    "ExecuteTime": {
     "end_time": "2023-09-17T05:13:40.067326Z",
     "start_time": "2023-09-17T05:13:39.998782Z"
    }
   },
   "outputs": [
    {
     "data": {
      "text/plain": [
       "<Axes: >"
      ]
     },
     "execution_count": 103,
     "metadata": {},
     "output_type": "execute_result"
    },
    {
     "data": {
      "image/png": "[encoded data removed]",
      "text/plain": [
       "<Figure size 640x480 with 1 Axes>"
      ]
     },
     "metadata": {},
     "output_type": "display_data"
    }
   ],
   "source": [
    "sns.boxplot(data_copy)"
   ]
  },
  {
   "cell_type": "markdown",
   "id": "208c131d",
   "metadata": {},
   "source": [
    "Sampling techniques <br>\n",
    "atleast 5 sampling techniques in python <br>\n",
    "on github <br>"
   ]
  },
  {
   "cell_type": "code",
   "execution_count": 105,
   "id": "afa0ffb2",
   "metadata": {
    "ExecuteTime": {
     "end_time": "2023-09-17T05:36:59.077067Z",
     "start_time": "2023-09-17T05:36:59.073497Z"
    }
   },
   "outputs": [
    {
     "data": {
      "text/plain": [
       "[52, 26, 49, 34, 21, 23, 42, 24, 25, 46]"
      ]
     },
     "execution_count": 105,
     "metadata": {},
     "output_type": "execute_result"
    }
   ],
   "source": [
    "data"
   ]
  },
  {
   "cell_type": "code",
   "execution_count": 107,
   "id": "d82aab6b",
   "metadata": {
    "ExecuteTime": {
     "end_time": "2023-09-17T05:37:36.794495Z",
     "start_time": "2023-09-17T05:37:36.791787Z"
    }
   },
   "outputs": [],
   "source": [
    "data_copy = data.copy()"
   ]
  },
  {
   "cell_type": "code",
   "execution_count": 108,
   "id": "47a43a90",
   "metadata": {
    "ExecuteTime": {
     "end_time": "2023-09-17T05:37:45.759198Z",
     "start_time": "2023-09-17T05:37:45.754147Z"
    }
   },
   "outputs": [
    {
     "data": {
      "text/plain": [
       "[52, 26, 49, 34, 21, 23, 42, 24, 25, 46]"
      ]
     },
     "execution_count": 108,
     "metadata": {},
     "output_type": "execute_result"
    }
   ],
   "source": [
    "data_copy"
   ]
  },
  {
   "cell_type": "code",
   "execution_count": 109,
   "id": "0c32d27e",
   "metadata": {
    "ExecuteTime": {
     "end_time": "2023-09-17T05:37:56.967489Z",
     "start_time": "2023-09-17T05:37:56.963075Z"
    }
   },
   "outputs": [
    {
     "data": {
      "text/plain": [
       "129.16000000000003"
      ]
     },
     "execution_count": 109,
     "metadata": {},
     "output_type": "execute_result"
    }
   ],
   "source": [
    "np.var(data_copy)"
   ]
  },
  {
   "cell_type": "code",
   "execution_count": 110,
   "id": "09f460de",
   "metadata": {
    "ExecuteTime": {
     "end_time": "2023-09-17T05:38:11.792094Z",
     "start_time": "2023-09-17T05:38:11.788309Z"
    }
   },
   "outputs": [
    {
     "data": {
      "text/plain": [
       "11.364858116140299"
      ]
     },
     "execution_count": 110,
     "metadata": {},
     "output_type": "execute_result"
    }
   ],
   "source": [
    "np.std(data_copy)"
   ]
  },
  {
   "cell_type": "code",
   "execution_count": 111,
   "id": "f2f34e12",
   "metadata": {
    "ExecuteTime": {
     "end_time": "2023-09-17T05:38:26.027686Z",
     "start_time": "2023-09-17T05:38:26.023835Z"
    }
   },
   "outputs": [
    {
     "data": {
      "text/plain": [
       "143.51111111111112"
      ]
     },
     "execution_count": 111,
     "metadata": {},
     "output_type": "execute_result"
    }
   ],
   "source": [
    "statistics.variance(data_copy) # basils correction or degree of freedom"
   ]
  },
  {
   "cell_type": "code",
   "execution_count": 112,
   "id": "558fc537",
   "metadata": {
    "ExecuteTime": {
     "end_time": "2023-09-17T05:39:54.903383Z",
     "start_time": "2023-09-17T05:39:54.899302Z"
    }
   },
   "outputs": [
    {
     "data": {
      "text/plain": [
       "129.16"
      ]
     },
     "execution_count": 112,
     "metadata": {},
     "output_type": "execute_result"
    }
   ],
   "source": [
    "statistics.pvariance(data_copy)"
   ]
  },
  {
   "cell_type": "code",
   "execution_count": 115,
   "id": "b8c5c783",
   "metadata": {
    "ExecuteTime": {
     "end_time": "2023-09-17T05:49:41.578785Z",
     "start_time": "2023-09-17T05:49:41.573595Z"
    }
   },
   "outputs": [
    {
     "data": {
      "text/plain": [
       "129.16"
      ]
     },
     "execution_count": 115,
     "metadata": {},
     "output_type": "execute_result"
    }
   ],
   "source": [
    "def cal_variance(data):\n",
    "    #mean of data\n",
    "    n = len(data)\n",
    "    mean = sum(data)/n\n",
    "    \n",
    "    #calculate deviation\n",
    "    deviation = [(x-mean)**2 for x in data]\n",
    "    \n",
    "    # calculate the varance\n",
    "    variance = sum(deviation)/n\n",
    "    return variance\n",
    "\n",
    "    #write code for the std\n",
    "    #write code for mad\n",
    "    # separate the code based on population & sample data \n",
    "\n",
    "cal_variance(data_copy)"
   ]
  },
  {
   "cell_type": "code",
   "execution_count": 116,
   "id": "7ec24ade",
   "metadata": {
    "ExecuteTime": {
     "end_time": "2023-09-17T05:50:00.040658Z",
     "start_time": "2023-09-17T05:50:00.036931Z"
    }
   },
   "outputs": [
    {
     "data": {
      "text/plain": [
       "129.16000000000003"
      ]
     },
     "execution_count": 116,
     "metadata": {},
     "output_type": "execute_result"
    }
   ],
   "source": [
    "np.var(data_copy)"
   ]
  },
  {
   "cell_type": "code",
   "execution_count": 117,
   "id": "f32610ab",
   "metadata": {
    "ExecuteTime": {
     "end_time": "2023-09-17T05:52:47.694411Z",
     "start_time": "2023-09-17T05:52:47.690490Z"
    }
   },
   "outputs": [
    {
     "data": {
      "text/plain": [
       "143.51111111111112"
      ]
     },
     "execution_count": 117,
     "metadata": {},
     "output_type": "execute_result"
    }
   ],
   "source": [
    "statistics.variance(data_copy)"
   ]
  },
  {
   "cell_type": "code",
   "execution_count": 118,
   "id": "001e52a1",
   "metadata": {
    "ExecuteTime": {
     "end_time": "2023-09-17T05:53:06.651491Z",
     "start_time": "2023-09-17T05:53:06.643664Z"
    }
   },
   "outputs": [
    {
     "data": {
      "text/html": [
       "<div>\n",
       "<style scoped>\n",
       "    .dataframe tbody tr th:only-of-type {\n",
       "        vertical-align: middle;\n",
       "    }\n",
       "\n",
       "    .dataframe tbody tr th {\n",
       "        vertical-align: top;\n",
       "    }\n",
       "\n",
       "    .dataframe thead th {\n",
       "        text-align: right;\n",
       "    }\n",
       "</style>\n",
       "<table border=\"1\" class=\"dataframe\">\n",
       "  <thead>\n",
       "    <tr style=\"text-align: right;\">\n",
       "      <th></th>\n",
       "      <th>sepal_length</th>\n",
       "      <th>sepal_width</th>\n",
       "      <th>petal_length</th>\n",
       "      <th>petal_width</th>\n",
       "      <th>species</th>\n",
       "    </tr>\n",
       "  </thead>\n",
       "  <tbody>\n",
       "    <tr>\n",
       "      <th>0</th>\n",
       "      <td>5.1</td>\n",
       "      <td>3.5</td>\n",
       "      <td>1.4</td>\n",
       "      <td>0.2</td>\n",
       "      <td>setosa</td>\n",
       "    </tr>\n",
       "    <tr>\n",
       "      <th>1</th>\n",
       "      <td>4.9</td>\n",
       "      <td>3.0</td>\n",
       "      <td>1.4</td>\n",
       "      <td>0.2</td>\n",
       "      <td>setosa</td>\n",
       "    </tr>\n",
       "    <tr>\n",
       "      <th>2</th>\n",
       "      <td>4.7</td>\n",
       "      <td>3.2</td>\n",
       "      <td>1.3</td>\n",
       "      <td>0.2</td>\n",
       "      <td>setosa</td>\n",
       "    </tr>\n",
       "    <tr>\n",
       "      <th>3</th>\n",
       "      <td>4.6</td>\n",
       "      <td>3.1</td>\n",
       "      <td>1.5</td>\n",
       "      <td>0.2</td>\n",
       "      <td>setosa</td>\n",
       "    </tr>\n",
       "    <tr>\n",
       "      <th>4</th>\n",
       "      <td>5.0</td>\n",
       "      <td>3.6</td>\n",
       "      <td>1.4</td>\n",
       "      <td>0.2</td>\n",
       "      <td>setosa</td>\n",
       "    </tr>\n",
       "  </tbody>\n",
       "</table>\n",
       "</div>"
      ],
      "text/plain": [
       "   sepal_length  sepal_width  petal_length  petal_width species\n",
       "0           5.1          3.5           1.4          0.2  setosa\n",
       "1           4.9          3.0           1.4          0.2  setosa\n",
       "2           4.7          3.2           1.3          0.2  setosa\n",
       "3           4.6          3.1           1.5          0.2  setosa\n",
       "4           5.0          3.6           1.4          0.2  setosa"
      ]
     },
     "execution_count": 118,
     "metadata": {},
     "output_type": "execute_result"
    }
   ],
   "source": [
    "data2.head()"
   ]
  },
  {
   "cell_type": "code",
   "execution_count": 119,
   "id": "7a2e9954",
   "metadata": {
    "ExecuteTime": {
     "end_time": "2023-09-17T05:54:48.786401Z",
     "start_time": "2023-09-17T05:54:48.782300Z"
    }
   },
   "outputs": [],
   "source": [
    "data2.drop([\"species\"], axis=1, inplace = True)"
   ]
  },
  {
   "cell_type": "code",
   "execution_count": 121,
   "id": "ab508950",
   "metadata": {
    "ExecuteTime": {
     "end_time": "2023-09-17T05:55:04.453801Z",
     "start_time": "2023-09-17T05:55:04.447217Z"
    }
   },
   "outputs": [
    {
     "data": {
      "text/html": [
       "<div>\n",
       "<style scoped>\n",
       "    .dataframe tbody tr th:only-of-type {\n",
       "        vertical-align: middle;\n",
       "    }\n",
       "\n",
       "    .dataframe tbody tr th {\n",
       "        vertical-align: top;\n",
       "    }\n",
       "\n",
       "    .dataframe thead th {\n",
       "        text-align: right;\n",
       "    }\n",
       "</style>\n",
       "<table border=\"1\" class=\"dataframe\">\n",
       "  <thead>\n",
       "    <tr style=\"text-align: right;\">\n",
       "      <th></th>\n",
       "      <th>sepal_length</th>\n",
       "      <th>sepal_width</th>\n",
       "      <th>petal_length</th>\n",
       "      <th>petal_width</th>\n",
       "    </tr>\n",
       "  </thead>\n",
       "  <tbody>\n",
       "    <tr>\n",
       "      <th>0</th>\n",
       "      <td>5.1</td>\n",
       "      <td>3.5</td>\n",
       "      <td>1.4</td>\n",
       "      <td>0.2</td>\n",
       "    </tr>\n",
       "    <tr>\n",
       "      <th>1</th>\n",
       "      <td>4.9</td>\n",
       "      <td>3.0</td>\n",
       "      <td>1.4</td>\n",
       "      <td>0.2</td>\n",
       "    </tr>\n",
       "    <tr>\n",
       "      <th>2</th>\n",
       "      <td>4.7</td>\n",
       "      <td>3.2</td>\n",
       "      <td>1.3</td>\n",
       "      <td>0.2</td>\n",
       "    </tr>\n",
       "    <tr>\n",
       "      <th>3</th>\n",
       "      <td>4.6</td>\n",
       "      <td>3.1</td>\n",
       "      <td>1.5</td>\n",
       "      <td>0.2</td>\n",
       "    </tr>\n",
       "    <tr>\n",
       "      <th>4</th>\n",
       "      <td>5.0</td>\n",
       "      <td>3.6</td>\n",
       "      <td>1.4</td>\n",
       "      <td>0.2</td>\n",
       "    </tr>\n",
       "  </tbody>\n",
       "</table>\n",
       "</div>"
      ],
      "text/plain": [
       "   sepal_length  sepal_width  petal_length  petal_width\n",
       "0           5.1          3.5           1.4          0.2\n",
       "1           4.9          3.0           1.4          0.2\n",
       "2           4.7          3.2           1.3          0.2\n",
       "3           4.6          3.1           1.5          0.2\n",
       "4           5.0          3.6           1.4          0.2"
      ]
     },
     "execution_count": 121,
     "metadata": {},
     "output_type": "execute_result"
    }
   ],
   "source": [
    "data2.head()"
   ]
  },
  {
   "cell_type": "code",
   "execution_count": 120,
   "id": "3019f1e9",
   "metadata": {
    "ExecuteTime": {
     "end_time": "2023-09-17T05:54:49.324824Z",
     "start_time": "2023-09-17T05:54:49.305827Z"
    }
   },
   "outputs": [
    {
     "data": {
      "text/plain": [
       "array([[4.75      , 4.42166667, 4.35333333, ..., 2.915     , 2.475     ,\n",
       "        2.6       ],\n",
       "       [4.42166667, 4.14916667, 4.055     , ..., 2.95583333, 2.50416667,\n",
       "        2.62833333],\n",
       "       [4.35333333, 4.055     , 3.99      , ..., 2.68833333, 2.28166667,\n",
       "        2.39666667],\n",
       "       ...,\n",
       "       [2.915     , 2.95583333, 2.68833333, ..., 4.18916667, 3.65083333,\n",
       "        3.835     ],\n",
       "       [2.475     , 2.50416667, 2.28166667, ..., 3.65083333, 3.20916667,\n",
       "        3.375     ],\n",
       "       [2.6       , 2.62833333, 2.39666667, ..., 3.835     , 3.375     ,\n",
       "        3.55      ]])"
      ]
     },
     "execution_count": 120,
     "metadata": {},
     "output_type": "execute_result"
    }
   ],
   "source": [
    "np.cov(data2)"
   ]
  },
  {
   "cell_type": "code",
   "execution_count": 122,
   "id": "a8c26148",
   "metadata": {
    "ExecuteTime": {
     "end_time": "2023-09-17T05:55:40.890671Z",
     "start_time": "2023-09-17T05:55:40.881033Z"
    }
   },
   "outputs": [
    {
     "data": {
      "text/plain": [
       "array([[ 0.68569351, -0.03926846,  1.27368233,  0.5169038 ],\n",
       "       [-0.03926846,  0.18800403, -0.32171275, -0.11798121],\n",
       "       [ 1.27368233, -0.32171275,  3.11317942,  1.29638747],\n",
       "       [ 0.5169038 , -0.11798121,  1.29638747,  0.58241432]])"
      ]
     },
     "execution_count": 122,
     "metadata": {},
     "output_type": "execute_result"
    }
   ],
   "source": [
    "np.cov(data2.T)"
   ]
  },
  {
   "cell_type": "code",
   "execution_count": 123,
   "id": "4b313efa",
   "metadata": {
    "ExecuteTime": {
     "end_time": "2023-09-17T05:56:40.698900Z",
     "start_time": "2023-09-17T05:56:40.692432Z"
    }
   },
   "outputs": [
    {
     "data": {
      "text/html": [
       "<div>\n",
       "<style scoped>\n",
       "    .dataframe tbody tr th:only-of-type {\n",
       "        vertical-align: middle;\n",
       "    }\n",
       "\n",
       "    .dataframe tbody tr th {\n",
       "        vertical-align: top;\n",
       "    }\n",
       "\n",
       "    .dataframe thead th {\n",
       "        text-align: right;\n",
       "    }\n",
       "</style>\n",
       "<table border=\"1\" class=\"dataframe\">\n",
       "  <thead>\n",
       "    <tr style=\"text-align: right;\">\n",
       "      <th></th>\n",
       "      <th>sepal_length</th>\n",
       "      <th>sepal_width</th>\n",
       "      <th>petal_length</th>\n",
       "      <th>petal_width</th>\n",
       "    </tr>\n",
       "  </thead>\n",
       "  <tbody>\n",
       "    <tr>\n",
       "      <th>sepal_length</th>\n",
       "      <td>0.685694</td>\n",
       "      <td>-0.039268</td>\n",
       "      <td>1.273682</td>\n",
       "      <td>0.516904</td>\n",
       "    </tr>\n",
       "    <tr>\n",
       "      <th>sepal_width</th>\n",
       "      <td>-0.039268</td>\n",
       "      <td>0.188004</td>\n",
       "      <td>-0.321713</td>\n",
       "      <td>-0.117981</td>\n",
       "    </tr>\n",
       "    <tr>\n",
       "      <th>petal_length</th>\n",
       "      <td>1.273682</td>\n",
       "      <td>-0.321713</td>\n",
       "      <td>3.113179</td>\n",
       "      <td>1.296387</td>\n",
       "    </tr>\n",
       "    <tr>\n",
       "      <th>petal_width</th>\n",
       "      <td>0.516904</td>\n",
       "      <td>-0.117981</td>\n",
       "      <td>1.296387</td>\n",
       "      <td>0.582414</td>\n",
       "    </tr>\n",
       "  </tbody>\n",
       "</table>\n",
       "</div>"
      ],
      "text/plain": [
       "              sepal_length  sepal_width  petal_length  petal_width\n",
       "sepal_length      0.685694    -0.039268      1.273682     0.516904\n",
       "sepal_width      -0.039268     0.188004     -0.321713    -0.117981\n",
       "petal_length      1.273682    -0.321713      3.113179     1.296387\n",
       "petal_width       0.516904    -0.117981      1.296387     0.582414"
      ]
     },
     "execution_count": 123,
     "metadata": {},
     "output_type": "execute_result"
    }
   ],
   "source": [
    "data2.cov()"
   ]
  },
  {
   "cell_type": "code",
   "execution_count": 124,
   "id": "04278ae7",
   "metadata": {
    "ExecuteTime": {
     "end_time": "2023-09-17T05:56:58.706602Z",
     "start_time": "2023-09-17T05:56:58.698433Z"
    }
   },
   "outputs": [
    {
     "data": {
      "text/html": [
       "<div>\n",
       "<style scoped>\n",
       "    .dataframe tbody tr th:only-of-type {\n",
       "        vertical-align: middle;\n",
       "    }\n",
       "\n",
       "    .dataframe tbody tr th {\n",
       "        vertical-align: top;\n",
       "    }\n",
       "\n",
       "    .dataframe thead th {\n",
       "        text-align: right;\n",
       "    }\n",
       "</style>\n",
       "<table border=\"1\" class=\"dataframe\">\n",
       "  <thead>\n",
       "    <tr style=\"text-align: right;\">\n",
       "      <th></th>\n",
       "      <th>sepal_length</th>\n",
       "      <th>sepal_width</th>\n",
       "      <th>petal_length</th>\n",
       "      <th>petal_width</th>\n",
       "    </tr>\n",
       "  </thead>\n",
       "  <tbody>\n",
       "    <tr>\n",
       "      <th>sepal_length</th>\n",
       "      <td>1.000000</td>\n",
       "      <td>-0.109369</td>\n",
       "      <td>0.871754</td>\n",
       "      <td>0.817954</td>\n",
       "    </tr>\n",
       "    <tr>\n",
       "      <th>sepal_width</th>\n",
       "      <td>-0.109369</td>\n",
       "      <td>1.000000</td>\n",
       "      <td>-0.420516</td>\n",
       "      <td>-0.356544</td>\n",
       "    </tr>\n",
       "    <tr>\n",
       "      <th>petal_length</th>\n",
       "      <td>0.871754</td>\n",
       "      <td>-0.420516</td>\n",
       "      <td>1.000000</td>\n",
       "      <td>0.962757</td>\n",
       "    </tr>\n",
       "    <tr>\n",
       "      <th>petal_width</th>\n",
       "      <td>0.817954</td>\n",
       "      <td>-0.356544</td>\n",
       "      <td>0.962757</td>\n",
       "      <td>1.000000</td>\n",
       "    </tr>\n",
       "  </tbody>\n",
       "</table>\n",
       "</div>"
      ],
      "text/plain": [
       "              sepal_length  sepal_width  petal_length  petal_width\n",
       "sepal_length      1.000000    -0.109369      0.871754     0.817954\n",
       "sepal_width      -0.109369     1.000000     -0.420516    -0.356544\n",
       "petal_length      0.871754    -0.420516      1.000000     0.962757\n",
       "petal_width       0.817954    -0.356544      0.962757     1.000000"
      ]
     },
     "execution_count": 124,
     "metadata": {},
     "output_type": "execute_result"
    }
   ],
   "source": [
    "data2.corr()"
   ]
  },
  {
   "cell_type": "code",
   "execution_count": 125,
   "id": "79f291bd",
   "metadata": {
    "ExecuteTime": {
     "end_time": "2023-09-17T06:01:49.245297Z",
     "start_time": "2023-09-17T06:01:49.131544Z"
    }
   },
   "outputs": [
    {
     "data": {
      "text/plain": [
       "<Axes: xlabel='petal_width', ylabel='petal_length'>"
      ]
     },
     "execution_count": 125,
     "metadata": {},
     "output_type": "execute_result"
    },
    {
     "data": {
      "image/png": "[encoded data removed]",
      "text/plain": [
       "<Figure size 640x480 with 1 Axes>"
      ]
     },
     "metadata": {},
     "output_type": "display_data"
    }
   ],
   "source": [
    "sns.scatterplot(x=data2[\"petal_width\"], y=data2[\"petal_length\"] )"
   ]
  },
  {
   "cell_type": "code",
   "execution_count": 126,
   "id": "f614a611",
   "metadata": {
    "ExecuteTime": {
     "end_time": "2023-09-17T06:03:30.782455Z",
     "start_time": "2023-09-17T06:03:30.673255Z"
    }
   },
   "outputs": [
    {
     "data": {
      "text/plain": [
       "<Axes: xlabel='sepal_width', ylabel='sepal_length'>"
      ]
     },
     "execution_count": 126,
     "metadata": {},
     "output_type": "execute_result"
    },
    {
     "data": {
      "image/png": "[encoded data removed]",
      "text/plain": [
       "<Figure size 640x480 with 1 Axes>"
      ]
     },
     "metadata": {},
     "output_type": "display_data"
    }
   ],
   "source": [
    "sns.scatterplot(x=data2[\"sepal_width\"], y=data2[\"sepal_length\"] )"
   ]
  },
  {
   "cell_type": "code",
   "execution_count": null,
   "id": "0c03c0fa",
   "metadata": {},
   "outputs": [],
   "source": []
  }
 ],
 "metadata": {
  "kernelspec": {
   "display_name": "Python 3 (ipykernel)",
   "language": "python",
   "name": "python3"
  },
  "language_info": {
   "codemirror_mode": {
    "name": "ipython",
    "version": 3
   },
   "file_extension": ".py",
   "mimetype": "text/x-python",
   "name": "python",
   "nbconvert_exporter": "python",
   "pygments_lexer": "ipython3",
   "version": "3.11.3"
  },
  "varInspector": {
   "cols": {
    "lenName": 16,
    "lenType": 16,
    "lenVar": 40
   },
   "kernels_config": {
    "python": {
     "delete_cmd_postfix": "",
     "delete_cmd_prefix": "del ",
     "library": "var_list.py",
     "varRefreshCmd": "print(var_dic_list())"
    },
    "r": {
     "delete_cmd_postfix": ") ",
     "delete_cmd_prefix": "rm(",
     "library": "var_list.r",
     "varRefreshCmd": "cat(var_dic_list()) "
    }
   },
   "types_to_exclude": [
    "module",
    "function",
    "builtin_function_or_method",
    "instance",
    "_Feature"
   ],
   "window_display": false
  }
 },
 "nbformat": 4,
 "nbformat_minor": 5
}
