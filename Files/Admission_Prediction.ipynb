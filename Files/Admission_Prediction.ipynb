{
 "cells": [
  {
   "cell_type": "code",
   "execution_count": 1,
   "metadata": {
    "_cell_guid": "b1076dfc-b9ad-4769-8c92-a6c4dae69d19",
    "_uuid": "8f2839f25d086af736a60e9eeb907d3b93b6e0e5",
    "execution": {
     "iopub.execute_input": "2024-02-04T04:10:28.240716Z",
     "iopub.status.busy": "2024-02-04T04:10:28.240178Z",
     "iopub.status.idle": "2024-02-04T04:10:28.280189Z",
     "shell.execute_reply": "2024-02-04T04:10:28.279140Z",
     "shell.execute_reply.started": "2024-02-04T04:10:28.240603Z"
    }
   },
   "outputs": [
    {
     "name": "stdout",
     "output_type": "stream",
     "text": [
      "/kaggle/input/graduate-admissions/Admission_Predict.csv\n",
      "/kaggle/input/graduate-admissions/Admission_Predict_Ver1.1.csv\n"
     ]
    }
   ],
   "source": [
    "# This Python 3 environment comes with many helpful analytics libraries installed\n",
    "# It is defined by the kaggle/python Docker image: https://github.com/kaggle/docker-python\n",
    "# For example, here's several helpful packages to load\n",
    "\n",
    "import numpy as np # linear algebra\n",
    "import pandas as pd # data processing, CSV file I/O (e.g. pd.read_csv)\n",
    "\n",
    "# Input data files are available in the read-only \"../input/\" directory\n",
    "# For example, running this (by clicking run or pressing Shift+Enter) will list all files under the input directory\n",
    "\n",
    "import os\n",
    "for dirname, _, filenames in os.walk('/kaggle/input'):\n",
    "    for filename in filenames:\n",
    "        print(os.path.join(dirname, filename))\n",
    "\n",
    "# You can write up to 20GB to the current directory (/kaggle/working/) that gets preserved as output when you create a version using \"Save & Run All\" \n",
    "# You can also write temporary files to /kaggle/temp/, but they won't be saved outside of the current session"
   ]
  },
  {
   "cell_type": "code",
   "execution_count": 2,
   "metadata": {
    "execution": {
     "iopub.execute_input": "2024-02-04T04:10:35.767532Z",
     "iopub.status.busy": "2024-02-04T04:10:35.767235Z",
     "iopub.status.idle": "2024-02-04T04:10:35.817916Z",
     "shell.execute_reply": "2024-02-04T04:10:35.816758Z",
     "shell.execute_reply.started": "2024-02-04T04:10:35.767502Z"
    }
   },
   "outputs": [
    {
     "data": {
      "text/html": [
       "<div>\n",
       "<style scoped>\n",
       "    .dataframe tbody tr th:only-of-type {\n",
       "        vertical-align: middle;\n",
       "    }\n",
       "\n",
       "    .dataframe tbody tr th {\n",
       "        vertical-align: top;\n",
       "    }\n",
       "\n",
       "    .dataframe thead th {\n",
       "        text-align: right;\n",
       "    }\n",
       "</style>\n",
       "<table border=\"1\" class=\"dataframe\">\n",
       "  <thead>\n",
       "    <tr style=\"text-align: right;\">\n",
       "      <th></th>\n",
       "      <th>Serial No.</th>\n",
       "      <th>GRE Score</th>\n",
       "      <th>TOEFL Score</th>\n",
       "      <th>University Rating</th>\n",
       "      <th>SOP</th>\n",
       "      <th>LOR</th>\n",
       "      <th>CGPA</th>\n",
       "      <th>Research</th>\n",
       "      <th>Chance of Admit</th>\n",
       "    </tr>\n",
       "  </thead>\n",
       "  <tbody>\n",
       "    <tr>\n",
       "      <th>0</th>\n",
       "      <td>1</td>\n",
       "      <td>337</td>\n",
       "      <td>118</td>\n",
       "      <td>4</td>\n",
       "      <td>4.5</td>\n",
       "      <td>4.5</td>\n",
       "      <td>9.65</td>\n",
       "      <td>1</td>\n",
       "      <td>0.92</td>\n",
       "    </tr>\n",
       "    <tr>\n",
       "      <th>1</th>\n",
       "      <td>2</td>\n",
       "      <td>324</td>\n",
       "      <td>107</td>\n",
       "      <td>4</td>\n",
       "      <td>4.0</td>\n",
       "      <td>4.5</td>\n",
       "      <td>8.87</td>\n",
       "      <td>1</td>\n",
       "      <td>0.76</td>\n",
       "    </tr>\n",
       "    <tr>\n",
       "      <th>2</th>\n",
       "      <td>3</td>\n",
       "      <td>316</td>\n",
       "      <td>104</td>\n",
       "      <td>3</td>\n",
       "      <td>3.0</td>\n",
       "      <td>3.5</td>\n",
       "      <td>8.00</td>\n",
       "      <td>1</td>\n",
       "      <td>0.72</td>\n",
       "    </tr>\n",
       "    <tr>\n",
       "      <th>3</th>\n",
       "      <td>4</td>\n",
       "      <td>322</td>\n",
       "      <td>110</td>\n",
       "      <td>3</td>\n",
       "      <td>3.5</td>\n",
       "      <td>2.5</td>\n",
       "      <td>8.67</td>\n",
       "      <td>1</td>\n",
       "      <td>0.80</td>\n",
       "    </tr>\n",
       "    <tr>\n",
       "      <th>4</th>\n",
       "      <td>5</td>\n",
       "      <td>314</td>\n",
       "      <td>103</td>\n",
       "      <td>2</td>\n",
       "      <td>2.0</td>\n",
       "      <td>3.0</td>\n",
       "      <td>8.21</td>\n",
       "      <td>0</td>\n",
       "      <td>0.65</td>\n",
       "    </tr>\n",
       "    <tr>\n",
       "      <th>...</th>\n",
       "      <td>...</td>\n",
       "      <td>...</td>\n",
       "      <td>...</td>\n",
       "      <td>...</td>\n",
       "      <td>...</td>\n",
       "      <td>...</td>\n",
       "      <td>...</td>\n",
       "      <td>...</td>\n",
       "      <td>...</td>\n",
       "    </tr>\n",
       "    <tr>\n",
       "      <th>495</th>\n",
       "      <td>496</td>\n",
       "      <td>332</td>\n",
       "      <td>108</td>\n",
       "      <td>5</td>\n",
       "      <td>4.5</td>\n",
       "      <td>4.0</td>\n",
       "      <td>9.02</td>\n",
       "      <td>1</td>\n",
       "      <td>0.87</td>\n",
       "    </tr>\n",
       "    <tr>\n",
       "      <th>496</th>\n",
       "      <td>497</td>\n",
       "      <td>337</td>\n",
       "      <td>117</td>\n",
       "      <td>5</td>\n",
       "      <td>5.0</td>\n",
       "      <td>5.0</td>\n",
       "      <td>9.87</td>\n",
       "      <td>1</td>\n",
       "      <td>0.96</td>\n",
       "    </tr>\n",
       "    <tr>\n",
       "      <th>497</th>\n",
       "      <td>498</td>\n",
       "      <td>330</td>\n",
       "      <td>120</td>\n",
       "      <td>5</td>\n",
       "      <td>4.5</td>\n",
       "      <td>5.0</td>\n",
       "      <td>9.56</td>\n",
       "      <td>1</td>\n",
       "      <td>0.93</td>\n",
       "    </tr>\n",
       "    <tr>\n",
       "      <th>498</th>\n",
       "      <td>499</td>\n",
       "      <td>312</td>\n",
       "      <td>103</td>\n",
       "      <td>4</td>\n",
       "      <td>4.0</td>\n",
       "      <td>5.0</td>\n",
       "      <td>8.43</td>\n",
       "      <td>0</td>\n",
       "      <td>0.73</td>\n",
       "    </tr>\n",
       "    <tr>\n",
       "      <th>499</th>\n",
       "      <td>500</td>\n",
       "      <td>327</td>\n",
       "      <td>113</td>\n",
       "      <td>4</td>\n",
       "      <td>4.5</td>\n",
       "      <td>4.5</td>\n",
       "      <td>9.04</td>\n",
       "      <td>0</td>\n",
       "      <td>0.84</td>\n",
       "    </tr>\n",
       "  </tbody>\n",
       "</table>\n",
       "<p>500 rows × 9 columns</p>\n",
       "</div>"
      ],
      "text/plain": [
       "     Serial No.  GRE Score  TOEFL Score  University Rating  SOP  LOR   CGPA  \\\n",
       "0             1        337          118                  4  4.5   4.5  9.65   \n",
       "1             2        324          107                  4  4.0   4.5  8.87   \n",
       "2             3        316          104                  3  3.0   3.5  8.00   \n",
       "3             4        322          110                  3  3.5   2.5  8.67   \n",
       "4             5        314          103                  2  2.0   3.0  8.21   \n",
       "..          ...        ...          ...                ...  ...   ...   ...   \n",
       "495         496        332          108                  5  4.5   4.0  9.02   \n",
       "496         497        337          117                  5  5.0   5.0  9.87   \n",
       "497         498        330          120                  5  4.5   5.0  9.56   \n",
       "498         499        312          103                  4  4.0   5.0  8.43   \n",
       "499         500        327          113                  4  4.5   4.5  9.04   \n",
       "\n",
       "     Research  Chance of Admit   \n",
       "0           1              0.92  \n",
       "1           1              0.76  \n",
       "2           1              0.72  \n",
       "3           1              0.80  \n",
       "4           0              0.65  \n",
       "..        ...               ...  \n",
       "495         1              0.87  \n",
       "496         1              0.96  \n",
       "497         1              0.93  \n",
       "498         0              0.73  \n",
       "499         0              0.84  \n",
       "\n",
       "[500 rows x 9 columns]"
      ]
     },
     "execution_count": 2,
     "metadata": {},
     "output_type": "execute_result"
    }
   ],
   "source": [
    "df=pd.read_csv('/kaggle/input/graduate-admissions/Admission_Predict_Ver1.1.csv')\n",
    "df"
   ]
  },
  {
   "cell_type": "code",
   "execution_count": 3,
   "metadata": {
    "execution": {
     "iopub.execute_input": "2024-02-04T04:11:52.175104Z",
     "iopub.status.busy": "2024-02-04T04:11:52.174811Z",
     "iopub.status.idle": "2024-02-04T04:11:52.182172Z",
     "shell.execute_reply": "2024-02-04T04:11:52.181226Z",
     "shell.execute_reply.started": "2024-02-04T04:11:52.175074Z"
    }
   },
   "outputs": [
    {
     "data": {
      "text/plain": [
       "(500, 9)"
      ]
     },
     "execution_count": 3,
     "metadata": {},
     "output_type": "execute_result"
    }
   ],
   "source": [
    "df.shape"
   ]
  },
  {
   "cell_type": "code",
   "execution_count": null,
   "metadata": {
    "execution": {
     "iopub.execute_input": "2022-03-11T19:36:25.772118Z",
     "iopub.status.busy": "2022-03-11T19:36:25.771249Z",
     "iopub.status.idle": "2022-03-11T19:36:25.784121Z",
     "shell.execute_reply": "2022-03-11T19:36:25.783232Z",
     "shell.execute_reply.started": "2022-03-11T19:36:25.772072Z"
    }
   },
   "outputs": [],
   "source": [
    "df.info()"
   ]
  },
  {
   "cell_type": "code",
   "execution_count": null,
   "metadata": {
    "execution": {
     "iopub.execute_input": "2022-03-11T19:36:36.632484Z",
     "iopub.status.busy": "2022-03-11T19:36:36.632022Z",
     "iopub.status.idle": "2022-03-11T19:36:36.664754Z",
     "shell.execute_reply": "2022-03-11T19:36:36.664213Z",
     "shell.execute_reply.started": "2022-03-11T19:36:36.632452Z"
    }
   },
   "outputs": [],
   "source": [
    "df.describe()"
   ]
  },
  {
   "cell_type": "code",
   "execution_count": null,
   "metadata": {
    "execution": {
     "iopub.execute_input": "2022-03-11T20:01:09.491454Z",
     "iopub.status.busy": "2022-03-11T20:01:09.490576Z",
     "iopub.status.idle": "2022-03-11T20:01:09.496988Z",
     "shell.execute_reply": "2022-03-11T20:01:09.496146Z",
     "shell.execute_reply.started": "2022-03-11T20:01:09.491409Z"
    }
   },
   "outputs": [],
   "source": [
    "df.drop(columns=['Serial No.'],inplace=True)"
   ]
  },
  {
   "cell_type": "code",
   "execution_count": null,
   "metadata": {
    "execution": {
     "iopub.execute_input": "2022-03-11T20:01:58.045355Z",
     "iopub.status.busy": "2022-03-11T20:01:58.04462Z",
     "iopub.status.idle": "2022-03-11T20:01:58.05075Z",
     "shell.execute_reply": "2022-03-11T20:01:58.049828Z",
     "shell.execute_reply.started": "2022-03-11T20:01:58.045304Z"
    }
   },
   "outputs": [],
   "source": [
    "X=df.iloc[:,0:-1]\n",
    "y=df.iloc[:,-1]\n"
   ]
  },
  {
   "cell_type": "code",
   "execution_count": null,
   "metadata": {
    "execution": {
     "iopub.execute_input": "2022-03-11T20:02:47.381122Z",
     "iopub.status.busy": "2022-03-11T20:02:47.380793Z",
     "iopub.status.idle": "2022-03-11T20:02:47.388161Z",
     "shell.execute_reply": "2022-03-11T20:02:47.387347Z",
     "shell.execute_reply.started": "2022-03-11T20:02:47.381084Z"
    }
   },
   "outputs": [],
   "source": [
    "from sklearn.model_selection import train_test_split\n",
    "X_train,X_test,y_train,y_test=train_test_split(X,y,test_size=0.2,random_state=1)"
   ]
  },
  {
   "cell_type": "code",
   "execution_count": null,
   "metadata": {
    "execution": {
     "iopub.execute_input": "2022-03-11T20:03:44.285573Z",
     "iopub.status.busy": "2022-03-11T20:03:44.285263Z",
     "iopub.status.idle": "2022-03-11T20:03:44.29898Z",
     "shell.execute_reply": "2022-03-11T20:03:44.298061Z",
     "shell.execute_reply.started": "2022-03-11T20:03:44.285541Z"
    }
   },
   "outputs": [],
   "source": [
    "from sklearn.preprocessing  import  MinMaxScaler\n",
    "scaler=MinMaxScaler()\n",
    "X_train_scale=scaler.fit_transform(X_train)\n",
    "X_test_scale=scaler.transform(X_test)\n"
   ]
  },
  {
   "cell_type": "code",
   "execution_count": null,
   "metadata": {
    "execution": {
     "iopub.execute_input": "2022-03-11T20:03:52.161146Z",
     "iopub.status.busy": "2022-03-11T20:03:52.160848Z",
     "iopub.status.idle": "2022-03-11T20:03:52.179166Z",
     "shell.execute_reply": "2022-03-11T20:03:52.17826Z",
     "shell.execute_reply.started": "2022-03-11T20:03:52.161116Z"
    }
   },
   "outputs": [],
   "source": [
    "X_train"
   ]
  },
  {
   "cell_type": "code",
   "execution_count": null,
   "metadata": {
    "execution": {
     "iopub.execute_input": "2022-03-11T20:05:55.222161Z",
     "iopub.status.busy": "2022-03-11T20:05:55.221846Z",
     "iopub.status.idle": "2022-03-11T20:05:55.228533Z",
     "shell.execute_reply": "2022-03-11T20:05:55.227519Z",
     "shell.execute_reply.started": "2022-03-11T20:05:55.222127Z"
    }
   },
   "outputs": [],
   "source": [
    "from tensorflow import keras \n",
    "import tensorflow as tf  \n",
    "from tensorflow.keras.layers import Dense\n",
    "from keras import Sequential"
   ]
  },
  {
   "cell_type": "code",
   "execution_count": null,
   "metadata": {
    "execution": {
     "iopub.execute_input": "2022-03-11T20:11:41.548267Z",
     "iopub.status.busy": "2022-03-11T20:11:41.547939Z",
     "iopub.status.idle": "2022-03-11T20:11:41.58545Z",
     "shell.execute_reply": "2022-03-11T20:11:41.584656Z",
     "shell.execute_reply.started": "2022-03-11T20:11:41.548215Z"
    }
   },
   "outputs": [],
   "source": [
    "model=Sequential()\n",
    "model.add(Dense(7,activation ='relu',input_dim=7))\n",
    "model.add(Dense(7,activation='relu'))\n",
    "model.add(Dense(1,activation='linear'))\n",
    "model.summary()"
   ]
  },
  {
   "cell_type": "code",
   "execution_count": null,
   "metadata": {
    "execution": {
     "iopub.execute_input": "2022-03-11T20:12:25.113194Z",
     "iopub.status.busy": "2022-03-11T20:12:25.112511Z",
     "iopub.status.idle": "2022-03-11T20:12:25.124181Z",
     "shell.execute_reply": "2022-03-11T20:12:25.123341Z",
     "shell.execute_reply.started": "2022-03-11T20:12:25.113153Z"
    }
   },
   "outputs": [],
   "source": [
    "model.compile(loss='mean_squared_error',optimizer='Adam',)"
   ]
  },
  {
   "cell_type": "code",
   "execution_count": null,
   "metadata": {
    "execution": {
     "iopub.execute_input": "2022-03-11T20:12:25.974328Z",
     "iopub.status.busy": "2022-03-11T20:12:25.97406Z",
     "iopub.status.idle": "2022-03-11T20:12:27.841356Z",
     "shell.execute_reply": "2022-03-11T20:12:27.84037Z",
     "shell.execute_reply.started": "2022-03-11T20:12:25.974298Z"
    }
   },
   "outputs": [],
   "source": [
    "history= model.fit(X_train_scale,y_train,validation_split=0.2,epochs=25)"
   ]
  },
  {
   "cell_type": "code",
   "execution_count": null,
   "metadata": {
    "execution": {
     "iopub.execute_input": "2022-03-11T20:12:29.191387Z",
     "iopub.status.busy": "2022-03-11T20:12:29.190623Z",
     "iopub.status.idle": "2022-03-11T20:12:29.297748Z",
     "shell.execute_reply": "2022-03-11T20:12:29.296751Z",
     "shell.execute_reply.started": "2022-03-11T20:12:29.191342Z"
    }
   },
   "outputs": [],
   "source": [
    "y_pred=model.predict(X_test_scale)\n"
   ]
  },
  {
   "cell_type": "code",
   "execution_count": null,
   "metadata": {
    "execution": {
     "iopub.execute_input": "2022-03-11T20:12:29.96732Z",
     "iopub.status.busy": "2022-03-11T20:12:29.967026Z",
     "iopub.status.idle": "2022-03-11T20:12:29.974631Z",
     "shell.execute_reply": "2022-03-11T20:12:29.974012Z",
     "shell.execute_reply.started": "2022-03-11T20:12:29.967289Z"
    }
   },
   "outputs": [],
   "source": [
    "from sklearn.metrics import r2_score\n",
    "r2_score(y_pred,y_test)"
   ]
  },
  {
   "cell_type": "code",
   "execution_count": null,
   "metadata": {
    "execution": {
     "iopub.execute_input": "2022-03-11T20:12:32.314635Z",
     "iopub.status.busy": "2022-03-11T20:12:32.31385Z",
     "iopub.status.idle": "2022-03-11T20:12:32.523432Z",
     "shell.execute_reply": "2022-03-11T20:12:32.522542Z",
     "shell.execute_reply.started": "2022-03-11T20:12:32.314594Z"
    }
   },
   "outputs": [],
   "source": [
    "import matplotlib.pyplot as plt  \n",
    "plt.plot(history.history['loss'])\n",
    "plt.plot(history.history['val_loss'])"
   ]
  },
  {
   "cell_type": "code",
   "execution_count": null,
   "metadata": {
    "execution": {
     "iopub.execute_input": "2022-03-11T20:12:36.053829Z",
     "iopub.status.busy": "2022-03-11T20:12:36.053341Z",
     "iopub.status.idle": "2022-03-11T20:12:36.334774Z",
     "shell.execute_reply": "2022-03-11T20:12:36.333658Z",
     "shell.execute_reply.started": "2022-03-11T20:12:36.053774Z"
    }
   },
   "outputs": [],
   "source": [
    "plt.plot(history.history['accuracy'])\n",
    "plt.plot(history.history['val_accuracy'])"
   ]
  },
  {
   "cell_type": "code",
   "execution_count": null,
   "metadata": {
    "execution": {
     "iopub.execute_input": "2022-03-11T20:12:49.792669Z",
     "iopub.status.busy": "2022-03-11T20:12:49.792069Z",
     "iopub.status.idle": "2022-03-11T20:12:49.800211Z",
     "shell.execute_reply": "2022-03-11T20:12:49.799108Z",
     "shell.execute_reply.started": "2022-03-11T20:12:49.792614Z"
    }
   },
   "outputs": [],
   "source": [
    "history.history"
   ]
  },
  {
   "cell_type": "code",
   "execution_count": null,
   "metadata": {
    "execution": {
     "iopub.execute_input": "2022-03-11T20:09:54.62357Z",
     "iopub.status.busy": "2022-03-11T20:09:54.623003Z",
     "iopub.status.idle": "2022-03-11T20:09:54.630463Z",
     "shell.execute_reply": "2022-03-11T20:09:54.629466Z",
     "shell.execute_reply.started": "2022-03-11T20:09:54.623533Z"
    }
   },
   "outputs": [],
   "source": []
  }
 ],
 "metadata": {
  "kaggle": {
   "accelerator": "none",
   "dataSources": [
    {
     "datasetId": 14872,
     "sourceId": 228180,
     "sourceType": "datasetVersion"
    }
   ],
   "dockerImageVersionId": 30170,
   "isGpuEnabled": false,
   "isInternetEnabled": false,
   "language": "python",
   "sourceType": "notebook"
  },
  "kernelspec": {
   "display_name": "Python 3 (ipykernel)",
   "language": "python",
   "name": "python3"
  },
  "language_info": {
   "codemirror_mode": {
    "name": "ipython",
    "version": 3
   },
   "file_extension": ".py",
   "mimetype": "text/x-python",
   "name": "python",
   "nbconvert_exporter": "python",
   "pygments_lexer": "ipython3",
   "version": "3.8.18"
  },
  "varInspector": {
   "cols": {
    "lenName": 16,
    "lenType": 16,
    "lenVar": 40
   },
   "kernels_config": {
    "python": {
     "delete_cmd_postfix": "",
     "delete_cmd_prefix": "del ",
     "library": "var_list.py",
     "varRefreshCmd": "print(var_dic_list())"
    },
    "r": {
     "delete_cmd_postfix": ") ",
     "delete_cmd_prefix": "rm(",
     "library": "var_list.r",
     "varRefreshCmd": "cat(var_dic_list()) "
    }
   },
   "types_to_exclude": [
    "module",
    "function",
    "builtin_function_or_method",
    "instance",
    "_Feature"
   ],
   "window_display": false
  }
 },
 "nbformat": 4,
 "nbformat_minor": 4
}
